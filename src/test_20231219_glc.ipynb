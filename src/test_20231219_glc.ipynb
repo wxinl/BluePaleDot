{
 "cells": [
  {
   "cell_type": "code",
   "execution_count": 1,
   "metadata": {},
   "outputs": [],
   "source": [
    "import pandas as pd\n",
    "import geopandas as gpd\n",
    "from h3_utils import *\n",
    "import h3\n",
    "import h3pandas\n",
    "\n",
    "import ee\n",
    "ee.Initialize()\n",
    "\n",
    "import geemap"
   ]
  },
  {
   "cell_type": "code",
   "execution_count": 2,
   "metadata": {},
   "outputs": [
    {
     "data": {
      "text/html": [
       "\n",
       "            <style>\n",
       "                .geemap-dark {\n",
       "                    --jp-widgets-color: white;\n",
       "                    --jp-widgets-label-color: white;\n",
       "                    --jp-ui-font-color1: white;\n",
       "                    --jp-layout-color2: #454545;\n",
       "                    background-color: #383838;\n",
       "                }\n",
       "                    \n",
       "                .geemap-dark .jupyter-button {\n",
       "                    --jp-layout-color3: #383838;\n",
       "                }\n",
       "                \n",
       "                .geemap-colab {\n",
       "                    background-color: var(--colab-primary-surface-color, white);\n",
       "                }\n",
       "                    \n",
       "                .geemap-colab .jupyter-button {\n",
       "                    --jp-layout-color3: var(--colab-primary-surface-color, white);\n",
       "                }\n",
       "            </style>\n",
       "            "
      ],
      "text/plain": [
       "<IPython.core.display.HTML object>"
      ]
     },
     "metadata": {},
     "output_type": "display_data"
    }
   ],
   "source": [
    "nga = gpd.read_file(r'..\\data\\Nigeria_-_State_Boundaries.zip')"
   ]
  },
  {
   "cell_type": "code",
   "execution_count": 3,
   "metadata": {},
   "outputs": [
    {
     "data": {
      "text/html": [
       "\n",
       "            <style>\n",
       "                .geemap-dark {\n",
       "                    --jp-widgets-color: white;\n",
       "                    --jp-widgets-label-color: white;\n",
       "                    --jp-ui-font-color1: white;\n",
       "                    --jp-layout-color2: #454545;\n",
       "                    background-color: #383838;\n",
       "                }\n",
       "                    \n",
       "                .geemap-dark .jupyter-button {\n",
       "                    --jp-layout-color3: #383838;\n",
       "                }\n",
       "                \n",
       "                .geemap-colab {\n",
       "                    background-color: var(--colab-primary-surface-color, white);\n",
       "                }\n",
       "                    \n",
       "                .geemap-colab .jupyter-button {\n",
       "                    --jp-layout-color3: var(--colab-primary-surface-color, white);\n",
       "                }\n",
       "            </style>\n",
       "            "
      ],
      "text/plain": [
       "<IPython.core.display.HTML object>"
      ]
     },
     "metadata": {},
     "output_type": "display_data"
    }
   ],
   "source": [
    "ss = ['Abia', 'Anambra', 'Ebonyi', 'Enugu', 'Imo']"
   ]
  },
  {
   "cell_type": "code",
   "execution_count": 4,
   "metadata": {},
   "outputs": [
    {
     "data": {
      "text/html": [
       "\n",
       "            <style>\n",
       "                .geemap-dark {\n",
       "                    --jp-widgets-color: white;\n",
       "                    --jp-widgets-label-color: white;\n",
       "                    --jp-ui-font-color1: white;\n",
       "                    --jp-layout-color2: #454545;\n",
       "                    background-color: #383838;\n",
       "                }\n",
       "                    \n",
       "                .geemap-dark .jupyter-button {\n",
       "                    --jp-layout-color3: #383838;\n",
       "                }\n",
       "                \n",
       "                .geemap-colab {\n",
       "                    background-color: var(--colab-primary-surface-color, white);\n",
       "                }\n",
       "                    \n",
       "                .geemap-colab .jupyter-button {\n",
       "                    --jp-layout-color3: var(--colab-primary-surface-color, white);\n",
       "                }\n",
       "            </style>\n",
       "            "
      ],
      "text/plain": [
       "<IPython.core.display.HTML object>"
      ]
     },
     "metadata": {},
     "output_type": "display_data"
    }
   ],
   "source": [
    "south_states = nga[nga['statename'].isin(ss)]"
   ]
  },
  {
   "cell_type": "code",
   "execution_count": 6,
   "metadata": {},
   "outputs": [
    {
     "data": {
      "text/html": [
       "\n",
       "            <style>\n",
       "                .geemap-dark {\n",
       "                    --jp-widgets-color: white;\n",
       "                    --jp-widgets-label-color: white;\n",
       "                    --jp-ui-font-color1: white;\n",
       "                    --jp-layout-color2: #454545;\n",
       "                    background-color: #383838;\n",
       "                }\n",
       "                    \n",
       "                .geemap-dark .jupyter-button {\n",
       "                    --jp-layout-color3: #383838;\n",
       "                }\n",
       "                \n",
       "                .geemap-colab {\n",
       "                    background-color: var(--colab-primary-surface-color, white);\n",
       "                }\n",
       "                    \n",
       "                .geemap-colab .jupyter-button {\n",
       "                    --jp-layout-color3: var(--colab-primary-surface-color, white);\n",
       "                }\n",
       "            </style>\n",
       "            "
      ],
      "text/plain": [
       "<IPython.core.display.HTML object>"
      ]
     },
     "metadata": {},
     "output_type": "display_data"
    }
   ],
   "source": [
    "africapolis = gpd.read_file(r'../data/AFRICAPOLIS2020.zip')"
   ]
  },
  {
   "cell_type": "code",
   "execution_count": 8,
   "metadata": {},
   "outputs": [
    {
     "data": {
      "text/html": [
       "\n",
       "            <style>\n",
       "                .geemap-dark {\n",
       "                    --jp-widgets-color: white;\n",
       "                    --jp-widgets-label-color: white;\n",
       "                    --jp-ui-font-color1: white;\n",
       "                    --jp-layout-color2: #454545;\n",
       "                    background-color: #383838;\n",
       "                }\n",
       "                    \n",
       "                .geemap-dark .jupyter-button {\n",
       "                    --jp-layout-color3: #383838;\n",
       "                }\n",
       "                \n",
       "                .geemap-colab {\n",
       "                    background-color: var(--colab-primary-surface-color, white);\n",
       "                }\n",
       "                    \n",
       "                .geemap-colab .jupyter-button {\n",
       "                    --jp-layout-color3: var(--colab-primary-surface-color, white);\n",
       "                }\n",
       "            </style>\n",
       "            "
      ],
      "text/plain": [
       "<IPython.core.display.HTML object>"
      ]
     },
     "metadata": {},
     "output_type": "display_data"
    }
   ],
   "source": [
    "south_states_gee = geemap.gdf_to_ee(south_states)"
   ]
  },
  {
   "cell_type": "code",
   "execution_count": 11,
   "metadata": {},
   "outputs": [
    {
     "data": {
      "text/html": [
       "\n",
       "            <style>\n",
       "                .geemap-dark {\n",
       "                    --jp-widgets-color: white;\n",
       "                    --jp-widgets-label-color: white;\n",
       "                    --jp-ui-font-color1: white;\n",
       "                    --jp-layout-color2: #454545;\n",
       "                    background-color: #383838;\n",
       "                }\n",
       "                    \n",
       "                .geemap-dark .jupyter-button {\n",
       "                    --jp-layout-color3: #383838;\n",
       "                }\n",
       "                \n",
       "                .geemap-colab {\n",
       "                    background-color: var(--colab-primary-surface-color, white);\n",
       "                }\n",
       "                    \n",
       "                .geemap-colab .jupyter-button {\n",
       "                    --jp-layout-color3: var(--colab-primary-surface-color, white);\n",
       "                }\n",
       "            </style>\n",
       "            "
      ],
      "text/plain": [
       "<IPython.core.display.HTML object>"
      ]
     },
     "metadata": {},
     "output_type": "display_data"
    },
    {
     "name": "stdout",
     "output_type": "stream",
     "text": [
      "Starting...\n",
      "Done\n",
      "Generating hex at level 8\n",
      "Done\n"
     ]
    }
   ],
   "source": [
    "hex8 = hex_generator(south_states,8)"
   ]
  },
  {
   "cell_type": "code",
   "execution_count": 21,
   "metadata": {},
   "outputs": [
    {
     "data": {
      "text/html": [
       "\n",
       "            <style>\n",
       "                .geemap-dark {\n",
       "                    --jp-widgets-color: white;\n",
       "                    --jp-widgets-label-color: white;\n",
       "                    --jp-ui-font-color1: white;\n",
       "                    --jp-layout-color2: #454545;\n",
       "                    background-color: #383838;\n",
       "                }\n",
       "                    \n",
       "                .geemap-dark .jupyter-button {\n",
       "                    --jp-layout-color3: #383838;\n",
       "                }\n",
       "                \n",
       "                .geemap-colab {\n",
       "                    background-color: var(--colab-primary-surface-color, white);\n",
       "                }\n",
       "                    \n",
       "                .geemap-colab .jupyter-button {\n",
       "                    --jp-layout-color3: var(--colab-primary-surface-color, white);\n",
       "                }\n",
       "            </style>\n",
       "            "
      ],
      "text/plain": [
       "<IPython.core.display.HTML object>"
      ]
     },
     "metadata": {},
     "output_type": "display_data"
    }
   ],
   "source": [
    "glc = ee.ImageCollection('projects/glad/GLCmap2019').filterBounds(south_states_gee).mosaic()"
   ]
  },
  {
   "cell_type": "code",
   "execution_count": 22,
   "metadata": {},
   "outputs": [
    {
     "data": {
      "text/html": [
       "\n",
       "            <style>\n",
       "                .geemap-dark {\n",
       "                    --jp-widgets-color: white;\n",
       "                    --jp-widgets-label-color: white;\n",
       "                    --jp-ui-font-color1: white;\n",
       "                    --jp-layout-color2: #454545;\n",
       "                    background-color: #383838;\n",
       "                }\n",
       "                    \n",
       "                .geemap-dark .jupyter-button {\n",
       "                    --jp-layout-color3: #383838;\n",
       "                }\n",
       "                \n",
       "                .geemap-colab {\n",
       "                    background-color: var(--colab-primary-surface-color, white);\n",
       "                }\n",
       "                    \n",
       "                .geemap-colab .jupyter-button {\n",
       "                    --jp-layout-color3: var(--colab-primary-surface-color, white);\n",
       "                }\n",
       "            </style>\n",
       "            "
      ],
      "text/plain": [
       "<IPython.core.display.HTML object>"
      ]
     },
     "metadata": {},
     "output_type": "display_data"
    }
   ],
   "source": [
    "hexagons_gee_list = []\n",
    "if hex8.shape[0]>1000:\n",
    "    chunks = int(np.ceil(hex8.shape[0]/1000))\n",
    "\n",
    "    for i in range(1,chunks+1):\n",
    "        if i!=chunks:\n",
    "            temp = hex8.iloc[(i-1)*1000:i*1000]\n",
    "            hexagons_gee_list.append(geemap.gdf_to_ee(temp))\n",
    "        \n",
    "        if i==chunks:\n",
    "            temp = hex8.iloc[(i-1)*1000:]\n",
    "            hexagons_gee_list.append(geemap.gdf_to_ee(temp))\n",
    "\n",
    "else:\n",
    "    hexagons_gee_list.append(geemap.gdf_to_ee(hex8))\n",
    "\n"
   ]
  },
  {
   "cell_type": "code",
   "execution_count": 23,
   "metadata": {},
   "outputs": [
    {
     "data": {
      "text/html": [
       "\n",
       "            <style>\n",
       "                .geemap-dark {\n",
       "                    --jp-widgets-color: white;\n",
       "                    --jp-widgets-label-color: white;\n",
       "                    --jp-ui-font-color1: white;\n",
       "                    --jp-layout-color2: #454545;\n",
       "                    background-color: #383838;\n",
       "                }\n",
       "                    \n",
       "                .geemap-dark .jupyter-button {\n",
       "                    --jp-layout-color3: #383838;\n",
       "                }\n",
       "                \n",
       "                .geemap-colab {\n",
       "                    background-color: var(--colab-primary-surface-color, white);\n",
       "                }\n",
       "                    \n",
       "                .geemap-colab .jupyter-button {\n",
       "                    --jp-layout-color3: var(--colab-primary-surface-color, white);\n",
       "                }\n",
       "            </style>\n",
       "            "
      ],
      "text/plain": [
       "<IPython.core.display.HTML object>"
      ]
     },
     "metadata": {},
     "output_type": "display_data"
    },
    {
     "data": {
      "text/plain": [
       "47"
      ]
     },
     "execution_count": 23,
     "metadata": {},
     "output_type": "execute_result"
    }
   ],
   "source": [
    "len(hexagons_gee_list)"
   ]
  },
  {
   "cell_type": "code",
   "execution_count": 25,
   "metadata": {},
   "outputs": [
    {
     "data": {
      "text/html": [
       "\n",
       "            <style>\n",
       "                .geemap-dark {\n",
       "                    --jp-widgets-color: white;\n",
       "                    --jp-widgets-label-color: white;\n",
       "                    --jp-ui-font-color1: white;\n",
       "                    --jp-layout-color2: #454545;\n",
       "                    background-color: #383838;\n",
       "                }\n",
       "                    \n",
       "                .geemap-dark .jupyter-button {\n",
       "                    --jp-layout-color3: #383838;\n",
       "                }\n",
       "                \n",
       "                .geemap-colab {\n",
       "                    background-color: var(--colab-primary-surface-color, white);\n",
       "                }\n",
       "                    \n",
       "                .geemap-colab .jupyter-button {\n",
       "                    --jp-layout-color3: var(--colab-primary-surface-color, white);\n",
       "                }\n",
       "            </style>\n",
       "            "
      ],
      "text/plain": [
       "<IPython.core.display.HTML object>"
      ]
     },
     "metadata": {},
     "output_type": "display_data"
    },
    {
     "name": "stdout",
     "output_type": "stream",
     "text": [
      "Start GEE\n",
      "Computing statistics ...\n",
      "Generating URL ...\n",
      "Downloading data from https://earthengine.googleapis.com/v1/projects/earthengine-legacy/tables/433733312610c89de72ff3f241a80ec9-1a9bc1cf3dc9664837715dd9ac4aed05:getFeatures\n",
      "Please wait ...\n",
      "Data downloaded to d:\\GitHub\\BluePaleDot\\data\\glc\\hex8\\hex8_lc_0.csv\n",
      "Computing statistics ...\n",
      "Generating URL ...\n",
      "Downloading data from https://earthengine.googleapis.com/v1/projects/earthengine-legacy/tables/ebb38cbe28aa43d86014ed2140aa500d-a1c4a917151b7f55df45c2250c117f46:getFeatures\n",
      "Please wait ...\n",
      "Data downloaded to d:\\GitHub\\BluePaleDot\\data\\glc\\hex8\\hex8_lc_1.csv\n",
      "Computing statistics ...\n",
      "Generating URL ...\n",
      "Downloading data from https://earthengine.googleapis.com/v1/projects/earthengine-legacy/tables/7aa973dec9ded8b45dc4fd6524a2555e-6cc0a9a93133d295fb8aa5a6a0db57f3:getFeatures\n",
      "Please wait ...\n",
      "Data downloaded to d:\\GitHub\\BluePaleDot\\data\\glc\\hex8\\hex8_lc_2.csv\n",
      "Computing statistics ...\n",
      "Generating URL ...\n",
      "Downloading data from https://earthengine.googleapis.com/v1/projects/earthengine-legacy/tables/882f8322b108c2b9512ce56b677c72dc-fdd20f2087088e817286feb76008ef35:getFeatures\n",
      "Please wait ...\n",
      "Data downloaded to d:\\GitHub\\BluePaleDot\\data\\glc\\hex8\\hex8_lc_3.csv\n",
      "Computing statistics ...\n",
      "Generating URL ...\n",
      "Downloading data from https://earthengine.googleapis.com/v1/projects/earthengine-legacy/tables/e8be2d0454cf6f331fea1b5fba7d3dde-5592c28bb937c3e66f9b670b69dc61b4:getFeatures\n",
      "Please wait ...\n",
      "Data downloaded to d:\\GitHub\\BluePaleDot\\data\\glc\\hex8\\hex8_lc_4.csv\n",
      "Computing statistics ...\n",
      "Generating URL ...\n",
      "Downloading data from https://earthengine.googleapis.com/v1/projects/earthengine-legacy/tables/b8873a2a0831cd5376068c682c2c5bc1-0797902e83d6da3177b0c0d00ad28328:getFeatures\n",
      "Please wait ...\n",
      "Data downloaded to d:\\GitHub\\BluePaleDot\\data\\glc\\hex8\\hex8_lc_5.csv\n",
      "Computing statistics ...\n",
      "Generating URL ...\n",
      "Downloading data from https://earthengine.googleapis.com/v1/projects/earthengine-legacy/tables/1bd6402131004452daf938d02da1af58-6926bd0aaf97ab8e11520085074267a1:getFeatures\n",
      "Please wait ...\n",
      "Data downloaded to d:\\GitHub\\BluePaleDot\\data\\glc\\hex8\\hex8_lc_6.csv\n",
      "Computing statistics ...\n",
      "Generating URL ...\n",
      "Downloading data from https://earthengine.googleapis.com/v1/projects/earthengine-legacy/tables/9d00573ef64f2b7b8525b57de31d623f-88700862aa7e8b40178b44304d096e8f:getFeatures\n",
      "Please wait ...\n",
      "Data downloaded to d:\\GitHub\\BluePaleDot\\data\\glc\\hex8\\hex8_lc_7.csv\n",
      "Computing statistics ...\n",
      "Generating URL ...\n",
      "Downloading data from https://earthengine.googleapis.com/v1/projects/earthengine-legacy/tables/25d0dc53adf8402633e601d72590ff31-a4211cee7ca2ea4c1c396adb5c2b643e:getFeatures\n",
      "Please wait ...\n",
      "Data downloaded to d:\\GitHub\\BluePaleDot\\data\\glc\\hex8\\hex8_lc_8.csv\n",
      "Computing statistics ...\n",
      "Generating URL ...\n",
      "Downloading data from https://earthengine.googleapis.com/v1/projects/earthengine-legacy/tables/fe48d53cad06d5010b64dc851f811b12-69e7fa8863a36bf7d3ed94325c6d9e35:getFeatures\n",
      "Please wait ...\n",
      "Data downloaded to d:\\GitHub\\BluePaleDot\\data\\glc\\hex8\\hex8_lc_9.csv\n",
      "Computing statistics ...\n",
      "Generating URL ...\n",
      "Downloading data from https://earthengine.googleapis.com/v1/projects/earthengine-legacy/tables/5e5e0cabadd2a9c202daf5bcb33865c2-faf20d5f9b8ca9ad6eb3209d52445d33:getFeatures\n",
      "Please wait ...\n",
      "Data downloaded to d:\\GitHub\\BluePaleDot\\data\\glc\\hex8\\hex8_lc_10.csv\n",
      "Computing statistics ...\n",
      "Generating URL ...\n",
      "Downloading data from https://earthengine.googleapis.com/v1/projects/earthengine-legacy/tables/3163ca29938d81b1f0e3311adb5c6976-fe118a834a0c0edb1247b19d4ff6cf3a:getFeatures\n",
      "Please wait ...\n",
      "Data downloaded to d:\\GitHub\\BluePaleDot\\data\\glc\\hex8\\hex8_lc_11.csv\n",
      "Computing statistics ...\n",
      "Generating URL ...\n",
      "Downloading data from https://earthengine.googleapis.com/v1/projects/earthengine-legacy/tables/0a7c1dfa58a3e1dd17256c87a5e0a45b-f4938794a1186ebfdb39a25c532bda6e:getFeatures\n",
      "Please wait ...\n",
      "Data downloaded to d:\\GitHub\\BluePaleDot\\data\\glc\\hex8\\hex8_lc_12.csv\n",
      "Computing statistics ...\n",
      "Generating URL ...\n",
      "Downloading data from https://earthengine.googleapis.com/v1/projects/earthengine-legacy/tables/67e8819b4559002e57cfd47e75b4cc1c-0f998de71f2f65879eae00c61e0c45f9:getFeatures\n",
      "Please wait ...\n",
      "Data downloaded to d:\\GitHub\\BluePaleDot\\data\\glc\\hex8\\hex8_lc_13.csv\n",
      "Computing statistics ...\n",
      "Generating URL ...\n",
      "Downloading data from https://earthengine.googleapis.com/v1/projects/earthengine-legacy/tables/a206afde731e9dee412db7b92dde8ec9-29058bef68a7d408b814eef33f6ce372:getFeatures\n",
      "Please wait ...\n",
      "Data downloaded to d:\\GitHub\\BluePaleDot\\data\\glc\\hex8\\hex8_lc_14.csv\n",
      "Computing statistics ...\n",
      "Generating URL ...\n",
      "Downloading data from https://earthengine.googleapis.com/v1/projects/earthengine-legacy/tables/0e8fb0bcfdb0aeda7cb01ec7e2145d45-d5d4cd098f99309feacbfaa345a37166:getFeatures\n",
      "Please wait ...\n",
      "Data downloaded to d:\\GitHub\\BluePaleDot\\data\\glc\\hex8\\hex8_lc_15.csv\n",
      "Computing statistics ...\n",
      "Generating URL ...\n",
      "Downloading data from https://earthengine.googleapis.com/v1/projects/earthengine-legacy/tables/46015665a9123e8445f077173351e304-3cde85b601dafe94c8a32065cb3e678e:getFeatures\n",
      "Please wait ...\n",
      "Data downloaded to d:\\GitHub\\BluePaleDot\\data\\glc\\hex8\\hex8_lc_16.csv\n",
      "Computing statistics ...\n",
      "Generating URL ...\n",
      "Downloading data from https://earthengine.googleapis.com/v1/projects/earthengine-legacy/tables/461d1d4040bc0176e3c6ed2222fa47e1-fbea33710ebe799bb3966081cffb1712:getFeatures\n",
      "Please wait ...\n",
      "Data downloaded to d:\\GitHub\\BluePaleDot\\data\\glc\\hex8\\hex8_lc_17.csv\n",
      "Computing statistics ...\n",
      "Generating URL ...\n",
      "Downloading data from https://earthengine.googleapis.com/v1/projects/earthengine-legacy/tables/cf861bf23641ef6710d5151e9296dbea-f398ea7a0c70134767164eec8cc59e4b:getFeatures\n",
      "Please wait ...\n",
      "Data downloaded to d:\\GitHub\\BluePaleDot\\data\\glc\\hex8\\hex8_lc_18.csv\n",
      "Computing statistics ...\n",
      "Generating URL ...\n",
      "Downloading data from https://earthengine.googleapis.com/v1/projects/earthengine-legacy/tables/690ef2e9b0a3f1b3b3aa53e01b166ae1-b2e07e1c7bbce34afd7792b7f6e5ba4f:getFeatures\n",
      "Please wait ...\n",
      "Data downloaded to d:\\GitHub\\BluePaleDot\\data\\glc\\hex8\\hex8_lc_19.csv\n",
      "Computing statistics ...\n",
      "Generating URL ...\n",
      "Downloading data from https://earthengine.googleapis.com/v1/projects/earthengine-legacy/tables/0134584b28618bdd979f14eadc744bb6-3b068af06dcadf37167ce6abe3dd407e:getFeatures\n",
      "Please wait ...\n",
      "Data downloaded to d:\\GitHub\\BluePaleDot\\data\\glc\\hex8\\hex8_lc_20.csv\n",
      "Computing statistics ...\n",
      "Generating URL ...\n",
      "Downloading data from https://earthengine.googleapis.com/v1/projects/earthengine-legacy/tables/167064a6b5a580370daa61eae35fa961-564fd536c0c07e2a2e73b18f67244488:getFeatures\n",
      "Please wait ...\n",
      "Data downloaded to d:\\GitHub\\BluePaleDot\\data\\glc\\hex8\\hex8_lc_21.csv\n",
      "Computing statistics ...\n",
      "Generating URL ...\n",
      "Downloading data from https://earthengine.googleapis.com/v1/projects/earthengine-legacy/tables/b928d7c108adfb41e19a0c5367cf728c-7884f4e77c64177eb4b6dcb0bcba9f49:getFeatures\n",
      "Please wait ...\n",
      "Data downloaded to d:\\GitHub\\BluePaleDot\\data\\glc\\hex8\\hex8_lc_22.csv\n",
      "Computing statistics ...\n",
      "Generating URL ...\n",
      "Downloading data from https://earthengine.googleapis.com/v1/projects/earthengine-legacy/tables/77c20899c830c4cde45621420338a09f-dc492841702d6683b2d0f171b4969798:getFeatures\n",
      "Please wait ...\n",
      "Data downloaded to d:\\GitHub\\BluePaleDot\\data\\glc\\hex8\\hex8_lc_23.csv\n",
      "Computing statistics ...\n",
      "Generating URL ...\n",
      "Downloading data from https://earthengine.googleapis.com/v1/projects/earthengine-legacy/tables/2f724412532845aee3d01d94bd4e0a40-c4ba3c601688d9d27bd7ece4390384d1:getFeatures\n",
      "Please wait ...\n",
      "Data downloaded to d:\\GitHub\\BluePaleDot\\data\\glc\\hex8\\hex8_lc_24.csv\n",
      "Computing statistics ...\n",
      "Generating URL ...\n",
      "Downloading data from https://earthengine.googleapis.com/v1/projects/earthengine-legacy/tables/b36d112a9cc34e9c7bd63778ab667245-8365d78ed78e51b15a4d58d092fb2cbb:getFeatures\n",
      "Please wait ...\n",
      "Data downloaded to d:\\GitHub\\BluePaleDot\\data\\glc\\hex8\\hex8_lc_25.csv\n",
      "Computing statistics ...\n",
      "Generating URL ...\n",
      "Downloading data from https://earthengine.googleapis.com/v1/projects/earthengine-legacy/tables/9b753ca4a72a4aa3cf19d32252ebc55c-3a7d9482184fd171a50808756b031495:getFeatures\n",
      "Please wait ...\n",
      "Data downloaded to d:\\GitHub\\BluePaleDot\\data\\glc\\hex8\\hex8_lc_26.csv\n",
      "Computing statistics ...\n",
      "Generating URL ...\n",
      "Downloading data from https://earthengine.googleapis.com/v1/projects/earthengine-legacy/tables/a3411859d5a4a505c20d393299966d06-1e166db6cbead9526aa9f816b8850d35:getFeatures\n",
      "Please wait ...\n",
      "Data downloaded to d:\\GitHub\\BluePaleDot\\data\\glc\\hex8\\hex8_lc_27.csv\n",
      "Computing statistics ...\n",
      "Generating URL ...\n",
      "Downloading data from https://earthengine.googleapis.com/v1/projects/earthengine-legacy/tables/7c6dc9ccbcda11fa177ced7d968a89ea-2399e4354def77553e75d906ca9a77d7:getFeatures\n",
      "Please wait ...\n",
      "Data downloaded to d:\\GitHub\\BluePaleDot\\data\\glc\\hex8\\hex8_lc_28.csv\n",
      "Computing statistics ...\n",
      "Generating URL ...\n",
      "Downloading data from https://earthengine.googleapis.com/v1/projects/earthengine-legacy/tables/734444c2f81c11ec562749b28d86ca5e-f1efce234ad96226b4bd3c63feac21ee:getFeatures\n",
      "Please wait ...\n",
      "Data downloaded to d:\\GitHub\\BluePaleDot\\data\\glc\\hex8\\hex8_lc_29.csv\n",
      "Computing statistics ...\n",
      "Generating URL ...\n",
      "Downloading data from https://earthengine.googleapis.com/v1/projects/earthengine-legacy/tables/823a857a05c1ffbbded1583114d92bc4-112d68781d620b2021914f5ea2276a9f:getFeatures\n",
      "Please wait ...\n",
      "Data downloaded to d:\\GitHub\\BluePaleDot\\data\\glc\\hex8\\hex8_lc_30.csv\n",
      "Computing statistics ...\n",
      "Generating URL ...\n",
      "Downloading data from https://earthengine.googleapis.com/v1/projects/earthengine-legacy/tables/9ca9a140f9e1f87dc381696b3198f756-5aeb8255f5e51dece9e0085fa421f1e9:getFeatures\n",
      "Please wait ...\n",
      "Data downloaded to d:\\GitHub\\BluePaleDot\\data\\glc\\hex8\\hex8_lc_31.csv\n",
      "Computing statistics ...\n",
      "Generating URL ...\n",
      "Downloading data from https://earthengine.googleapis.com/v1/projects/earthengine-legacy/tables/37d68db5c4aa7a60236ceef5fb6a13d0-e7a042e3d403a4c1321c14e552cd319e:getFeatures\n",
      "Please wait ...\n",
      "Data downloaded to d:\\GitHub\\BluePaleDot\\data\\glc\\hex8\\hex8_lc_32.csv\n",
      "Computing statistics ...\n",
      "Generating URL ...\n",
      "Downloading data from https://earthengine.googleapis.com/v1/projects/earthengine-legacy/tables/3dfd45d57b144db732cd17567ca97b5a-77a329049adffa3d241f3801dbe80679:getFeatures\n",
      "Please wait ...\n",
      "Data downloaded to d:\\GitHub\\BluePaleDot\\data\\glc\\hex8\\hex8_lc_33.csv\n",
      "Computing statistics ...\n",
      "Generating URL ...\n",
      "Downloading data from https://earthengine.googleapis.com/v1/projects/earthengine-legacy/tables/9e92b236bd75967be7354dbb30934373-c74902810c77a575c86cd505a1cb3f41:getFeatures\n",
      "Please wait ...\n",
      "Data downloaded to d:\\GitHub\\BluePaleDot\\data\\glc\\hex8\\hex8_lc_34.csv\n",
      "Computing statistics ...\n",
      "Generating URL ...\n",
      "Downloading data from https://earthengine.googleapis.com/v1/projects/earthengine-legacy/tables/9b6c8dec55a58321447cb82172ca3dc8-d91582669cf3e200e273ef03cae30146:getFeatures\n",
      "Please wait ...\n",
      "Data downloaded to d:\\GitHub\\BluePaleDot\\data\\glc\\hex8\\hex8_lc_35.csv\n",
      "Computing statistics ...\n",
      "Generating URL ...\n",
      "Downloading data from https://earthengine.googleapis.com/v1/projects/earthengine-legacy/tables/9896501970ff8e98c3b2727b1a0417ce-159229ccc7f9986da3fb2cbed33d39ef:getFeatures\n",
      "Please wait ...\n",
      "Data downloaded to d:\\GitHub\\BluePaleDot\\data\\glc\\hex8\\hex8_lc_36.csv\n",
      "Computing statistics ...\n",
      "Generating URL ...\n",
      "Downloading data from https://earthengine.googleapis.com/v1/projects/earthengine-legacy/tables/993aa91d13a38967a3e967450564689a-dcfbfb1cc79234e66bb27acaf6ddc0b9:getFeatures\n",
      "Please wait ...\n",
      "Data downloaded to d:\\GitHub\\BluePaleDot\\data\\glc\\hex8\\hex8_lc_37.csv\n",
      "Computing statistics ...\n",
      "Generating URL ...\n",
      "Downloading data from https://earthengine.googleapis.com/v1/projects/earthengine-legacy/tables/415d0839e00c25b80dd9e61c07f35f0b-a6b390c6df6d4d3acf291365380f2030:getFeatures\n",
      "Please wait ...\n",
      "Data downloaded to d:\\GitHub\\BluePaleDot\\data\\glc\\hex8\\hex8_lc_38.csv\n",
      "Computing statistics ...\n",
      "Generating URL ...\n",
      "Downloading data from https://earthengine.googleapis.com/v1/projects/earthengine-legacy/tables/c2bab7057a1e8380b1c9cbff4f1363b2-99c335a43c75c0fa507c45afc58929e3:getFeatures\n",
      "Please wait ...\n",
      "Data downloaded to d:\\GitHub\\BluePaleDot\\data\\glc\\hex8\\hex8_lc_39.csv\n",
      "Computing statistics ...\n",
      "Generating URL ...\n",
      "Downloading data from https://earthengine.googleapis.com/v1/projects/earthengine-legacy/tables/a1be5b62dda3660588d51df2ef36b3f7-c2d0c62bbcfd361c1fb9ed96002d1836:getFeatures\n",
      "Please wait ...\n",
      "Data downloaded to d:\\GitHub\\BluePaleDot\\data\\glc\\hex8\\hex8_lc_40.csv\n",
      "Computing statistics ...\n",
      "Generating URL ...\n",
      "Downloading data from https://earthengine.googleapis.com/v1/projects/earthengine-legacy/tables/de39e834cbd0a1f9b4e91959f0c5683a-79a5719b95f9a9ede493bb068832624b:getFeatures\n",
      "Please wait ...\n",
      "Data downloaded to d:\\GitHub\\BluePaleDot\\data\\glc\\hex8\\hex8_lc_41.csv\n",
      "Computing statistics ...\n",
      "Generating URL ...\n",
      "Downloading data from https://earthengine.googleapis.com/v1/projects/earthengine-legacy/tables/f9ec6bc225ddef0b67383a8bd1574f36-6eb5588b02b5f61f7fedd40426784318:getFeatures\n",
      "Please wait ...\n",
      "Data downloaded to d:\\GitHub\\BluePaleDot\\data\\glc\\hex8\\hex8_lc_42.csv\n",
      "Computing statistics ...\n",
      "Generating URL ...\n",
      "Downloading data from https://earthengine.googleapis.com/v1/projects/earthengine-legacy/tables/9f8adb7ca523d541ee7ceb07fd2eaf19-68ce93212cc2026481c1430e41c78541:getFeatures\n",
      "Please wait ...\n",
      "Data downloaded to d:\\GitHub\\BluePaleDot\\data\\glc\\hex8\\hex8_lc_43.csv\n",
      "Computing statistics ...\n",
      "Generating URL ...\n",
      "Downloading data from https://earthengine.googleapis.com/v1/projects/earthengine-legacy/tables/4737b74cb303fc6825d7ed06425c8965-3086a1304f274a0247f431569cdc0c8f:getFeatures\n",
      "Please wait ...\n",
      "Data downloaded to d:\\GitHub\\BluePaleDot\\data\\glc\\hex8\\hex8_lc_44.csv\n",
      "Computing statistics ...\n",
      "Generating URL ...\n",
      "Downloading data from https://earthengine.googleapis.com/v1/projects/earthengine-legacy/tables/37157e4691865326d23317ba5f274680-37740f856e818290a6f2ac9cf52edec3:getFeatures\n",
      "Please wait ...\n",
      "Data downloaded to d:\\GitHub\\BluePaleDot\\data\\glc\\hex8\\hex8_lc_45.csv\n",
      "Computing statistics ...\n",
      "Generating URL ...\n",
      "Downloading data from https://earthengine.googleapis.com/v1/projects/earthengine-legacy/tables/e0ebea2bd2f02e9e6b05cbc55316e024-f577a0c4833737480ca3081c97c03a14:getFeatures\n",
      "Please wait ...\n",
      "Data downloaded to d:\\GitHub\\BluePaleDot\\data\\glc\\hex8\\hex8_lc_46.csv\n"
     ]
    }
   ],
   "source": [
    "print('Start GEE')\n",
    "\n",
    "for idx, hex_gee in enumerate(hexagons_gee_list):\n",
    "    out_path = '../data/glc/hex8'\n",
    "    out_dir = os.path.join(out_path)\n",
    "    out_file_path = os.path.join(out_dir, f'hex8_lc_{idx}.csv')\n",
    "\n",
    "    if not os.path.exists(out_dir):\n",
    "        os.makedirs(out_dir)\n",
    "\n",
    "\n",
    "\n",
    "    geemap.zonal_statistics(glc, hex_gee, out_file_path, statistics_type='MODE', scale=30)"
   ]
  },
  {
   "cell_type": "code",
   "execution_count": 27,
   "metadata": {},
   "outputs": [
    {
     "data": {
      "text/html": [
       "\n",
       "            <style>\n",
       "                .geemap-dark {\n",
       "                    --jp-widgets-color: white;\n",
       "                    --jp-widgets-label-color: white;\n",
       "                    --jp-ui-font-color1: white;\n",
       "                    --jp-layout-color2: #454545;\n",
       "                    background-color: #383838;\n",
       "                }\n",
       "                    \n",
       "                .geemap-dark .jupyter-button {\n",
       "                    --jp-layout-color3: #383838;\n",
       "                }\n",
       "                \n",
       "                .geemap-colab {\n",
       "                    background-color: var(--colab-primary-surface-color, white);\n",
       "                }\n",
       "                    \n",
       "                .geemap-colab .jupyter-button {\n",
       "                    --jp-layout-color3: var(--colab-primary-surface-color, white);\n",
       "                }\n",
       "            </style>\n",
       "            "
      ],
      "text/plain": [
       "<IPython.core.display.HTML object>"
      ]
     },
     "metadata": {},
     "output_type": "display_data"
    }
   ],
   "source": [
    "hex8_glc = pd.concat([pd.read_csv(os.path.join(out_path, i)) for i in os.listdir(out_path)])"
   ]
  },
  {
   "cell_type": "code",
   "execution_count": 38,
   "metadata": {},
   "outputs": [
    {
     "data": {
      "text/html": [
       "\n",
       "            <style>\n",
       "                .geemap-dark {\n",
       "                    --jp-widgets-color: white;\n",
       "                    --jp-widgets-label-color: white;\n",
       "                    --jp-ui-font-color1: white;\n",
       "                    --jp-layout-color2: #454545;\n",
       "                    background-color: #383838;\n",
       "                }\n",
       "                    \n",
       "                .geemap-dark .jupyter-button {\n",
       "                    --jp-layout-color3: #383838;\n",
       "                }\n",
       "                \n",
       "                .geemap-colab {\n",
       "                    background-color: var(--colab-primary-surface-color, white);\n",
       "                }\n",
       "                    \n",
       "                .geemap-colab .jupyter-button {\n",
       "                    --jp-layout-color3: var(--colab-primary-surface-color, white);\n",
       "                }\n",
       "            </style>\n",
       "            "
      ],
      "text/plain": [
       "<IPython.core.display.HTML object>"
      ]
     },
     "metadata": {},
     "output_type": "display_data"
    },
    {
     "data": {
      "text/html": [
       "<div>\n",
       "<style scoped>\n",
       "    .dataframe tbody tr th:only-of-type {\n",
       "        vertical-align: middle;\n",
       "    }\n",
       "\n",
       "    .dataframe tbody tr th {\n",
       "        vertical-align: top;\n",
       "    }\n",
       "\n",
       "    .dataframe thead th {\n",
       "        text-align: right;\n",
       "    }\n",
       "</style>\n",
       "<table border=\"1\" class=\"dataframe\">\n",
       "  <thead>\n",
       "    <tr style=\"text-align: right;\">\n",
       "      <th></th>\n",
       "      <th>mode</th>\n",
       "      <th>system:index</th>\n",
       "      <th>hex8</th>\n",
       "    </tr>\n",
       "  </thead>\n",
       "  <tbody>\n",
       "    <tr>\n",
       "      <th>0</th>\n",
       "      <td>252</td>\n",
       "      <td>0</td>\n",
       "      <td>8858d68f6dfffff</td>\n",
       "    </tr>\n",
       "    <tr>\n",
       "      <th>1</th>\n",
       "      <td>58</td>\n",
       "      <td>1</td>\n",
       "      <td>8858896365fffff</td>\n",
       "    </tr>\n",
       "    <tr>\n",
       "      <th>2</th>\n",
       "      <td>59</td>\n",
       "      <td>2</td>\n",
       "      <td>8882da4cb7fffff</td>\n",
       "    </tr>\n",
       "    <tr>\n",
       "      <th>3</th>\n",
       "      <td>50</td>\n",
       "      <td>3</td>\n",
       "      <td>8882da2ee7fffff</td>\n",
       "    </tr>\n",
       "    <tr>\n",
       "      <th>4</th>\n",
       "      <td>239</td>\n",
       "      <td>4</td>\n",
       "      <td>8882da7a85fffff</td>\n",
       "    </tr>\n",
       "    <tr>\n",
       "      <th>...</th>\n",
       "      <td>...</td>\n",
       "      <td>...</td>\n",
       "      <td>...</td>\n",
       "    </tr>\n",
       "    <tr>\n",
       "      <th>995</th>\n",
       "      <td>169</td>\n",
       "      <td>995</td>\n",
       "      <td>88588bb057fffff</td>\n",
       "    </tr>\n",
       "    <tr>\n",
       "      <th>996</th>\n",
       "      <td>60</td>\n",
       "      <td>996</td>\n",
       "      <td>88588b6307fffff</td>\n",
       "    </tr>\n",
       "    <tr>\n",
       "      <th>997</th>\n",
       "      <td>252</td>\n",
       "      <td>997</td>\n",
       "      <td>8858896e05fffff</td>\n",
       "    </tr>\n",
       "    <tr>\n",
       "      <th>998</th>\n",
       "      <td>251</td>\n",
       "      <td>998</td>\n",
       "      <td>88588ba805fffff</td>\n",
       "    </tr>\n",
       "    <tr>\n",
       "      <th>999</th>\n",
       "      <td>240</td>\n",
       "      <td>999</td>\n",
       "      <td>8882da472bfffff</td>\n",
       "    </tr>\n",
       "  </tbody>\n",
       "</table>\n",
       "<p>46306 rows × 3 columns</p>\n",
       "</div>"
      ],
      "text/plain": [
       "     mode  system:index             hex8\n",
       "0     252             0  8858d68f6dfffff\n",
       "1      58             1  8858896365fffff\n",
       "2      59             2  8882da4cb7fffff\n",
       "3      50             3  8882da2ee7fffff\n",
       "4     239             4  8882da7a85fffff\n",
       "..    ...           ...              ...\n",
       "995   169           995  88588bb057fffff\n",
       "996    60           996  88588b6307fffff\n",
       "997   252           997  8858896e05fffff\n",
       "998   251           998  88588ba805fffff\n",
       "999   240           999  8882da472bfffff\n",
       "\n",
       "[46306 rows x 3 columns]"
      ]
     },
     "execution_count": 38,
     "metadata": {},
     "output_type": "execute_result"
    }
   ],
   "source": [
    "hex8_glc"
   ]
  },
  {
   "cell_type": "code",
   "execution_count": 40,
   "metadata": {},
   "outputs": [
    {
     "data": {
      "text/html": [
       "\n",
       "            <style>\n",
       "                .geemap-dark {\n",
       "                    --jp-widgets-color: white;\n",
       "                    --jp-widgets-label-color: white;\n",
       "                    --jp-ui-font-color1: white;\n",
       "                    --jp-layout-color2: #454545;\n",
       "                    background-color: #383838;\n",
       "                }\n",
       "                    \n",
       "                .geemap-dark .jupyter-button {\n",
       "                    --jp-layout-color3: #383838;\n",
       "                }\n",
       "                \n",
       "                .geemap-colab {\n",
       "                    background-color: var(--colab-primary-surface-color, white);\n",
       "                }\n",
       "                    \n",
       "                .geemap-colab .jupyter-button {\n",
       "                    --jp-layout-color3: var(--colab-primary-surface-color, white);\n",
       "                }\n",
       "            </style>\n",
       "            "
      ],
      "text/plain": [
       "<IPython.core.display.HTML object>"
      ]
     },
     "metadata": {},
     "output_type": "display_data"
    }
   ],
   "source": [
    "hex8 = gpd.read_file('../data/nga_ss_hex8.gpkg')"
   ]
  },
  {
   "cell_type": "code",
   "execution_count": 42,
   "metadata": {},
   "outputs": [
    {
     "data": {
      "text/html": [
       "\n",
       "            <style>\n",
       "                .geemap-dark {\n",
       "                    --jp-widgets-color: white;\n",
       "                    --jp-widgets-label-color: white;\n",
       "                    --jp-ui-font-color1: white;\n",
       "                    --jp-layout-color2: #454545;\n",
       "                    background-color: #383838;\n",
       "                }\n",
       "                    \n",
       "                .geemap-dark .jupyter-button {\n",
       "                    --jp-layout-color3: #383838;\n",
       "                }\n",
       "                \n",
       "                .geemap-colab {\n",
       "                    background-color: var(--colab-primary-surface-color, white);\n",
       "                }\n",
       "                    \n",
       "                .geemap-colab .jupyter-button {\n",
       "                    --jp-layout-color3: var(--colab-primary-surface-color, white);\n",
       "                }\n",
       "            </style>\n",
       "            "
      ],
      "text/plain": [
       "<IPython.core.display.HTML object>"
      ]
     },
     "metadata": {},
     "output_type": "display_data"
    }
   ],
   "source": [
    "hex8.merge(hex8_glc[['hex8','mode']].rename(columns={'mode':'land cover'})).to_file('../data/nga_ss_hex8.gpkg')"
   ]
  },
  {
   "cell_type": "code",
   "execution_count": 29,
   "metadata": {},
   "outputs": [
    {
     "data": {
      "text/html": [
       "\n",
       "            <style>\n",
       "                .geemap-dark {\n",
       "                    --jp-widgets-color: white;\n",
       "                    --jp-widgets-label-color: white;\n",
       "                    --jp-ui-font-color1: white;\n",
       "                    --jp-layout-color2: #454545;\n",
       "                    background-color: #383838;\n",
       "                }\n",
       "                    \n",
       "                .geemap-dark .jupyter-button {\n",
       "                    --jp-layout-color3: #383838;\n",
       "                }\n",
       "                \n",
       "                .geemap-colab {\n",
       "                    background-color: var(--colab-primary-surface-color, white);\n",
       "                }\n",
       "                    \n",
       "                .geemap-colab .jupyter-button {\n",
       "                    --jp-layout-color3: var(--colab-primary-surface-color, white);\n",
       "                }\n",
       "            </style>\n",
       "            "
      ],
      "text/plain": [
       "<IPython.core.display.HTML object>"
      ]
     },
     "metadata": {},
     "output_type": "display_data"
    }
   ],
   "source": [
    "hex8_glc['mode'] = hex8_glc['mode'].astype(int)"
   ]
  },
  {
   "cell_type": "code",
   "execution_count": 37,
   "metadata": {},
   "outputs": [
    {
     "data": {
      "text/html": [
       "\n",
       "            <style>\n",
       "                .geemap-dark {\n",
       "                    --jp-widgets-color: white;\n",
       "                    --jp-widgets-label-color: white;\n",
       "                    --jp-ui-font-color1: white;\n",
       "                    --jp-layout-color2: #454545;\n",
       "                    background-color: #383838;\n",
       "                }\n",
       "                    \n",
       "                .geemap-dark .jupyter-button {\n",
       "                    --jp-layout-color3: #383838;\n",
       "                }\n",
       "                \n",
       "                .geemap-colab {\n",
       "                    background-color: var(--colab-primary-surface-color, white);\n",
       "                }\n",
       "                    \n",
       "                .geemap-colab .jupyter-button {\n",
       "                    --jp-layout-color3: var(--colab-primary-surface-color, white);\n",
       "                }\n",
       "            </style>\n",
       "            "
      ],
      "text/plain": [
       "<IPython.core.display.HTML object>"
      ]
     },
     "metadata": {},
     "output_type": "display_data"
    },
    {
     "data": {
      "text/plain": [
       "mode\n",
       "240    4965\n",
       "241     141\n",
       "249      91\n",
       "242      68\n",
       "243       2\n",
       "Name: count, dtype: int64"
      ]
     },
     "execution_count": 37,
     "metadata": {},
     "output_type": "execute_result"
    }
   ],
   "source": [
    "hex8_glc[(hex8_glc['mode']>=240)&(hex8_glc['mode']<=249)]['mode'].value_counts()"
   ]
  },
  {
   "cell_type": "code",
   "execution_count": 44,
   "metadata": {},
   "outputs": [
    {
     "data": {
      "text/html": [
       "\n",
       "            <style>\n",
       "                .geemap-dark {\n",
       "                    --jp-widgets-color: white;\n",
       "                    --jp-widgets-label-color: white;\n",
       "                    --jp-ui-font-color1: white;\n",
       "                    --jp-layout-color2: #454545;\n",
       "                    background-color: #383838;\n",
       "                }\n",
       "                    \n",
       "                .geemap-dark .jupyter-button {\n",
       "                    --jp-layout-color3: #383838;\n",
       "                }\n",
       "                \n",
       "                .geemap-colab {\n",
       "                    background-color: var(--colab-primary-surface-color, white);\n",
       "                }\n",
       "                    \n",
       "                .geemap-colab .jupyter-button {\n",
       "                    --jp-layout-color3: var(--colab-primary-surface-color, white);\n",
       "                }\n",
       "            </style>\n",
       "            "
      ],
      "text/plain": [
       "<IPython.core.display.HTML object>"
      ]
     },
     "metadata": {},
     "output_type": "display_data"
    }
   ],
   "source": [
    "hex8.merge(hex8_glc[['hex8','mode']].rename(columns={'mode':'land cover'})).to_parquet('../data/nga_ss_hex8.parquet')"
   ]
  },
  {
   "cell_type": "code",
   "execution_count": null,
   "metadata": {},
   "outputs": [],
   "source": []
  }
 ],
 "metadata": {
  "kernelspec": {
   "display_name": "spatial2",
   "language": "python",
   "name": "python3"
  },
  "language_info": {
   "codemirror_mode": {
    "name": "ipython",
    "version": 3
   },
   "file_extension": ".py",
   "mimetype": "text/x-python",
   "name": "python",
   "nbconvert_exporter": "python",
   "pygments_lexer": "ipython3",
   "version": "3.10.10"
  }
 },
 "nbformat": 4,
 "nbformat_minor": 2
}
