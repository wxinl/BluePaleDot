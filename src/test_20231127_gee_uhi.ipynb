{
 "cells": [
  {
   "cell_type": "code",
   "execution_count": 2,
   "metadata": {},
   "outputs": [],
   "source": [
    "import pandas as pd\n",
    "import geopandas as gpd\n",
    "from h3_utils import *\n",
    "import h3\n",
    "import h3pandas\n",
    "\n",
    "import ee\n",
    "ee.Initialize()\n",
    "\n",
    "import geemap"
   ]
  },
  {
   "cell_type": "code",
   "execution_count": 3,
   "metadata": {},
   "outputs": [
    {
     "data": {
      "text/html": [
       "\n",
       "            <style>\n",
       "                .geemap-dark {\n",
       "                    --jp-widgets-color: white;\n",
       "                    --jp-widgets-label-color: white;\n",
       "                    --jp-ui-font-color1: white;\n",
       "                    --jp-layout-color2: #454545;\n",
       "                    background-color: #383838;\n",
       "                }\n",
       "                    \n",
       "                .geemap-dark .jupyter-button {\n",
       "                    --jp-layout-color3: #383838;\n",
       "                }\n",
       "                \n",
       "                .geemap-colab {\n",
       "                    background-color: var(--colab-primary-surface-color, white);\n",
       "                }\n",
       "                    \n",
       "                .geemap-colab .jupyter-button {\n",
       "                    --jp-layout-color3: var(--colab-primary-surface-color, white);\n",
       "                }\n",
       "            </style>\n",
       "            "
      ],
      "text/plain": [
       "<IPython.core.display.HTML object>"
      ]
     },
     "metadata": {},
     "output_type": "display_data"
    }
   ],
   "source": [
    "nga = gpd.read_file(r'..\\data\\Nigeria_-_State_Boundaries.zip')"
   ]
  },
  {
   "cell_type": "code",
   "execution_count": 4,
   "metadata": {},
   "outputs": [
    {
     "data": {
      "text/html": [
       "\n",
       "            <style>\n",
       "                .geemap-dark {\n",
       "                    --jp-widgets-color: white;\n",
       "                    --jp-widgets-label-color: white;\n",
       "                    --jp-ui-font-color1: white;\n",
       "                    --jp-layout-color2: #454545;\n",
       "                    background-color: #383838;\n",
       "                }\n",
       "                    \n",
       "                .geemap-dark .jupyter-button {\n",
       "                    --jp-layout-color3: #383838;\n",
       "                }\n",
       "                \n",
       "                .geemap-colab {\n",
       "                    background-color: var(--colab-primary-surface-color, white);\n",
       "                }\n",
       "                    \n",
       "                .geemap-colab .jupyter-button {\n",
       "                    --jp-layout-color3: var(--colab-primary-surface-color, white);\n",
       "                }\n",
       "            </style>\n",
       "            "
      ],
      "text/plain": [
       "<IPython.core.display.HTML object>"
      ]
     },
     "metadata": {},
     "output_type": "display_data"
    }
   ],
   "source": [
    "ss = ['Abia', 'Anambra', 'Ebonyi', 'Enugu', 'Imo']"
   ]
  },
  {
   "cell_type": "code",
   "execution_count": 5,
   "metadata": {},
   "outputs": [
    {
     "data": {
      "text/html": [
       "\n",
       "            <style>\n",
       "                .geemap-dark {\n",
       "                    --jp-widgets-color: white;\n",
       "                    --jp-widgets-label-color: white;\n",
       "                    --jp-ui-font-color1: white;\n",
       "                    --jp-layout-color2: #454545;\n",
       "                    background-color: #383838;\n",
       "                }\n",
       "                    \n",
       "                .geemap-dark .jupyter-button {\n",
       "                    --jp-layout-color3: #383838;\n",
       "                }\n",
       "                \n",
       "                .geemap-colab {\n",
       "                    background-color: var(--colab-primary-surface-color, white);\n",
       "                }\n",
       "                    \n",
       "                .geemap-colab .jupyter-button {\n",
       "                    --jp-layout-color3: var(--colab-primary-surface-color, white);\n",
       "                }\n",
       "            </style>\n",
       "            "
      ],
      "text/plain": [
       "<IPython.core.display.HTML object>"
      ]
     },
     "metadata": {},
     "output_type": "display_data"
    }
   ],
   "source": [
    "south_states = nga[nga['statename'].isin(ss)]"
   ]
  },
  {
   "cell_type": "code",
   "execution_count": 6,
   "metadata": {},
   "outputs": [
    {
     "data": {
      "text/html": [
       "\n",
       "            <style>\n",
       "                .geemap-dark {\n",
       "                    --jp-widgets-color: white;\n",
       "                    --jp-widgets-label-color: white;\n",
       "                    --jp-ui-font-color1: white;\n",
       "                    --jp-layout-color2: #454545;\n",
       "                    background-color: #383838;\n",
       "                }\n",
       "                    \n",
       "                .geemap-dark .jupyter-button {\n",
       "                    --jp-layout-color3: #383838;\n",
       "                }\n",
       "                \n",
       "                .geemap-colab {\n",
       "                    background-color: var(--colab-primary-surface-color, white);\n",
       "                }\n",
       "                    \n",
       "                .geemap-colab .jupyter-button {\n",
       "                    --jp-layout-color3: var(--colab-primary-surface-color, white);\n",
       "                }\n",
       "            </style>\n",
       "            "
      ],
      "text/plain": [
       "<IPython.core.display.HTML object>"
      ]
     },
     "metadata": {},
     "output_type": "display_data"
    }
   ],
   "source": [
    "africapolis = gpd.read_file(r'../data/AFRICAPOLIS2020.zip')"
   ]
  },
  {
   "cell_type": "code",
   "execution_count": 7,
   "metadata": {},
   "outputs": [
    {
     "data": {
      "text/html": [
       "\n",
       "            <style>\n",
       "                .geemap-dark {\n",
       "                    --jp-widgets-color: white;\n",
       "                    --jp-widgets-label-color: white;\n",
       "                    --jp-ui-font-color1: white;\n",
       "                    --jp-layout-color2: #454545;\n",
       "                    background-color: #383838;\n",
       "                }\n",
       "                    \n",
       "                .geemap-dark .jupyter-button {\n",
       "                    --jp-layout-color3: #383838;\n",
       "                }\n",
       "                \n",
       "                .geemap-colab {\n",
       "                    background-color: var(--colab-primary-surface-color, white);\n",
       "                }\n",
       "                    \n",
       "                .geemap-colab .jupyter-button {\n",
       "                    --jp-layout-color3: var(--colab-primary-surface-color, white);\n",
       "                }\n",
       "            </style>\n",
       "            "
      ],
      "text/plain": [
       "<IPython.core.display.HTML object>"
      ]
     },
     "metadata": {},
     "output_type": "display_data"
    }
   ],
   "source": [
    "south_states_africapolis = gpd.sjoin(africapolis, south_states)"
   ]
  },
  {
   "cell_type": "code",
   "execution_count": 8,
   "metadata": {},
   "outputs": [
    {
     "data": {
      "text/html": [
       "\n",
       "            <style>\n",
       "                .geemap-dark {\n",
       "                    --jp-widgets-color: white;\n",
       "                    --jp-widgets-label-color: white;\n",
       "                    --jp-ui-font-color1: white;\n",
       "                    --jp-layout-color2: #454545;\n",
       "                    background-color: #383838;\n",
       "                }\n",
       "                    \n",
       "                .geemap-dark .jupyter-button {\n",
       "                    --jp-layout-color3: #383838;\n",
       "                }\n",
       "                \n",
       "                .geemap-colab {\n",
       "                    background-color: var(--colab-primary-surface-color, white);\n",
       "                }\n",
       "                    \n",
       "                .geemap-colab .jupyter-button {\n",
       "                    --jp-layout-color3: var(--colab-primary-surface-color, white);\n",
       "                }\n",
       "            </style>\n",
       "            "
      ],
      "text/plain": [
       "<IPython.core.display.HTML object>"
      ]
     },
     "metadata": {},
     "output_type": "display_data"
    },
    {
     "data": {
      "text/plain": [
       "<Axes: >"
      ]
     },
     "execution_count": 8,
     "metadata": {},
     "output_type": "execute_result"
    },
    {
     "data": {
      "image/png": "[encoded data removed]",
      "text/plain": [
       "<Figure size 640x480 with 1 Axes>"
      ]
     },
     "metadata": {},
     "output_type": "display_data"
    }
   ],
   "source": [
    "south_states_africapolis.plot()"
   ]
  },
  {
   "cell_type": "code",
   "execution_count": 9,
   "metadata": {},
   "outputs": [
    {
     "data": {
      "text/html": [
       "\n",
       "            <style>\n",
       "                .geemap-dark {\n",
       "                    --jp-widgets-color: white;\n",
       "                    --jp-widgets-label-color: white;\n",
       "                    --jp-ui-font-color1: white;\n",
       "                    --jp-layout-color2: #454545;\n",
       "                    background-color: #383838;\n",
       "                }\n",
       "                    \n",
       "                .geemap-dark .jupyter-button {\n",
       "                    --jp-layout-color3: #383838;\n",
       "                }\n",
       "                \n",
       "                .geemap-colab {\n",
       "                    background-color: var(--colab-primary-surface-color, white);\n",
       "                }\n",
       "                    \n",
       "                .geemap-colab .jupyter-button {\n",
       "                    --jp-layout-color3: var(--colab-primary-surface-color, white);\n",
       "                }\n",
       "            </style>\n",
       "            "
      ],
      "text/plain": [
       "<IPython.core.display.HTML object>"
      ]
     },
     "metadata": {},
     "output_type": "display_data"
    },
    {
     "data": {
      "text/plain": [
       "(105, 30)"
      ]
     },
     "execution_count": 9,
     "metadata": {},
     "output_type": "execute_result"
    }
   ],
   "source": [
    "south_states_africapolis.shape"
   ]
  },
  {
   "cell_type": "code",
   "execution_count": 10,
   "metadata": {},
   "outputs": [
    {
     "data": {
      "text/html": [
       "\n",
       "            <style>\n",
       "                .geemap-dark {\n",
       "                    --jp-widgets-color: white;\n",
       "                    --jp-widgets-label-color: white;\n",
       "                    --jp-ui-font-color1: white;\n",
       "                    --jp-layout-color2: #454545;\n",
       "                    background-color: #383838;\n",
       "                }\n",
       "                    \n",
       "                .geemap-dark .jupyter-button {\n",
       "                    --jp-layout-color3: #383838;\n",
       "                }\n",
       "                \n",
       "                .geemap-colab {\n",
       "                    background-color: var(--colab-primary-surface-color, white);\n",
       "                }\n",
       "                    \n",
       "                .geemap-colab .jupyter-button {\n",
       "                    --jp-layout-color3: var(--colab-primary-surface-color, white);\n",
       "                }\n",
       "            </style>\n",
       "            "
      ],
      "text/plain": [
       "<IPython.core.display.HTML object>"
      ]
     },
     "metadata": {},
     "output_type": "display_data"
    },
    {
     "data": {
      "text/html": [
       "<div>\n",
       "<style scoped>\n",
       "    .dataframe tbody tr th:only-of-type {\n",
       "        vertical-align: middle;\n",
       "    }\n",
       "\n",
       "    .dataframe tbody tr th {\n",
       "        vertical-align: top;\n",
       "    }\n",
       "\n",
       "    .dataframe thead th {\n",
       "        text-align: right;\n",
       "    }\n",
       "</style>\n",
       "<table border=\"1\" class=\"dataframe\">\n",
       "  <thead>\n",
       "    <tr style=\"text-align: right;\">\n",
       "      <th></th>\n",
       "      <th>agglosID</th>\n",
       "      <th>agglosName</th>\n",
       "      <th>ISO3</th>\n",
       "      <th>Longitude</th>\n",
       "      <th>Latitude</th>\n",
       "      <th>Pop2015</th>\n",
       "      <th>builtUp</th>\n",
       "      <th>Voronoi</th>\n",
       "      <th>Pop1950</th>\n",
       "      <th>Pop1960</th>\n",
       "      <th>...</th>\n",
       "      <th>uniq_id</th>\n",
       "      <th>timestamp</th>\n",
       "      <th>editor</th>\n",
       "      <th>statename</th>\n",
       "      <th>statecode</th>\n",
       "      <th>capcity</th>\n",
       "      <th>source</th>\n",
       "      <th>geozone</th>\n",
       "      <th>SHAPE_Leng</th>\n",
       "      <th>SHAPE_Area</th>\n",
       "    </tr>\n",
       "  </thead>\n",
       "  <tbody>\n",
       "    <tr>\n",
       "      <th>10</th>\n",
       "      <td>6843</td>\n",
       "      <td>No name</td>\n",
       "      <td>NGA</td>\n",
       "      <td>6.747</td>\n",
       "      <td>5.513</td>\n",
       "      <td>13000</td>\n",
       "      <td>3.920084</td>\n",
       "      <td>222</td>\n",
       "      <td>0</td>\n",
       "      <td>0</td>\n",
       "      <td>...</td>\n",
       "      <td>1169</td>\n",
       "      <td>2018-12-13</td>\n",
       "      <td>abraham.oluseye</td>\n",
       "      <td>Imo</td>\n",
       "      <td>IM</td>\n",
       "      <td>Owerri</td>\n",
       "      <td>WHO</td>\n",
       "      <td>SEZ</td>\n",
       "      <td>2.794305</td>\n",
       "      <td>0.416382</td>\n",
       "    </tr>\n",
       "    <tr>\n",
       "      <th>111</th>\n",
       "      <td>6954</td>\n",
       "      <td>Obudi</td>\n",
       "      <td>NGA</td>\n",
       "      <td>6.888</td>\n",
       "      <td>5.556</td>\n",
       "      <td>33010</td>\n",
       "      <td>8.286370</td>\n",
       "      <td>209</td>\n",
       "      <td>0</td>\n",
       "      <td>0</td>\n",
       "      <td>...</td>\n",
       "      <td>1169</td>\n",
       "      <td>2018-12-13</td>\n",
       "      <td>abraham.oluseye</td>\n",
       "      <td>Imo</td>\n",
       "      <td>IM</td>\n",
       "      <td>Owerri</td>\n",
       "      <td>WHO</td>\n",
       "      <td>SEZ</td>\n",
       "      <td>2.794305</td>\n",
       "      <td>0.416382</td>\n",
       "    </tr>\n",
       "    <tr>\n",
       "      <th>137</th>\n",
       "      <td>6943</td>\n",
       "      <td>Obigwo</td>\n",
       "      <td>NGA</td>\n",
       "      <td>6.906</td>\n",
       "      <td>5.451</td>\n",
       "      <td>21000</td>\n",
       "      <td>5.839721</td>\n",
       "      <td>91</td>\n",
       "      <td>0</td>\n",
       "      <td>0</td>\n",
       "      <td>...</td>\n",
       "      <td>1169</td>\n",
       "      <td>2018-12-13</td>\n",
       "      <td>abraham.oluseye</td>\n",
       "      <td>Imo</td>\n",
       "      <td>IM</td>\n",
       "      <td>Owerri</td>\n",
       "      <td>WHO</td>\n",
       "      <td>SEZ</td>\n",
       "      <td>2.794305</td>\n",
       "      <td>0.416382</td>\n",
       "    </tr>\n",
       "    <tr>\n",
       "      <th>138</th>\n",
       "      <td>6944</td>\n",
       "      <td>Obilokwu Mbieri</td>\n",
       "      <td>NGA</td>\n",
       "      <td>7.126</td>\n",
       "      <td>5.530</td>\n",
       "      <td>10545</td>\n",
       "      <td>5.528838</td>\n",
       "      <td>630</td>\n",
       "      <td>0</td>\n",
       "      <td>0</td>\n",
       "      <td>...</td>\n",
       "      <td>1169</td>\n",
       "      <td>2018-12-13</td>\n",
       "      <td>abraham.oluseye</td>\n",
       "      <td>Imo</td>\n",
       "      <td>IM</td>\n",
       "      <td>Owerri</td>\n",
       "      <td>WHO</td>\n",
       "      <td>SEZ</td>\n",
       "      <td>2.794305</td>\n",
       "      <td>0.416382</td>\n",
       "    </tr>\n",
       "    <tr>\n",
       "      <th>139</th>\n",
       "      <td>6945</td>\n",
       "      <td>Obinze</td>\n",
       "      <td>NGA</td>\n",
       "      <td>6.962</td>\n",
       "      <td>5.407</td>\n",
       "      <td>11805</td>\n",
       "      <td>7.838418</td>\n",
       "      <td>181</td>\n",
       "      <td>0</td>\n",
       "      <td>0</td>\n",
       "      <td>...</td>\n",
       "      <td>1169</td>\n",
       "      <td>2018-12-13</td>\n",
       "      <td>abraham.oluseye</td>\n",
       "      <td>Imo</td>\n",
       "      <td>IM</td>\n",
       "      <td>Owerri</td>\n",
       "      <td>WHO</td>\n",
       "      <td>SEZ</td>\n",
       "      <td>2.794305</td>\n",
       "      <td>0.416382</td>\n",
       "    </tr>\n",
       "  </tbody>\n",
       "</table>\n",
       "<p>5 rows × 30 columns</p>\n",
       "</div>"
      ],
      "text/plain": [
       "     agglosID       agglosName ISO3  Longitude  Latitude  Pop2015   builtUp  \\\n",
       "10       6843          No name  NGA      6.747     5.513    13000  3.920084   \n",
       "111      6954            Obudi  NGA      6.888     5.556    33010  8.286370   \n",
       "137      6943           Obigwo  NGA      6.906     5.451    21000  5.839721   \n",
       "138      6944  Obilokwu Mbieri  NGA      7.126     5.530    10545  5.528838   \n",
       "139      6945           Obinze  NGA      6.962     5.407    11805  7.838418   \n",
       "\n",
       "     Voronoi  Pop1950  Pop1960  ...  uniq_id   timestamp           editor  \\\n",
       "10       222        0        0  ...     1169  2018-12-13  abraham.oluseye   \n",
       "111      209        0        0  ...     1169  2018-12-13  abraham.oluseye   \n",
       "137       91        0        0  ...     1169  2018-12-13  abraham.oluseye   \n",
       "138      630        0        0  ...     1169  2018-12-13  abraham.oluseye   \n",
       "139      181        0        0  ...     1169  2018-12-13  abraham.oluseye   \n",
       "\n",
       "     statename  statecode capcity source  geozone  SHAPE_Leng SHAPE_Area  \n",
       "10         Imo         IM  Owerri    WHO      SEZ    2.794305   0.416382  \n",
       "111        Imo         IM  Owerri    WHO      SEZ    2.794305   0.416382  \n",
       "137        Imo         IM  Owerri    WHO      SEZ    2.794305   0.416382  \n",
       "138        Imo         IM  Owerri    WHO      SEZ    2.794305   0.416382  \n",
       "139        Imo         IM  Owerri    WHO      SEZ    2.794305   0.416382  \n",
       "\n",
       "[5 rows x 30 columns]"
      ]
     },
     "execution_count": 10,
     "metadata": {},
     "output_type": "execute_result"
    }
   ],
   "source": [
    "south_states_africapolis.head()"
   ]
  },
  {
   "cell_type": "code",
   "execution_count": 11,
   "metadata": {},
   "outputs": [
    {
     "data": {
      "text/html": [
       "\n",
       "            <style>\n",
       "                .geemap-dark {\n",
       "                    --jp-widgets-color: white;\n",
       "                    --jp-widgets-label-color: white;\n",
       "                    --jp-ui-font-color1: white;\n",
       "                    --jp-layout-color2: #454545;\n",
       "                    background-color: #383838;\n",
       "                }\n",
       "                    \n",
       "                .geemap-dark .jupyter-button {\n",
       "                    --jp-layout-color3: #383838;\n",
       "                }\n",
       "                \n",
       "                .geemap-colab {\n",
       "                    background-color: var(--colab-primary-surface-color, white);\n",
       "                }\n",
       "                    \n",
       "                .geemap-colab .jupyter-button {\n",
       "                    --jp-layout-color3: var(--colab-primary-surface-color, white);\n",
       "                }\n",
       "            </style>\n",
       "            "
      ],
      "text/plain": [
       "<IPython.core.display.HTML object>"
      ]
     },
     "metadata": {},
     "output_type": "display_data"
    },
    {
     "name": "stdout",
     "output_type": "stream",
     "text": [
      "Starting...\n",
      "Done\n",
      "Generating hex at level 8\n",
      "Done\n"
     ]
    }
   ],
   "source": [
    "hex8 = hex_generator(south_states,8)"
   ]
  },
  {
   "cell_type": "code",
   "execution_count": 12,
   "metadata": {},
   "outputs": [
    {
     "data": {
      "text/html": [
       "\n",
       "            <style>\n",
       "                .geemap-dark {\n",
       "                    --jp-widgets-color: white;\n",
       "                    --jp-widgets-label-color: white;\n",
       "                    --jp-ui-font-color1: white;\n",
       "                    --jp-layout-color2: #454545;\n",
       "                    background-color: #383838;\n",
       "                }\n",
       "                    \n",
       "                .geemap-dark .jupyter-button {\n",
       "                    --jp-layout-color3: #383838;\n",
       "                }\n",
       "                \n",
       "                .geemap-colab {\n",
       "                    background-color: var(--colab-primary-surface-color, white);\n",
       "                }\n",
       "                    \n",
       "                .geemap-colab .jupyter-button {\n",
       "                    --jp-layout-color3: var(--colab-primary-surface-color, white);\n",
       "                }\n",
       "            </style>\n",
       "            "
      ],
      "text/plain": [
       "<IPython.core.display.HTML object>"
      ]
     },
     "metadata": {},
     "output_type": "display_data"
    },
    {
     "data": {
      "text/html": [
       "<div>\n",
       "<style scoped>\n",
       "    .dataframe tbody tr th:only-of-type {\n",
       "        vertical-align: middle;\n",
       "    }\n",
       "\n",
       "    .dataframe tbody tr th {\n",
       "        vertical-align: top;\n",
       "    }\n",
       "\n",
       "    .dataframe thead th {\n",
       "        text-align: right;\n",
       "    }\n",
       "</style>\n",
       "<table border=\"1\" class=\"dataframe\">\n",
       "  <thead>\n",
       "    <tr style=\"text-align: right;\">\n",
       "      <th></th>\n",
       "      <th>hex8</th>\n",
       "      <th>geometry</th>\n",
       "    </tr>\n",
       "  </thead>\n",
       "  <tbody>\n",
       "    <tr>\n",
       "      <th>0</th>\n",
       "      <td>88588938a7fffff</td>\n",
       "      <td>POLYGON ((7.37666 6.83146, 7.37557 6.82731, 7....</td>\n",
       "    </tr>\n",
       "    <tr>\n",
       "      <th>1</th>\n",
       "      <td>8882da35ebfffff</td>\n",
       "      <td>POLYGON ((6.82990 5.35398, 6.82885 5.34994, 6....</td>\n",
       "    </tr>\n",
       "    <tr>\n",
       "      <th>2</th>\n",
       "      <td>88588b355bfffff</td>\n",
       "      <td>POLYGON ((7.08371 6.13347, 7.08263 6.12937, 7....</td>\n",
       "    </tr>\n",
       "    <tr>\n",
       "      <th>3</th>\n",
       "      <td>8858894f59fffff</td>\n",
       "      <td>POLYGON ((6.86361 6.67349, 6.86254 6.66936, 6....</td>\n",
       "    </tr>\n",
       "    <tr>\n",
       "      <th>4</th>\n",
       "      <td>8882da12d3fffff</td>\n",
       "      <td>POLYGON ((7.29641 5.13563, 7.29534 5.13159, 7....</td>\n",
       "    </tr>\n",
       "  </tbody>\n",
       "</table>\n",
       "</div>"
      ],
      "text/plain": [
       "              hex8                                           geometry\n",
       "0  88588938a7fffff  POLYGON ((7.37666 6.83146, 7.37557 6.82731, 7....\n",
       "1  8882da35ebfffff  POLYGON ((6.82990 5.35398, 6.82885 5.34994, 6....\n",
       "2  88588b355bfffff  POLYGON ((7.08371 6.13347, 7.08263 6.12937, 7....\n",
       "3  8858894f59fffff  POLYGON ((6.86361 6.67349, 6.86254 6.66936, 6....\n",
       "4  8882da12d3fffff  POLYGON ((7.29641 5.13563, 7.29534 5.13159, 7...."
      ]
     },
     "execution_count": 12,
     "metadata": {},
     "output_type": "execute_result"
    }
   ],
   "source": [
    "hex8.head()"
   ]
  },
  {
   "cell_type": "markdown",
   "metadata": {},
   "source": [
    "Earth engine workflow"
   ]
  },
  {
   "cell_type": "code",
   "execution_count": 13,
   "metadata": {},
   "outputs": [
    {
     "data": {
      "text/html": [
       "\n",
       "            <style>\n",
       "                .geemap-dark {\n",
       "                    --jp-widgets-color: white;\n",
       "                    --jp-widgets-label-color: white;\n",
       "                    --jp-ui-font-color1: white;\n",
       "                    --jp-layout-color2: #454545;\n",
       "                    background-color: #383838;\n",
       "                }\n",
       "                    \n",
       "                .geemap-dark .jupyter-button {\n",
       "                    --jp-layout-color3: #383838;\n",
       "                }\n",
       "                \n",
       "                .geemap-colab {\n",
       "                    background-color: var(--colab-primary-surface-color, white);\n",
       "                }\n",
       "                    \n",
       "                .geemap-colab .jupyter-button {\n",
       "                    --jp-layout-color3: var(--colab-primary-surface-color, white);\n",
       "                }\n",
       "            </style>\n",
       "            "
      ],
      "text/plain": [
       "<IPython.core.display.HTML object>"
      ]
     },
     "metadata": {},
     "output_type": "display_data"
    }
   ],
   "source": [
    "hexagons_gee_list = []\n",
    "if hex8.shape[0]>1000:\n",
    "    chunks = int(np.ceil(hex8.shape[0]/1000))\n",
    "\n",
    "    for i in range(1,chunks+1):\n",
    "        if i!=chunks:\n",
    "            temp = hex8.iloc[(i-1)*1000:i*1000]\n",
    "            hexagons_gee_list.append(geemap.gdf_to_ee(temp))\n",
    "        \n",
    "        if i==chunks:\n",
    "            temp = hex8.iloc[(i-1)*1000:]\n",
    "            hexagons_gee_list.append(geemap.gdf_to_ee(temp))\n",
    "\n",
    "else:\n",
    "    hexagons_gee_list.append(geemap.gdf_to_ee(hex8))\n",
    "\n"
   ]
  },
  {
   "cell_type": "code",
   "execution_count": 14,
   "metadata": {},
   "outputs": [
    {
     "data": {
      "text/html": [
       "\n",
       "            <style>\n",
       "                .geemap-dark {\n",
       "                    --jp-widgets-color: white;\n",
       "                    --jp-widgets-label-color: white;\n",
       "                    --jp-ui-font-color1: white;\n",
       "                    --jp-layout-color2: #454545;\n",
       "                    background-color: #383838;\n",
       "                }\n",
       "                    \n",
       "                .geemap-dark .jupyter-button {\n",
       "                    --jp-layout-color3: #383838;\n",
       "                }\n",
       "                \n",
       "                .geemap-colab {\n",
       "                    background-color: var(--colab-primary-surface-color, white);\n",
       "                }\n",
       "                    \n",
       "                .geemap-colab .jupyter-button {\n",
       "                    --jp-layout-color3: var(--colab-primary-surface-color, white);\n",
       "                }\n",
       "            </style>\n",
       "            "
      ],
      "text/plain": [
       "<IPython.core.display.HTML object>"
      ]
     },
     "metadata": {},
     "output_type": "display_data"
    }
   ],
   "source": [
    "south_states_gee = geemap.gdf_to_ee(south_states)"
   ]
  },
  {
   "cell_type": "code",
   "execution_count": 34,
   "metadata": {},
   "outputs": [
    {
     "data": {
      "text/html": [
       "\n",
       "            <style>\n",
       "                .geemap-dark {\n",
       "                    --jp-widgets-color: white;\n",
       "                    --jp-widgets-label-color: white;\n",
       "                    --jp-ui-font-color1: white;\n",
       "                    --jp-layout-color2: #454545;\n",
       "                    background-color: #383838;\n",
       "                }\n",
       "                    \n",
       "                .geemap-dark .jupyter-button {\n",
       "                    --jp-layout-color3: #383838;\n",
       "                }\n",
       "                \n",
       "                .geemap-colab {\n",
       "                    background-color: var(--colab-primary-surface-color, white);\n",
       "                }\n",
       "                    \n",
       "                .geemap-colab .jupyter-button {\n",
       "                    --jp-layout-color3: var(--colab-primary-surface-color, white);\n",
       "                }\n",
       "            </style>\n",
       "            "
      ],
      "text/plain": [
       "<IPython.core.display.HTML object>"
      ]
     },
     "metadata": {},
     "output_type": "display_data"
    }
   ],
   "source": [
    "water=ee.Image('JRC/GSW1_0/GlobalSurfaceWater').select('occurrence')\n",
    "notWater= water.mask().Not()\n",
    "# create a summer filter\n",
    "sumFilter = ee.Filter.dayOfYear(31,121)\n",
    "\n",
    "def cloudMask(cloudyScene):\n",
    "    scored=ee.Algorithms.Landsat.simpleCloudScore(cloudyScene)\n",
    "    mask=scored.select(['cloud']).lte(10)\n",
    "    return cloudyScene.updateMask(mask)\n",
    "\n",
    "\n",
    "col = ee.ImageCollection('LANDSAT/LC08/C02/T1_TOA') \\\n",
    "   .filterDate('2018-01-01', '2023-01-01') \\\n",
    "   .filter(sumFilter) \\\n",
    "   .filterBounds(south_states_gee) \\\n",
    "   .map(cloudMask)\n",
    "\n",
    "image=col.median()\n",
    "\n",
    "thermal=image.select('B10') \\\n",
    "   .updateMask(notWater)\n",
    "\n",
    "ndvi=ee.ImageCollection('LANDSAT/LC08/C02/T1_L2') \\\n",
    "   .filterDate('2018-01-01', '2023-01-01') \\\n",
    "   .filter(sumFilter) \\\n",
    "   .filterBounds(south_states_gee) \\\n",
    "   .median() \\\n",
    "   .normalizedDifference(['SR_B5', 'SR_B4']).rename('NDVI') \\\n",
    "   .updateMask(notWater)\n",
    "\n",
    "\n",
    "# minMax= ndvi.reduceRegion({ \\\n",
    "#    'reducer': ee.Reducer.min().combine({ \\\n",
    "#        'reducer': ee.Reducer.max(), \\\n",
    "#        'sharedInputs': True \\\n",
    "#    }), \\\n",
    "#     'geometry': south_states_gee,\n",
    "#    'scale': 30, \\\n",
    "#    'maxPixels': 1e9 \\\n",
    "# })\n",
    "\n",
    "minMax= ndvi.reduceRegion(\n",
    "   reducer=ee.Reducer.min().combine(\n",
    "       reducer2=ee.Reducer.max(), \n",
    "       sharedInputs=True \n",
    "   ), \n",
    "    geometry=south_states_gee,\n",
    "   scale=30, \n",
    "   maxPixels=1e9 \n",
    ")\n",
    "\n",
    "min_ndvi=ee.Number(minMax.get('NDVI_min'))\n",
    "max_ndvi=ee.Number(minMax.get('NDVI_max'))\n",
    "\n",
    "# fractional vegetation\n",
    "fv=ndvi.subtract(min_ndvi).divide(max_ndvi.subtract(min_ndvi)).rename('FV')\n",
    "\n",
    "# Now we use an empirical model of emissivity based on this fractional vegetation cover (Sekertekin and Bonafoni 2020).\n",
    "a=ee.Number(0.004)\n",
    "b=ee.Number(0.986)\n",
    "em=fv.multiply(a).add(b).rename('EMM').updateMask(notWater)\n",
    "\n",
    "lstLandsat=thermal.expression(\n",
    "   '(Tb/(1 + (0.001145* (Tb / 1.438))*log(Ep)))-273.15',{\n",
    "       'Tb': thermal.select('B10'),\n",
    "       'Ep': em.select('EMM')\n",
    "   }).updateMask(notWater)\n",
    "\n"
   ]
  },
  {
   "cell_type": "code",
   "execution_count": 48,
   "metadata": {},
   "outputs": [
    {
     "data": {
      "text/html": [
       "\n",
       "            <style>\n",
       "                .geemap-dark {\n",
       "                    --jp-widgets-color: white;\n",
       "                    --jp-widgets-label-color: white;\n",
       "                    --jp-ui-font-color1: white;\n",
       "                    --jp-layout-color2: #454545;\n",
       "                    background-color: #383838;\n",
       "                }\n",
       "                    \n",
       "                .geemap-dark .jupyter-button {\n",
       "                    --jp-layout-color3: #383838;\n",
       "                }\n",
       "                \n",
       "                .geemap-colab {\n",
       "                    background-color: var(--colab-primary-surface-color, white);\n",
       "                }\n",
       "                    \n",
       "                .geemap-colab .jupyter-button {\n",
       "                    --jp-layout-color3: var(--colab-primary-surface-color, white);\n",
       "                }\n",
       "            </style>\n",
       "            "
      ],
      "text/plain": [
       "<IPython.core.display.HTML object>"
      ]
     },
     "metadata": {},
     "output_type": "display_data"
    },
    {
     "data": {
      "text/html": [
       "<div>\n",
       "<style scoped>\n",
       "    .dataframe tbody tr th:only-of-type {\n",
       "        vertical-align: middle;\n",
       "    }\n",
       "\n",
       "    .dataframe tbody tr th {\n",
       "        vertical-align: top;\n",
       "    }\n",
       "\n",
       "    .dataframe thead th {\n",
       "        text-align: right;\n",
       "    }\n",
       "</style>\n",
       "<table border=\"1\" class=\"dataframe\">\n",
       "  <thead>\n",
       "    <tr style=\"text-align: right;\">\n",
       "      <th></th>\n",
       "      <th>FID</th>\n",
       "      <th>globalid</th>\n",
       "      <th>uniq_id</th>\n",
       "      <th>timestamp</th>\n",
       "      <th>editor</th>\n",
       "      <th>statename</th>\n",
       "      <th>statecode</th>\n",
       "      <th>capcity</th>\n",
       "      <th>source</th>\n",
       "      <th>geozone</th>\n",
       "      <th>SHAPE_Leng</th>\n",
       "      <th>SHAPE_Area</th>\n",
       "      <th>geometry</th>\n",
       "    </tr>\n",
       "  </thead>\n",
       "  <tbody>\n",
       "    <tr>\n",
       "      <th>20</th>\n",
       "      <td>21</td>\n",
       "      <td>80db4727-d196-4bd9-9b36-51f728d80de2</td>\n",
       "      <td>1165</td>\n",
       "      <td>2018-12-13</td>\n",
       "      <td>abraham.oluseye</td>\n",
       "      <td>Anambra</td>\n",
       "      <td>AN</td>\n",
       "      <td>Awka</td>\n",
       "      <td>eHA_Polio</td>\n",
       "      <td>SEZ</td>\n",
       "      <td>3.624593</td>\n",
       "      <td>0.393537</td>\n",
       "      <td>POLYGON ((6.86365 5.74933, 6.86324 5.74965, 6....</td>\n",
       "    </tr>\n",
       "    <tr>\n",
       "      <th>24</th>\n",
       "      <td>25</td>\n",
       "      <td>d4bea7a2-3d76-4985-938c-61dd493be2cb</td>\n",
       "      <td>1169</td>\n",
       "      <td>2018-12-13</td>\n",
       "      <td>abraham.oluseye</td>\n",
       "      <td>Imo</td>\n",
       "      <td>IM</td>\n",
       "      <td>Owerri</td>\n",
       "      <td>WHO</td>\n",
       "      <td>SEZ</td>\n",
       "      <td>2.794305</td>\n",
       "      <td>0.416382</td>\n",
       "      <td>POLYGON ((7.38548 5.50336, 7.38477 5.50151, 7....</td>\n",
       "    </tr>\n",
       "    <tr>\n",
       "      <th>28</th>\n",
       "      <td>29</td>\n",
       "      <td>5a651043-340f-4235-9270-bdff3be5ecc3</td>\n",
       "      <td>1174</td>\n",
       "      <td>2018-12-13</td>\n",
       "      <td>abraham.oluseye</td>\n",
       "      <td>Abia</td>\n",
       "      <td>AB</td>\n",
       "      <td>Umuahia</td>\n",
       "      <td>WHO</td>\n",
       "      <td>SEZ</td>\n",
       "      <td>4.566081</td>\n",
       "      <td>0.391390</td>\n",
       "      <td>POLYGON ((7.47943 4.92413, 7.47872 4.91954, 7....</td>\n",
       "    </tr>\n",
       "    <tr>\n",
       "      <th>34</th>\n",
       "      <td>35</td>\n",
       "      <td>7d0f6cce-4fc4-4562-aed6-c1e297dcff20</td>\n",
       "      <td>1170</td>\n",
       "      <td>2018-12-13</td>\n",
       "      <td>abraham.oluseye</td>\n",
       "      <td>Enugu</td>\n",
       "      <td>EN</td>\n",
       "      <td>Enugu</td>\n",
       "      <td>WHO</td>\n",
       "      <td>SEZ</td>\n",
       "      <td>4.380752</td>\n",
       "      <td>0.623461</td>\n",
       "      <td>POLYGON ((7.53338 6.01098, 7.52006 6.02002, 7....</td>\n",
       "    </tr>\n",
       "    <tr>\n",
       "      <th>36</th>\n",
       "      <td>37</td>\n",
       "      <td>7f949ae4-887f-4fe0-99a4-3d09aaa27d0e</td>\n",
       "      <td>1173</td>\n",
       "      <td>2018-12-13</td>\n",
       "      <td>abraham.oluseye</td>\n",
       "      <td>Ebonyi</td>\n",
       "      <td>EB</td>\n",
       "      <td>Abakaliki</td>\n",
       "      <td>eHA_Polio</td>\n",
       "      <td>SEZ</td>\n",
       "      <td>4.424806</td>\n",
       "      <td>0.530099</td>\n",
       "      <td>POLYGON ((7.59936 5.95737, 7.61311 5.95198, 7....</td>\n",
       "    </tr>\n",
       "  </tbody>\n",
       "</table>\n",
       "</div>"
      ],
      "text/plain": [
       "    FID                              globalid  uniq_id   timestamp  \\\n",
       "20   21  80db4727-d196-4bd9-9b36-51f728d80de2     1165  2018-12-13   \n",
       "24   25  d4bea7a2-3d76-4985-938c-61dd493be2cb     1169  2018-12-13   \n",
       "28   29  5a651043-340f-4235-9270-bdff3be5ecc3     1174  2018-12-13   \n",
       "34   35  7d0f6cce-4fc4-4562-aed6-c1e297dcff20     1170  2018-12-13   \n",
       "36   37  7f949ae4-887f-4fe0-99a4-3d09aaa27d0e     1173  2018-12-13   \n",
       "\n",
       "             editor statename statecode    capcity     source geozone  \\\n",
       "20  abraham.oluseye   Anambra        AN       Awka  eHA_Polio     SEZ   \n",
       "24  abraham.oluseye       Imo        IM     Owerri        WHO     SEZ   \n",
       "28  abraham.oluseye      Abia        AB    Umuahia        WHO     SEZ   \n",
       "34  abraham.oluseye     Enugu        EN      Enugu        WHO     SEZ   \n",
       "36  abraham.oluseye    Ebonyi        EB  Abakaliki  eHA_Polio     SEZ   \n",
       "\n",
       "    SHAPE_Leng  SHAPE_Area                                           geometry  \n",
       "20    3.624593    0.393537  POLYGON ((6.86365 5.74933, 6.86324 5.74965, 6....  \n",
       "24    2.794305    0.416382  POLYGON ((7.38548 5.50336, 7.38477 5.50151, 7....  \n",
       "28    4.566081    0.391390  POLYGON ((7.47943 4.92413, 7.47872 4.91954, 7....  \n",
       "34    4.380752    0.623461  POLYGON ((7.53338 6.01098, 7.52006 6.02002, 7....  \n",
       "36    4.424806    0.530099  POLYGON ((7.59936 5.95737, 7.61311 5.95198, 7....  "
      ]
     },
     "execution_count": 48,
     "metadata": {},
     "output_type": "execute_result"
    }
   ],
   "source": [
    "south_states"
   ]
  },
  {
   "cell_type": "code",
   "execution_count": 56,
   "metadata": {},
   "outputs": [
    {
     "data": {
      "text/html": [
       "\n",
       "            <style>\n",
       "                .geemap-dark {\n",
       "                    --jp-widgets-color: white;\n",
       "                    --jp-widgets-label-color: white;\n",
       "                    --jp-ui-font-color1: white;\n",
       "                    --jp-layout-color2: #454545;\n",
       "                    background-color: #383838;\n",
       "                }\n",
       "                    \n",
       "                .geemap-dark .jupyter-button {\n",
       "                    --jp-layout-color3: #383838;\n",
       "                }\n",
       "                \n",
       "                .geemap-colab {\n",
       "                    background-color: var(--colab-primary-surface-color, white);\n",
       "                }\n",
       "                    \n",
       "                .geemap-colab .jupyter-button {\n",
       "                    --jp-layout-color3: var(--colab-primary-surface-color, white);\n",
       "                }\n",
       "            </style>\n",
       "            "
      ],
      "text/plain": [
       "<IPython.core.display.HTML object>"
      ]
     },
     "metadata": {},
     "output_type": "display_data"
    }
   ],
   "source": [
    "for statename in south_states['statename'].to_list():\n",
    "    temp = geemap.gdf_to_ee(south_states[south_states['statename']==statename])\n",
    "    geemap.ee_export_image_to_drive(lstLandsat, f\"{statename}_UHI.tif\", scale=30, crs=\"epsg:4326\", region=temp.geometry(), folder='earthengine')"
   ]
  },
  {
   "cell_type": "code",
   "execution_count": 63,
   "metadata": {},
   "outputs": [
    {
     "data": {
      "text/html": [
       "\n",
       "            <style>\n",
       "                .geemap-dark {\n",
       "                    --jp-widgets-color: white;\n",
       "                    --jp-widgets-label-color: white;\n",
       "                    --jp-ui-font-color1: white;\n",
       "                    --jp-layout-color2: #454545;\n",
       "                    background-color: #383838;\n",
       "                }\n",
       "                    \n",
       "                .geemap-dark .jupyter-button {\n",
       "                    --jp-layout-color3: #383838;\n",
       "                }\n",
       "                \n",
       "                .geemap-colab {\n",
       "                    background-color: var(--colab-primary-surface-color, white);\n",
       "                }\n",
       "                    \n",
       "                .geemap-colab .jupyter-button {\n",
       "                    --jp-layout-color3: var(--colab-primary-surface-color, white);\n",
       "                }\n",
       "            </style>\n",
       "            "
      ],
      "text/plain": [
       "<IPython.core.display.HTML object>"
      ]
     },
     "metadata": {},
     "output_type": "display_data"
    },
    {
     "data": {
      "text/plain": [
       "['Anambra', 'Imo', 'Abia', 'Enugu', 'Ebonyi']"
      ]
     },
     "execution_count": 63,
     "metadata": {},
     "output_type": "execute_result"
    }
   ],
   "source": [
    "south_states['statename'].to_list()"
   ]
  },
  {
   "cell_type": "code",
   "execution_count": 65,
   "metadata": {},
   "outputs": [
    {
     "data": {
      "text/html": [
       "\n",
       "            <style>\n",
       "                .geemap-dark {\n",
       "                    --jp-widgets-color: white;\n",
       "                    --jp-widgets-label-color: white;\n",
       "                    --jp-ui-font-color1: white;\n",
       "                    --jp-layout-color2: #454545;\n",
       "                    background-color: #383838;\n",
       "                }\n",
       "                    \n",
       "                .geemap-dark .jupyter-button {\n",
       "                    --jp-layout-color3: #383838;\n",
       "                }\n",
       "                \n",
       "                .geemap-colab {\n",
       "                    background-color: var(--colab-primary-surface-color, white);\n",
       "                }\n",
       "                    \n",
       "                .geemap-colab .jupyter-button {\n",
       "                    --jp-layout-color3: var(--colab-primary-surface-color, white);\n",
       "                }\n",
       "            </style>\n",
       "            "
      ],
      "text/plain": [
       "<IPython.core.display.HTML object>"
      ]
     },
     "metadata": {},
     "output_type": "display_data"
    }
   ],
   "source": [
    "geemap.ee_export_image_to_asset(lstLandsat, \"UHI.tif\", scale=30, assetId='uhi', crs=\"epsg:4326\", region=south_states_gee.geometry())"
   ]
  },
  {
   "cell_type": "code",
   "execution_count": 17,
   "metadata": {},
   "outputs": [
    {
     "data": {
      "text/html": [
       "\n",
       "            <style>\n",
       "                .geemap-dark {\n",
       "                    --jp-widgets-color: white;\n",
       "                    --jp-widgets-label-color: white;\n",
       "                    --jp-ui-font-color1: white;\n",
       "                    --jp-layout-color2: #454545;\n",
       "                    background-color: #383838;\n",
       "                }\n",
       "                    \n",
       "                .geemap-dark .jupyter-button {\n",
       "                    --jp-layout-color3: #383838;\n",
       "                }\n",
       "                \n",
       "                .geemap-colab {\n",
       "                    background-color: var(--colab-primary-surface-color, white);\n",
       "                }\n",
       "                    \n",
       "                .geemap-colab .jupyter-button {\n",
       "                    --jp-layout-color3: var(--colab-primary-surface-color, white);\n",
       "                }\n",
       "            </style>\n",
       "            "
      ],
      "text/plain": [
       "<IPython.core.display.HTML object>"
      ]
     },
     "metadata": {},
     "output_type": "display_data"
    }
   ],
   "source": [
    "from geemap import Map"
   ]
  },
  {
   "cell_type": "code",
   "execution_count": 38,
   "metadata": {},
   "outputs": [
    {
     "data": {
      "text/html": [
       "\n",
       "            <style>\n",
       "                .geemap-dark {\n",
       "                    --jp-widgets-color: white;\n",
       "                    --jp-widgets-label-color: white;\n",
       "                    --jp-ui-font-color1: white;\n",
       "                    --jp-layout-color2: #454545;\n",
       "                    background-color: #383838;\n",
       "                }\n",
       "                    \n",
       "                .geemap-dark .jupyter-button {\n",
       "                    --jp-layout-color3: #383838;\n",
       "                }\n",
       "                \n",
       "                .geemap-colab {\n",
       "                    background-color: var(--colab-primary-surface-color, white);\n",
       "                }\n",
       "                    \n",
       "                .geemap-colab .jupyter-button {\n",
       "                    --jp-layout-color3: var(--colab-primary-surface-color, white);\n",
       "                }\n",
       "            </style>\n",
       "            "
      ],
      "text/plain": [
       "<IPython.core.display.HTML object>"
      ]
     },
     "metadata": {},
     "output_type": "display_data"
    },
    {
     "data": {
      "application/vnd.jupyter.widget-view+json": {
       "model_id": "670cc23de6594314b1de10d0031a368d",
       "version_major": 2,
       "version_minor": 0
      },
      "text/plain": [
       "Map(center=[5.6, 6.36], controls=(WidgetControl(options=['position', 'transparent_bg'], widget=SearchDataGUI(c…"
      ]
     },
     "execution_count": 38,
     "metadata": {},
     "output_type": "execute_result"
    }
   ],
   "source": [
    "Map = geemap.Map(center=[5.6, 6.36], zoom=12)\n",
    "# Map.addLayer(em, {'palette': ['blue', 'white', 'green'], 'min': 0.98, 'max': 0.99})\n",
    "Map.addLayer(lstLandsat,\n",
    "             {'palette': ['blue', 'white', 'red'], 'min': 25, 'max': 35})\n",
    "Map"
   ]
  },
  {
   "cell_type": "code",
   "execution_count": 37,
   "metadata": {},
   "outputs": [
    {
     "data": {
      "text/html": [
       "\n",
       "            <style>\n",
       "                .geemap-dark {\n",
       "                    --jp-widgets-color: white;\n",
       "                    --jp-widgets-label-color: white;\n",
       "                    --jp-ui-font-color1: white;\n",
       "                    --jp-layout-color2: #454545;\n",
       "                    background-color: #383838;\n",
       "                }\n",
       "                    \n",
       "                .geemap-dark .jupyter-button {\n",
       "                    --jp-layout-color3: #383838;\n",
       "                }\n",
       "                \n",
       "                .geemap-colab {\n",
       "                    background-color: var(--colab-primary-surface-color, white);\n",
       "                }\n",
       "                    \n",
       "                .geemap-colab .jupyter-button {\n",
       "                    --jp-layout-color3: var(--colab-primary-surface-color, white);\n",
       "                }\n",
       "            </style>\n",
       "            "
      ],
      "text/plain": [
       "<IPython.core.display.HTML object>"
      ]
     },
     "metadata": {},
     "output_type": "display_data"
    },
    {
     "name": "stdout",
     "output_type": "stream",
     "text": [
      "Start GEE\n",
      "Computing statistics ...\n",
      "Generating URL ...\n",
      "Downloading data from https://earthengine.googleapis.com/v1/projects/earthengine-legacy/tables/0b7f14a5aa1b8172dca175bd044b0a0e-74ff6e4cb9b99ec593f66ac14ba74027:getFeatures\n",
      "Please wait ...\n",
      "Data downloaded to d:\\GitHub\\BluePaleDot\\data\\uhi\\hex8\\hex8_uhi_0.csv\n",
      "Computing statistics ...\n",
      "Generating URL ...\n",
      "Downloading data from https://earthengine.googleapis.com/v1/projects/earthengine-legacy/tables/e95462ea934b372e4c8850c6c1f92ba3-a4d6a6379e789fa9ca543b0ec0553ad3:getFeatures\n",
      "Please wait ...\n",
      "Data downloaded to d:\\GitHub\\BluePaleDot\\data\\uhi\\hex8\\hex8_uhi_1.csv\n",
      "Computing statistics ...\n",
      "Generating URL ...\n",
      "Downloading data from https://earthengine.googleapis.com/v1/projects/earthengine-legacy/tables/eb2ae5a01cdabee88f3bdd807239d71a-2c1a759137176ade95c22852d3b45ac3:getFeatures\n",
      "Please wait ...\n",
      "Data downloaded to d:\\GitHub\\BluePaleDot\\data\\uhi\\hex8\\hex8_uhi_2.csv\n",
      "Computing statistics ...\n",
      "Generating URL ...\n",
      "Downloading data from https://earthengine.googleapis.com/v1/projects/earthengine-legacy/tables/292083b15ade0fc676d107bbbdfe119f-dfdb2e5f78a2094577ed661cbf9cf289:getFeatures\n",
      "Please wait ...\n",
      "Data downloaded to d:\\GitHub\\BluePaleDot\\data\\uhi\\hex8\\hex8_uhi_3.csv\n",
      "Computing statistics ...\n",
      "Generating URL ...\n",
      "Downloading data from https://earthengine.googleapis.com/v1/projects/earthengine-legacy/tables/d632936e32af1a33990decfd8b8cd3ec-f377440a543eba0d106f8f41222a7870:getFeatures\n",
      "Please wait ...\n",
      "Data downloaded to d:\\GitHub\\BluePaleDot\\data\\uhi\\hex8\\hex8_uhi_4.csv\n",
      "Computing statistics ...\n",
      "Generating URL ...\n",
      "Downloading data from https://earthengine.googleapis.com/v1/projects/earthengine-legacy/tables/e7656ee4091e2f757c512714f8d11990-4d171c985904df78440b65158c85556d:getFeatures\n",
      "Please wait ...\n",
      "Data downloaded to d:\\GitHub\\BluePaleDot\\data\\uhi\\hex8\\hex8_uhi_5.csv\n",
      "Computing statistics ...\n",
      "Generating URL ...\n",
      "Downloading data from https://earthengine.googleapis.com/v1/projects/earthengine-legacy/tables/3077ebe950a46a32484eea10f5dfc4f3-837280402b588ce427ee51d7ba704c14:getFeatures\n",
      "Please wait ...\n",
      "Data downloaded to d:\\GitHub\\BluePaleDot\\data\\uhi\\hex8\\hex8_uhi_6.csv\n",
      "Computing statistics ...\n",
      "Generating URL ...\n",
      "Downloading data from https://earthengine.googleapis.com/v1/projects/earthengine-legacy/tables/f69023a61fe8c0eba1f41f3b84261de8-9b9ad2bb7b84e7a8adc075da4e0b40c4:getFeatures\n",
      "Please wait ...\n",
      "Data downloaded to d:\\GitHub\\BluePaleDot\\data\\uhi\\hex8\\hex8_uhi_7.csv\n",
      "Computing statistics ...\n",
      "Generating URL ...\n",
      "Downloading data from https://earthengine.googleapis.com/v1/projects/earthengine-legacy/tables/65b6db2ea2c288eff62983ea51d593bd-d92deab35a2ec08a218f819e162ecc71:getFeatures\n",
      "Please wait ...\n",
      "Data downloaded to d:\\GitHub\\BluePaleDot\\data\\uhi\\hex8\\hex8_uhi_8.csv\n",
      "Computing statistics ...\n",
      "Generating URL ...\n",
      "Downloading data from https://earthengine.googleapis.com/v1/projects/earthengine-legacy/tables/b71952ed0015afa537f08535e6a5241c-f68cdfff4cc1deb0735ee94ffc454be4:getFeatures\n",
      "Please wait ...\n",
      "Data downloaded to d:\\GitHub\\BluePaleDot\\data\\uhi\\hex8\\hex8_uhi_9.csv\n",
      "Computing statistics ...\n",
      "Generating URL ...\n",
      "Downloading data from https://earthengine.googleapis.com/v1/projects/earthengine-legacy/tables/7b98690d831a140525f6d7080b2a807a-9c9816f6923572cc4c2b3f41384e2623:getFeatures\n",
      "Please wait ...\n",
      "Data downloaded to d:\\GitHub\\BluePaleDot\\data\\uhi\\hex8\\hex8_uhi_10.csv\n",
      "Computing statistics ...\n",
      "Generating URL ...\n",
      "Downloading data from https://earthengine.googleapis.com/v1/projects/earthengine-legacy/tables/d8ea514fae5f66dfc75bbdf7bd2dc14f-9761ce6882581ebd3a40c2c05e2ec069:getFeatures\n",
      "Please wait ...\n",
      "Data downloaded to d:\\GitHub\\BluePaleDot\\data\\uhi\\hex8\\hex8_uhi_11.csv\n",
      "Computing statistics ...\n",
      "Generating URL ...\n",
      "Downloading data from https://earthengine.googleapis.com/v1/projects/earthengine-legacy/tables/18efcb7af558281c68ee5315ae92af96-28776faefeee98970765bf6cbdea75c5:getFeatures\n",
      "Please wait ...\n",
      "Data downloaded to d:\\GitHub\\BluePaleDot\\data\\uhi\\hex8\\hex8_uhi_12.csv\n",
      "Computing statistics ...\n",
      "Generating URL ...\n",
      "Downloading data from https://earthengine.googleapis.com/v1/projects/earthengine-legacy/tables/37ea94e448cc3524ab12b316065c6072-037d32a55412a1d5c452ff9a024d2a9a:getFeatures\n",
      "Please wait ...\n",
      "Data downloaded to d:\\GitHub\\BluePaleDot\\data\\uhi\\hex8\\hex8_uhi_13.csv\n",
      "Computing statistics ...\n",
      "Generating URL ...\n",
      "Downloading data from https://earthengine.googleapis.com/v1/projects/earthengine-legacy/tables/a1ba2748c2954591d78ac9ddd4c47d09-3e670b0c291959e3d4187edb2f21a8d3:getFeatures\n",
      "Please wait ...\n",
      "Data downloaded to d:\\GitHub\\BluePaleDot\\data\\uhi\\hex8\\hex8_uhi_14.csv\n",
      "Computing statistics ...\n",
      "Generating URL ...\n",
      "Downloading data from https://earthengine.googleapis.com/v1/projects/earthengine-legacy/tables/404f6874e2f9ed6d893cb73945c4f2ea-467aaa737ea1585d4d8327bc126d5120:getFeatures\n",
      "Please wait ...\n",
      "Data downloaded to d:\\GitHub\\BluePaleDot\\data\\uhi\\hex8\\hex8_uhi_15.csv\n",
      "Computing statistics ...\n",
      "Generating URL ...\n",
      "Downloading data from https://earthengine.googleapis.com/v1/projects/earthengine-legacy/tables/ba3c1c9af6f284778415cbbb47379dc8-7022243e326f5e97aad01103cdac7e66:getFeatures\n",
      "Please wait ...\n",
      "Data downloaded to d:\\GitHub\\BluePaleDot\\data\\uhi\\hex8\\hex8_uhi_16.csv\n",
      "Computing statistics ...\n",
      "Generating URL ...\n",
      "Downloading data from https://earthengine.googleapis.com/v1/projects/earthengine-legacy/tables/77a79e695970b68ffa0909bf5f62fd80-9e21df28438c8af642aa2f8726c4af19:getFeatures\n",
      "Please wait ...\n",
      "Data downloaded to d:\\GitHub\\BluePaleDot\\data\\uhi\\hex8\\hex8_uhi_17.csv\n",
      "Computing statistics ...\n",
      "Generating URL ...\n",
      "Downloading data from https://earthengine.googleapis.com/v1/projects/earthengine-legacy/tables/3a670244ed7f0b2458a368d4e6b28e8a-650cc3315f04c29707f1e09ddfb7d529:getFeatures\n",
      "Please wait ...\n",
      "Data downloaded to d:\\GitHub\\BluePaleDot\\data\\uhi\\hex8\\hex8_uhi_18.csv\n",
      "Computing statistics ...\n",
      "Generating URL ...\n",
      "Downloading data from https://earthengine.googleapis.com/v1/projects/earthengine-legacy/tables/0ed6cbe1bbe13301a14b1795348c4d00-75abf73902c8cc44ec0f11a56095491a:getFeatures\n",
      "Please wait ...\n",
      "Data downloaded to d:\\GitHub\\BluePaleDot\\data\\uhi\\hex8\\hex8_uhi_19.csv\n",
      "Computing statistics ...\n",
      "Generating URL ...\n",
      "Downloading data from https://earthengine.googleapis.com/v1/projects/earthengine-legacy/tables/dabb9dafbb1c1bc4f6ba74432369b9e9-0efc8fd0dc13b4b2781eb5f413abbd17:getFeatures\n",
      "Please wait ...\n",
      "Data downloaded to d:\\GitHub\\BluePaleDot\\data\\uhi\\hex8\\hex8_uhi_20.csv\n",
      "Computing statistics ...\n",
      "Generating URL ...\n",
      "Downloading data from https://earthengine.googleapis.com/v1/projects/earthengine-legacy/tables/220a3907792fe5be69de8dab92a57004-9da8876fcd987facc7e95caf30caa21a:getFeatures\n",
      "Please wait ...\n",
      "Data downloaded to d:\\GitHub\\BluePaleDot\\data\\uhi\\hex8\\hex8_uhi_21.csv\n",
      "Computing statistics ...\n",
      "Generating URL ...\n",
      "Downloading data from https://earthengine.googleapis.com/v1/projects/earthengine-legacy/tables/0bb8ed9af6f4ec1972fa0b883a9ba6fd-7dcd823ff22214f8fc771d75c3426521:getFeatures\n",
      "Please wait ...\n",
      "Data downloaded to d:\\GitHub\\BluePaleDot\\data\\uhi\\hex8\\hex8_uhi_22.csv\n",
      "Computing statistics ...\n",
      "Generating URL ...\n",
      "Downloading data from https://earthengine.googleapis.com/v1/projects/earthengine-legacy/tables/2c7432c665089e7f609fca87fe159c24-8cb803e55b9f03fb7c4cf8dbbf21903d:getFeatures\n",
      "Please wait ...\n",
      "Data downloaded to d:\\GitHub\\BluePaleDot\\data\\uhi\\hex8\\hex8_uhi_23.csv\n",
      "Computing statistics ...\n",
      "Generating URL ...\n",
      "Downloading data from https://earthengine.googleapis.com/v1/projects/earthengine-legacy/tables/0871172ed5979189813886b69ee7a58a-3d3e63f461dc6bb3204d5e85d4276f97:getFeatures\n",
      "Please wait ...\n",
      "Data downloaded to d:\\GitHub\\BluePaleDot\\data\\uhi\\hex8\\hex8_uhi_24.csv\n",
      "Computing statistics ...\n",
      "Generating URL ...\n",
      "Downloading data from https://earthengine.googleapis.com/v1/projects/earthengine-legacy/tables/043d54a3ced943573441ec46d2f0dc44-9779ba933193282f3e18effa355a44cc:getFeatures\n",
      "Please wait ...\n",
      "Data downloaded to d:\\GitHub\\BluePaleDot\\data\\uhi\\hex8\\hex8_uhi_25.csv\n",
      "Computing statistics ...\n",
      "Generating URL ...\n",
      "Downloading data from https://earthengine.googleapis.com/v1/projects/earthengine-legacy/tables/c578c0a601dc18589968fde6496ed468-2138cc611f30aabe36010fb74cb41680:getFeatures\n",
      "Please wait ...\n",
      "Data downloaded to d:\\GitHub\\BluePaleDot\\data\\uhi\\hex8\\hex8_uhi_26.csv\n",
      "Computing statistics ...\n",
      "Generating URL ...\n",
      "Downloading data from https://earthengine.googleapis.com/v1/projects/earthengine-legacy/tables/8ea2ad0c151baf3897a8c48c59fddb0b-74197e56630020fe1787c223121fa2cc:getFeatures\n",
      "Please wait ...\n",
      "Data downloaded to d:\\GitHub\\BluePaleDot\\data\\uhi\\hex8\\hex8_uhi_27.csv\n",
      "Computing statistics ...\n",
      "Generating URL ...\n",
      "Downloading data from https://earthengine.googleapis.com/v1/projects/earthengine-legacy/tables/dee626da5a615d0b0c1aec678086ddc5-08bc4bc045d2dcc3889c4dec04309bcf:getFeatures\n",
      "Please wait ...\n",
      "Data downloaded to d:\\GitHub\\BluePaleDot\\data\\uhi\\hex8\\hex8_uhi_28.csv\n",
      "Computing statistics ...\n",
      "Generating URL ...\n",
      "Downloading data from https://earthengine.googleapis.com/v1/projects/earthengine-legacy/tables/437db3a86f75212da7318149a0556bfe-04ffcee37666271e525cf513d759e224:getFeatures\n",
      "Please wait ...\n",
      "Data downloaded to d:\\GitHub\\BluePaleDot\\data\\uhi\\hex8\\hex8_uhi_29.csv\n",
      "Computing statistics ...\n",
      "Generating URL ...\n",
      "Downloading data from https://earthengine.googleapis.com/v1/projects/earthengine-legacy/tables/01ba5103da93a5d1689eb36b415b8e93-1400423147b2c93de3195236bbe86f26:getFeatures\n",
      "Please wait ...\n",
      "Data downloaded to d:\\GitHub\\BluePaleDot\\data\\uhi\\hex8\\hex8_uhi_30.csv\n",
      "Computing statistics ...\n",
      "Generating URL ...\n",
      "Downloading data from https://earthengine.googleapis.com/v1/projects/earthengine-legacy/tables/594f107f3d2fc33a00b15288103ba652-692c2e7f87a9e7cd32e9d944518cfd9e:getFeatures\n",
      "Please wait ...\n",
      "Data downloaded to d:\\GitHub\\BluePaleDot\\data\\uhi\\hex8\\hex8_uhi_31.csv\n",
      "Computing statistics ...\n",
      "Generating URL ...\n",
      "Downloading data from https://earthengine.googleapis.com/v1/projects/earthengine-legacy/tables/5cbcaa5bc70d4917d05c4e544b200633-552441eb2ead6760619c96816b2cda81:getFeatures\n",
      "Please wait ...\n",
      "Data downloaded to d:\\GitHub\\BluePaleDot\\data\\uhi\\hex8\\hex8_uhi_32.csv\n",
      "Computing statistics ...\n",
      "Generating URL ...\n",
      "Downloading data from https://earthengine.googleapis.com/v1/projects/earthengine-legacy/tables/40d83c0253f27a9e866af988862e5a1c-0deaada67192a7a949df7fa9fd0b2085:getFeatures\n",
      "Please wait ...\n",
      "Data downloaded to d:\\GitHub\\BluePaleDot\\data\\uhi\\hex8\\hex8_uhi_33.csv\n",
      "Computing statistics ...\n",
      "Generating URL ...\n",
      "Downloading data from https://earthengine.googleapis.com/v1/projects/earthengine-legacy/tables/4031a6c964a7228260f96c7fe13d17fe-c8577a92165a80cc5185aa94bbea935a:getFeatures\n",
      "Please wait ...\n",
      "Data downloaded to d:\\GitHub\\BluePaleDot\\data\\uhi\\hex8\\hex8_uhi_34.csv\n",
      "Computing statistics ...\n",
      "Generating URL ...\n",
      "Downloading data from https://earthengine.googleapis.com/v1/projects/earthengine-legacy/tables/0ef9291e621e0575c30034f769882baa-8b68b81c4f2d1ed5338e53e39817c4d0:getFeatures\n",
      "Please wait ...\n",
      "Data downloaded to d:\\GitHub\\BluePaleDot\\data\\uhi\\hex8\\hex8_uhi_35.csv\n",
      "Computing statistics ...\n",
      "Generating URL ...\n",
      "Downloading data from https://earthengine.googleapis.com/v1/projects/earthengine-legacy/tables/fcaba1fa3d7b2d8f8097bf4df700e9cd-b4f013ff63654dfc888920316b8bf37b:getFeatures\n",
      "Please wait ...\n",
      "Data downloaded to d:\\GitHub\\BluePaleDot\\data\\uhi\\hex8\\hex8_uhi_36.csv\n",
      "Computing statistics ...\n",
      "Generating URL ...\n",
      "Downloading data from https://earthengine.googleapis.com/v1/projects/earthengine-legacy/tables/dacda041c24e3978f10ae0d0f0430d3c-45387b0366e941dfc4ce4cda416302c6:getFeatures\n",
      "Please wait ...\n",
      "Data downloaded to d:\\GitHub\\BluePaleDot\\data\\uhi\\hex8\\hex8_uhi_37.csv\n",
      "Computing statistics ...\n",
      "Generating URL ...\n",
      "Downloading data from https://earthengine.googleapis.com/v1/projects/earthengine-legacy/tables/e1905389fd03cd0b8c3b6add23a5a239-bffd90a59e7216c077259f7eedfe5431:getFeatures\n",
      "Please wait ...\n",
      "Data downloaded to d:\\GitHub\\BluePaleDot\\data\\uhi\\hex8\\hex8_uhi_38.csv\n",
      "Computing statistics ...\n",
      "Generating URL ...\n",
      "Downloading data from https://earthengine.googleapis.com/v1/projects/earthengine-legacy/tables/3834740244b129303366e99b8a7679fd-de87d1bc3e4b3cbabc3bcfe364f6af74:getFeatures\n",
      "Please wait ...\n",
      "Data downloaded to d:\\GitHub\\BluePaleDot\\data\\uhi\\hex8\\hex8_uhi_39.csv\n",
      "Computing statistics ...\n",
      "Generating URL ...\n",
      "Downloading data from https://earthengine.googleapis.com/v1/projects/earthengine-legacy/tables/778e2f71c1ce7e30a4a8bfdcce02e3c3-45da7ebedf419ade1b360e75c3b7d0b6:getFeatures\n",
      "Please wait ...\n",
      "Data downloaded to d:\\GitHub\\BluePaleDot\\data\\uhi\\hex8\\hex8_uhi_40.csv\n",
      "Computing statistics ...\n",
      "Generating URL ...\n",
      "Downloading data from https://earthengine.googleapis.com/v1/projects/earthengine-legacy/tables/0f3a4e954cc68cae153c579e67385902-191940b9a154f76a8619e61361e3fbbf:getFeatures\n",
      "Please wait ...\n",
      "Data downloaded to d:\\GitHub\\BluePaleDot\\data\\uhi\\hex8\\hex8_uhi_41.csv\n",
      "Computing statistics ...\n",
      "Generating URL ...\n",
      "Downloading data from https://earthengine.googleapis.com/v1/projects/earthengine-legacy/tables/7e9210e47713531f975027ee9ec1d6e2-c7279b525af9ec1ee8abbf7d446d7076:getFeatures\n",
      "Please wait ...\n",
      "Data downloaded to d:\\GitHub\\BluePaleDot\\data\\uhi\\hex8\\hex8_uhi_42.csv\n",
      "Computing statistics ...\n",
      "Generating URL ...\n",
      "Downloading data from https://earthengine.googleapis.com/v1/projects/earthengine-legacy/tables/38d5f97cca0f8e76d8569ff31d4b90bc-98d72f1d059d54b84adb2573ef3ace1a:getFeatures\n",
      "Please wait ...\n",
      "Data downloaded to d:\\GitHub\\BluePaleDot\\data\\uhi\\hex8\\hex8_uhi_43.csv\n",
      "Computing statistics ...\n",
      "Generating URL ...\n",
      "Downloading data from https://earthengine.googleapis.com/v1/projects/earthengine-legacy/tables/e7018512763587268f64f214a7e72521-c92928535b41d1b429b85a262ee8aa73:getFeatures\n",
      "Please wait ...\n",
      "Data downloaded to d:\\GitHub\\BluePaleDot\\data\\uhi\\hex8\\hex8_uhi_44.csv\n",
      "Computing statistics ...\n",
      "Generating URL ...\n",
      "Downloading data from https://earthengine.googleapis.com/v1/projects/earthengine-legacy/tables/cd0fe77dc8ecc7cdc77cc94e4ecf194d-5ada45eba3117676b3532c19aa044e53:getFeatures\n",
      "Please wait ...\n",
      "Data downloaded to d:\\GitHub\\BluePaleDot\\data\\uhi\\hex8\\hex8_uhi_45.csv\n",
      "Computing statistics ...\n",
      "Generating URL ...\n",
      "Downloading data from https://earthengine.googleapis.com/v1/projects/earthengine-legacy/tables/155115dd58c8ff868c4e3a8ad7f8baf9-20c0e9a5b329829757b2f4aefe1ef100:getFeatures\n",
      "Please wait ...\n",
      "Data downloaded to d:\\GitHub\\BluePaleDot\\data\\uhi\\hex8\\hex8_uhi_46.csv\n"
     ]
    }
   ],
   "source": [
    "print('Start GEE')\n",
    "\n",
    "for idx, hex_gee in enumerate(hexagons_gee_list):\n",
    "    out_path = '../data/uhi/hex8'\n",
    "    out_dir = os.path.join(out_path)\n",
    "    out_file_path = os.path.join(out_dir, f'hex8_uhi_{idx}.csv')\n",
    "\n",
    "    if not os.path.exists(out_dir):\n",
    "        os.makedirs(out_dir)\n",
    "\n",
    "\n",
    "\n",
    "    geemap.zonal_statistics(lstLandsat, hex_gee, out_file_path, statistics_type='MEAN', scale=30)"
   ]
  },
  {
   "cell_type": "code",
   "execution_count": null,
   "metadata": {},
   "outputs": [],
   "source": []
  }
 ],
 "metadata": {
  "kernelspec": {
   "display_name": "Python 3",
   "language": "python",
   "name": "python3"
  },
  "language_info": {
   "codemirror_mode": {
    "name": "ipython",
    "version": 3
   },
   "file_extension": ".py",
   "mimetype": "text/x-python",
   "name": "python",
   "nbconvert_exporter": "python",
   "pygments_lexer": "ipython3",
   "version": "3.10.10"
  }
 },
 "nbformat": 4,
 "nbformat_minor": 2
}
