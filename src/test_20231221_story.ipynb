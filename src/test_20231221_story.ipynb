{
 "cells": [
  {
   "cell_type": "code",
   "execution_count": 209,
   "metadata": {},
   "outputs": [],
   "source": [
    "import pandas as pd\n",
    "pd.options.display.float_format = '{:,.2f}'.format\n",
    "import geopandas as gpd\n",
    "from h3_utils import *\n",
    "import h3\n",
    "import h3pandas\n",
    "\n",
    "from matplotlib import pyplot as plt\n",
    "\n",
    "from sklearn.cluster import KMeans"
   ]
  },
  {
   "cell_type": "code",
   "execution_count": 210,
   "metadata": {},
   "outputs": [],
   "source": [
    "data = gpd.read_parquet('../data/nga_ss_hex8.parquet')"
   ]
  },
  {
   "cell_type": "code",
   "execution_count": 211,
   "metadata": {},
   "outputs": [
    {
     "data": {
      "text/html": [
       "<div>\n",
       "<style scoped>\n",
       "    .dataframe tbody tr th:only-of-type {\n",
       "        vertical-align: middle;\n",
       "    }\n",
       "\n",
       "    .dataframe tbody tr th {\n",
       "        vertical-align: top;\n",
       "    }\n",
       "\n",
       "    .dataframe thead th {\n",
       "        text-align: right;\n",
       "    }\n",
       "</style>\n",
       "<table border=\"1\" class=\"dataframe\">\n",
       "  <thead>\n",
       "    <tr style=\"text-align: right;\">\n",
       "      <th></th>\n",
       "      <th>hex8</th>\n",
       "      <th>ntl_sum</th>\n",
       "      <th>pop_sum</th>\n",
       "      <th>LST mean</th>\n",
       "      <th>geometry</th>\n",
       "      <th>land cover</th>\n",
       "    </tr>\n",
       "  </thead>\n",
       "  <tbody>\n",
       "    <tr>\n",
       "      <th>0</th>\n",
       "      <td>8858890d61fffff</td>\n",
       "      <td>213.36</td>\n",
       "      <td>0.00</td>\n",
       "      <td>30.47</td>\n",
       "      <td>POLYGON ((7.12134 6.83952, 7.12025 6.83537, 7....</td>\n",
       "      <td>57</td>\n",
       "    </tr>\n",
       "    <tr>\n",
       "      <th>1</th>\n",
       "      <td>8858d4782bfffff</td>\n",
       "      <td>236.30</td>\n",
       "      <td>70.81</td>\n",
       "      <td>32.84</td>\n",
       "      <td>POLYGON ((8.08949 6.61433, 8.08836 6.61017, 8....</td>\n",
       "      <td>251</td>\n",
       "    </tr>\n",
       "    <tr>\n",
       "      <th>2</th>\n",
       "      <td>8858d6b8d5fffff</td>\n",
       "      <td>217.20</td>\n",
       "      <td>0.00</td>\n",
       "      <td>32.18</td>\n",
       "      <td>POLYGON ((7.87739 6.37906, 7.87628 6.37492, 7....</td>\n",
       "      <td>252</td>\n",
       "    </tr>\n",
       "    <tr>\n",
       "      <th>3</th>\n",
       "      <td>88588baf67fffff</td>\n",
       "      <td>498.36</td>\n",
       "      <td>54.23</td>\n",
       "      <td>30.15</td>\n",
       "      <td>POLYGON ((6.94948 6.27718, 6.94841 6.27307, 6....</td>\n",
       "      <td>251</td>\n",
       "    </tr>\n",
       "    <tr>\n",
       "      <th>4</th>\n",
       "      <td>8882da66a9fffff</td>\n",
       "      <td>494.37</td>\n",
       "      <td>193.44</td>\n",
       "      <td>27.24</td>\n",
       "      <td>POLYGON ((6.98386 5.64060, 6.98279 5.63653, 6....</td>\n",
       "      <td>57</td>\n",
       "    </tr>\n",
       "  </tbody>\n",
       "</table>\n",
       "</div>"
      ],
      "text/plain": [
       "              hex8  ntl_sum  pop_sum  LST mean  \\\n",
       "0  8858890d61fffff   213.36     0.00     30.47   \n",
       "1  8858d4782bfffff   236.30    70.81     32.84   \n",
       "2  8858d6b8d5fffff   217.20     0.00     32.18   \n",
       "3  88588baf67fffff   498.36    54.23     30.15   \n",
       "4  8882da66a9fffff   494.37   193.44     27.24   \n",
       "\n",
       "                                            geometry  land cover  \n",
       "0  POLYGON ((7.12134 6.83952, 7.12025 6.83537, 7....          57  \n",
       "1  POLYGON ((8.08949 6.61433, 8.08836 6.61017, 8....         251  \n",
       "2  POLYGON ((7.87739 6.37906, 7.87628 6.37492, 7....         252  \n",
       "3  POLYGON ((6.94948 6.27718, 6.94841 6.27307, 6....         251  \n",
       "4  POLYGON ((6.98386 5.64060, 6.98279 5.63653, 6....          57  "
      ]
     },
     "execution_count": 211,
     "metadata": {},
     "output_type": "execute_result"
    }
   ],
   "source": [
    "data.head()"
   ]
  },
  {
   "cell_type": "code",
   "execution_count": 212,
   "metadata": {},
   "outputs": [
    {
     "data": {
      "text/plain": [
       "(46306, 6)"
      ]
     },
     "execution_count": 212,
     "metadata": {},
     "output_type": "execute_result"
    }
   ],
   "source": [
    "data.shape"
   ]
  },
  {
   "cell_type": "code",
   "execution_count": 213,
   "metadata": {},
   "outputs": [],
   "source": [
    "major_cities_name = ['Aba', 'Enugu', 'Onitsha', 'Umuahia', 'Owerri', 'Nnewi', 'Awka','Abakaliki', 'Akwa']"
   ]
  },
  {
   "cell_type": "code",
   "execution_count": 214,
   "metadata": {},
   "outputs": [],
   "source": [
    "lga = gpd.read_file('../data/Nigeria_-_Local_Government_Area_Boundaries.zip')"
   ]
  },
  {
   "cell_type": "code",
   "execution_count": 215,
   "metadata": {},
   "outputs": [],
   "source": [
    "ss = ['Abia', 'Anambra', 'Ebonyi', 'Enugu', 'Imo']\n",
    "lga = lga[lga['statename'].isin(ss)]"
   ]
  },
  {
   "cell_type": "code",
   "execution_count": 220,
   "metadata": {},
   "outputs": [],
   "source": [
    "def check_lga_city(lga_name):\n",
    "    check_tf_list = [1 for x in major_cities_name if x in lga_name]\n",
    "    \n",
    "    if sum(check_tf_list)>0:\n",
    "        return 1\n",
    "    else:\n",
    "        return 0"
   ]
  },
  {
   "cell_type": "code",
   "execution_count": 221,
   "metadata": {},
   "outputs": [],
   "source": [
    "lga['lganame_check'] = lga['lganame'].apply(lambda x: check_lga_city(x))"
   ]
  },
  {
   "cell_type": "code",
   "execution_count": 222,
   "metadata": {},
   "outputs": [],
   "source": [
    "major_city_lga = lga[lga['lganame_check']==1]"
   ]
  },
  {
   "cell_type": "code",
   "execution_count": 223,
   "metadata": {},
   "outputs": [
    {
     "data": {
      "text/plain": [
       "<Axes: >"
      ]
     },
     "execution_count": 223,
     "metadata": {},
     "output_type": "execute_result"
    },
    {
     "data": {
      "image/png": "[encoded data removed]",
      "text/plain": [
       "<Figure size 640x480 with 1 Axes>"
      ]
     },
     "metadata": {},
     "output_type": "display_data"
    }
   ],
   "source": [
    "major_city_lga.plot()"
   ]
  },
  {
   "cell_type": "code",
   "execution_count": 224,
   "metadata": {},
   "outputs": [],
   "source": [
    "# world_cities = gpd.read_file('../data/World_Urban_Areas-shp.zip')"
   ]
  },
  {
   "cell_type": "code",
   "execution_count": 225,
   "metadata": {},
   "outputs": [],
   "source": [
    "# major_cities = world_cities[world_cities['Name'].isin(major_cities_name)]\n",
    "# major_cities\n",
    "# major_cities.at[181,'Name'] = 'Awka'\n",
    "# major_cities"
   ]
  },
  {
   "cell_type": "code",
   "execution_count": 226,
   "metadata": {},
   "outputs": [],
   "source": [
    "# major_cities.plot(column='Name')"
   ]
  },
  {
   "cell_type": "code",
   "execution_count": 227,
   "metadata": {},
   "outputs": [
    {
     "data": {
      "text/plain": [
       "<Geographic 2D CRS: EPSG:4326>\n",
       "Name: WGS 84\n",
       "Axis Info [ellipsoidal]:\n",
       "- Lat[north]: Geodetic latitude (degree)\n",
       "- Lon[east]: Geodetic longitude (degree)\n",
       "Area of Use:\n",
       "- name: World.\n",
       "- bounds: (-180.0, -90.0, 180.0, 90.0)\n",
       "Datum: World Geodetic System 1984 ensemble\n",
       "- Ellipsoid: WGS 84\n",
       "- Prime Meridian: Greenwich"
      ]
     },
     "execution_count": 227,
     "metadata": {},
     "output_type": "execute_result"
    }
   ],
   "source": [
    "water_points = gpd.read_file('../data/Nigeria_-_Water_Points.zip')\n",
    "water_points.crs"
   ]
  },
  {
   "cell_type": "code",
   "execution_count": 228,
   "metadata": {},
   "outputs": [],
   "source": [
    "water_points_ss = gpd.sjoin(water_points, data)"
   ]
  },
  {
   "cell_type": "code",
   "execution_count": 229,
   "metadata": {},
   "outputs": [],
   "source": [
    "major_city_water_points = water_points[water_points['lganame'].isin(major_city_lga['lganame'])]"
   ]
  },
  {
   "cell_type": "code",
   "execution_count": 230,
   "metadata": {},
   "outputs": [
    {
     "data": {
      "text/plain": [
       "(7919, 23)"
      ]
     },
     "execution_count": 230,
     "metadata": {},
     "output_type": "execute_result"
    }
   ],
   "source": [
    "water_points_ss.shape"
   ]
  },
  {
   "cell_type": "code",
   "execution_count": 231,
   "metadata": {},
   "outputs": [],
   "source": [
    "# ss_hex8 = hex_generator(lga,8)['hex8'].to_list()\n",
    "# ss_data = data[data['hex8'].isin(ss_hex8)]"
   ]
  },
  {
   "cell_type": "code",
   "execution_count": 232,
   "metadata": {},
   "outputs": [
    {
     "name": "stdout",
     "output_type": "stream",
     "text": [
      "Population in southeast states Nigeria: 2.483874E+07\n"
     ]
    }
   ],
   "source": [
    "print(f\"Population in southeast states Nigeria: {data['pop_sum'].sum():E}\")"
   ]
  },
  {
   "cell_type": "code",
   "execution_count": 233,
   "metadata": {},
   "outputs": [
    {
     "name": "stdout",
     "output_type": "stream",
     "text": [
      "Starting...\n",
      "Done\n",
      "Generating hex at level 8\n",
      "Done\n"
     ]
    }
   ],
   "source": [
    "major_city_lga_hex8 = hex_generator(major_city_lga,8)['hex8'].to_list()\n",
    "major_city_data = data[data['hex8'].isin(major_city_lga_hex8)]"
   ]
  },
  {
   "cell_type": "code",
   "execution_count": 234,
   "metadata": {},
   "outputs": [
    {
     "data": {
      "text/html": [
       "<div>\n",
       "<style scoped>\n",
       "    .dataframe tbody tr th:only-of-type {\n",
       "        vertical-align: middle;\n",
       "    }\n",
       "\n",
       "    .dataframe tbody tr th {\n",
       "        vertical-align: top;\n",
       "    }\n",
       "\n",
       "    .dataframe thead th {\n",
       "        text-align: right;\n",
       "    }\n",
       "</style>\n",
       "<table border=\"1\" class=\"dataframe\">\n",
       "  <thead>\n",
       "    <tr style=\"text-align: right;\">\n",
       "      <th></th>\n",
       "      <th>hex8</th>\n",
       "      <th>ntl_sum</th>\n",
       "      <th>pop_sum</th>\n",
       "      <th>LST mean</th>\n",
       "      <th>geometry</th>\n",
       "      <th>land cover</th>\n",
       "    </tr>\n",
       "  </thead>\n",
       "  <tbody>\n",
       "    <tr>\n",
       "      <th>5</th>\n",
       "      <td>8882da4317fffff</td>\n",
       "      <td>333.40</td>\n",
       "      <td>11.61</td>\n",
       "      <td>20.90</td>\n",
       "      <td>POLYGON ((7.56488 5.53068, 7.56379 5.52661, 7....</td>\n",
       "      <td>59</td>\n",
       "    </tr>\n",
       "    <tr>\n",
       "      <th>17</th>\n",
       "      <td>8858d699d5fffff</td>\n",
       "      <td>1,080.67</td>\n",
       "      <td>505.85</td>\n",
       "      <td>31.40</td>\n",
       "      <td>POLYGON ((7.45775 6.46802, 7.45665 6.46389, 7....</td>\n",
       "      <td>240</td>\n",
       "    </tr>\n",
       "    <tr>\n",
       "      <th>33</th>\n",
       "      <td>88588bacdbfffff</td>\n",
       "      <td>497.45</td>\n",
       "      <td>64.27</td>\n",
       "      <td>30.33</td>\n",
       "      <td>POLYGON ((7.09055 6.27162, 7.08947 6.26750, 7....</td>\n",
       "      <td>50</td>\n",
       "    </tr>\n",
       "    <tr>\n",
       "      <th>45</th>\n",
       "      <td>8882da40d9fffff</td>\n",
       "      <td>1,008.87</td>\n",
       "      <td>1,310.19</td>\n",
       "      <td>29.22</td>\n",
       "      <td>POLYGON ((7.47363 5.53392, 7.47254 5.52986, 7....</td>\n",
       "      <td>240</td>\n",
       "    </tr>\n",
       "    <tr>\n",
       "      <th>56</th>\n",
       "      <td>88588bacabfffff</td>\n",
       "      <td>4,981.91</td>\n",
       "      <td>1,320.64</td>\n",
       "      <td>30.67</td>\n",
       "      <td>POLYGON ((7.07313 6.23713, 7.07205 6.23302, 7....</td>\n",
       "      <td>240</td>\n",
       "    </tr>\n",
       "    <tr>\n",
       "      <th>...</th>\n",
       "      <td>...</td>\n",
       "      <td>...</td>\n",
       "      <td>...</td>\n",
       "      <td>...</td>\n",
       "      <td>...</td>\n",
       "      <td>...</td>\n",
       "    </tr>\n",
       "    <tr>\n",
       "      <th>46226</th>\n",
       "      <td>88588b346dfffff</td>\n",
       "      <td>731.31</td>\n",
       "      <td>1,413.85</td>\n",
       "      <td>28.55</td>\n",
       "      <td>POLYGON ((7.07921 6.14829, 7.07813 6.14418, 7....</td>\n",
       "      <td>57</td>\n",
       "    </tr>\n",
       "    <tr>\n",
       "      <th>46242</th>\n",
       "      <td>8858d680cbfffff</td>\n",
       "      <td>275.47</td>\n",
       "      <td>0.00</td>\n",
       "      <td>29.95</td>\n",
       "      <td>POLYGON ((7.63405 6.51193, 7.63295 6.50780, 7....</td>\n",
       "      <td>251</td>\n",
       "    </tr>\n",
       "    <tr>\n",
       "      <th>46262</th>\n",
       "      <td>88588b2ae5fffff</td>\n",
       "      <td>361.68</td>\n",
       "      <td>0.00</td>\n",
       "      <td>24.93</td>\n",
       "      <td>POLYGON ((6.99818 5.93463, 6.99711 5.93055, 7....</td>\n",
       "      <td>57</td>\n",
       "    </tr>\n",
       "    <tr>\n",
       "      <th>46264</th>\n",
       "      <td>8882da4055fffff</td>\n",
       "      <td>897.68</td>\n",
       "      <td>1,308.54</td>\n",
       "      <td>25.25</td>\n",
       "      <td>POLYGON ((7.53080 5.52853, 7.52970 5.52446, 7....</td>\n",
       "      <td>240</td>\n",
       "    </tr>\n",
       "    <tr>\n",
       "      <th>46293</th>\n",
       "      <td>88588b0707fffff</td>\n",
       "      <td>1,292.56</td>\n",
       "      <td>189.83</td>\n",
       "      <td>29.29</td>\n",
       "      <td>POLYGON ((6.76357 6.15720, 6.76251 6.15311, 6....</td>\n",
       "      <td>250</td>\n",
       "    </tr>\n",
       "  </tbody>\n",
       "</table>\n",
       "<p>4967 rows × 6 columns</p>\n",
       "</div>"
      ],
      "text/plain": [
       "                  hex8  ntl_sum  pop_sum  LST mean  \\\n",
       "5      8882da4317fffff   333.40    11.61     20.90   \n",
       "17     8858d699d5fffff 1,080.67   505.85     31.40   \n",
       "33     88588bacdbfffff   497.45    64.27     30.33   \n",
       "45     8882da40d9fffff 1,008.87 1,310.19     29.22   \n",
       "56     88588bacabfffff 4,981.91 1,320.64     30.67   \n",
       "...                ...      ...      ...       ...   \n",
       "46226  88588b346dfffff   731.31 1,413.85     28.55   \n",
       "46242  8858d680cbfffff   275.47     0.00     29.95   \n",
       "46262  88588b2ae5fffff   361.68     0.00     24.93   \n",
       "46264  8882da4055fffff   897.68 1,308.54     25.25   \n",
       "46293  88588b0707fffff 1,292.56   189.83     29.29   \n",
       "\n",
       "                                                geometry  land cover  \n",
       "5      POLYGON ((7.56488 5.53068, 7.56379 5.52661, 7....          59  \n",
       "17     POLYGON ((7.45775 6.46802, 7.45665 6.46389, 7....         240  \n",
       "33     POLYGON ((7.09055 6.27162, 7.08947 6.26750, 7....          50  \n",
       "45     POLYGON ((7.47363 5.53392, 7.47254 5.52986, 7....         240  \n",
       "56     POLYGON ((7.07313 6.23713, 7.07205 6.23302, 7....         240  \n",
       "...                                                  ...         ...  \n",
       "46226  POLYGON ((7.07921 6.14829, 7.07813 6.14418, 7....          57  \n",
       "46242  POLYGON ((7.63405 6.51193, 7.63295 6.50780, 7....         251  \n",
       "46262  POLYGON ((6.99818 5.93463, 6.99711 5.93055, 7....          57  \n",
       "46264  POLYGON ((7.53080 5.52853, 7.52970 5.52446, 7....         240  \n",
       "46293  POLYGON ((6.76357 6.15720, 6.76251 6.15311, 6....         250  \n",
       "\n",
       "[4967 rows x 6 columns]"
      ]
     },
     "execution_count": 234,
     "metadata": {},
     "output_type": "execute_result"
    }
   ],
   "source": [
    "major_city_data"
   ]
  },
  {
   "cell_type": "code",
   "execution_count": 235,
   "metadata": {},
   "outputs": [
    {
     "name": "stdout",
     "output_type": "stream",
     "text": [
      "Out of 28967 water points in Nigeria, 7919 are in southeast states, taking up 27%\n"
     ]
    }
   ],
   "source": [
    "print(f\"Out of {water_points.shape[0]} water points in Nigeria, {water_points_ss.shape[0]} are in southeast states, taking up {water_points_ss.shape[0]/water_points.shape[0]*100:.0f}%\")"
   ]
  },
  {
   "cell_type": "code",
   "execution_count": 236,
   "metadata": {},
   "outputs": [],
   "source": [
    "major_city_lga['city'] = major_city_lga['lganame'].apply(lambda x: x.split(' ')[0])"
   ]
  },
  {
   "cell_type": "code",
   "execution_count": 237,
   "metadata": {},
   "outputs": [
    {
     "data": {
      "text/plain": [
       "array(['Enugu', 'Abakaliki', 'Onitsha', 'Umuahia', 'Owerri', 'Aba',\n",
       "       'Nnewi', 'Awka'], dtype=object)"
      ]
     },
     "execution_count": 237,
     "metadata": {},
     "output_type": "execute_result"
    }
   ],
   "source": [
    "major_city_lga['city'].unique()"
   ]
  },
  {
   "cell_type": "code",
   "execution_count": 238,
   "metadata": {},
   "outputs": [],
   "source": [
    "major_city_lga = major_city_lga.h3.polyfill(8)"
   ]
  },
  {
   "cell_type": "code",
   "execution_count": 239,
   "metadata": {},
   "outputs": [
    {
     "data": {
      "text/html": [
       "<div>\n",
       "<style scoped>\n",
       "    .dataframe tbody tr th:only-of-type {\n",
       "        vertical-align: middle;\n",
       "    }\n",
       "\n",
       "    .dataframe tbody tr th {\n",
       "        vertical-align: top;\n",
       "    }\n",
       "\n",
       "    .dataframe thead th {\n",
       "        text-align: right;\n",
       "    }\n",
       "</style>\n",
       "<table border=\"1\" class=\"dataframe\">\n",
       "  <thead>\n",
       "    <tr style=\"text-align: right;\">\n",
       "      <th></th>\n",
       "      <th>FID</th>\n",
       "      <th>globalid</th>\n",
       "      <th>uniq_id</th>\n",
       "      <th>timestamp</th>\n",
       "      <th>editor</th>\n",
       "      <th>lganame</th>\n",
       "      <th>lgacode</th>\n",
       "      <th>statename</th>\n",
       "      <th>statecode</th>\n",
       "      <th>source</th>\n",
       "      <th>amapcode</th>\n",
       "      <th>Shape__Are</th>\n",
       "      <th>Shape__Len</th>\n",
       "      <th>geometry</th>\n",
       "      <th>lganame_check</th>\n",
       "      <th>city</th>\n",
       "      <th>h3_polyfill</th>\n",
       "    </tr>\n",
       "  </thead>\n",
       "  <tbody>\n",
       "    <tr>\n",
       "      <th>41</th>\n",
       "      <td>42</td>\n",
       "      <td>02ede445-db1b-47ea-a2be-e0e0793650e5</td>\n",
       "      <td>28801</td>\n",
       "      <td>2019-08-09</td>\n",
       "      <td>nuraddeen.isah</td>\n",
       "      <td>Enugu South</td>\n",
       "      <td>14005</td>\n",
       "      <td>Enugu</td>\n",
       "      <td>EN</td>\n",
       "      <td>WHO</td>\n",
       "      <td>NIE ENS UWN</td>\n",
       "      <td>0.01</td>\n",
       "      <td>0.46</td>\n",
       "      <td>POLYGON ((7.57482 6.41163, 7.57503 6.40735, 7....</td>\n",
       "      <td>1</td>\n",
       "      <td>Enugu</td>\n",
       "      <td>[8858d68adbfffff, 8858d6895bfffff, 8858d68a87f...</td>\n",
       "    </tr>\n",
       "    <tr>\n",
       "      <th>96</th>\n",
       "      <td>97</td>\n",
       "      <td>d0137c1c-42fc-4cad-ae97-22869bcfa8b9</td>\n",
       "      <td>28738</td>\n",
       "      <td>2019-08-09</td>\n",
       "      <td>nuraddeen.isah</td>\n",
       "      <td>Abakaliki</td>\n",
       "      <td>11001</td>\n",
       "      <td>Ebonyi</td>\n",
       "      <td>EB</td>\n",
       "      <td>WHO</td>\n",
       "      <td>NIE EBS AKL</td>\n",
       "      <td>0.04</td>\n",
       "      <td>1.28</td>\n",
       "      <td>POLYGON ((8.07510 6.19658, 8.07105 6.17672, 8....</td>\n",
       "      <td>1</td>\n",
       "      <td>Abakaliki</td>\n",
       "      <td>[8858d0c305fffff, 8858d0dad5fffff, 8858d0dad7f...</td>\n",
       "    </tr>\n",
       "    <tr>\n",
       "      <th>146</th>\n",
       "      <td>147</td>\n",
       "      <td>6d276304-2bb4-4168-8080-640b5c33287e</td>\n",
       "      <td>28826</td>\n",
       "      <td>2019-08-09</td>\n",
       "      <td>nuraddeen.isah</td>\n",
       "      <td>Enugu East</td>\n",
       "      <td>14003</td>\n",
       "      <td>Enugu</td>\n",
       "      <td>EN</td>\n",
       "      <td>WHO</td>\n",
       "      <td>NIE ENS NKW</td>\n",
       "      <td>0.03</td>\n",
       "      <td>0.85</td>\n",
       "      <td>POLYGON ((7.53994 6.45454, 7.54040 6.45838, 7....</td>\n",
       "      <td>1</td>\n",
       "      <td>Enugu</td>\n",
       "      <td>[8858d682dbfffff, 8858d69a1bfffff, 8858d69067f...</td>\n",
       "    </tr>\n",
       "    <tr>\n",
       "      <th>291</th>\n",
       "      <td>292</td>\n",
       "      <td>3b26b6ef-acaa-41d6-9690-7b8e3f46dd1a</td>\n",
       "      <td>28842</td>\n",
       "      <td>2019-08-09</td>\n",
       "      <td>nuraddeen.isah</td>\n",
       "      <td>Enugu North</td>\n",
       "      <td>14004</td>\n",
       "      <td>Enugu</td>\n",
       "      <td>EN</td>\n",
       "      <td>WHO</td>\n",
       "      <td>NIE ENS ENU</td>\n",
       "      <td>0.00</td>\n",
       "      <td>0.34</td>\n",
       "      <td>POLYGON ((7.48429 6.43064, 7.48331 6.42884, 7....</td>\n",
       "      <td>1</td>\n",
       "      <td>Enugu</td>\n",
       "      <td>[8858d699e7fffff, 8858d69985fffff, 8858d68a0bf...</td>\n",
       "    </tr>\n",
       "    <tr>\n",
       "      <th>378</th>\n",
       "      <td>379</td>\n",
       "      <td>28bad07d-261e-4f59-ada6-5836ddf47d88</td>\n",
       "      <td>28755</td>\n",
       "      <td>2019-08-09</td>\n",
       "      <td>nuraddeen.isah</td>\n",
       "      <td>Onitsha South</td>\n",
       "      <td>4018</td>\n",
       "      <td>Anambra</td>\n",
       "      <td>AN</td>\n",
       "      <td>WHO</td>\n",
       "      <td>NIE ANS FGG</td>\n",
       "      <td>0.00</td>\n",
       "      <td>0.12</td>\n",
       "      <td>POLYGON ((6.79113 6.13434, 6.79239 6.13294, 6....</td>\n",
       "      <td>1</td>\n",
       "      <td>Onitsha</td>\n",
       "      <td>[88588b0739fffff, 88588b072bfffff, 88588b073bf...</td>\n",
       "    </tr>\n",
       "  </tbody>\n",
       "</table>\n",
       "</div>"
      ],
      "text/plain": [
       "     FID                              globalid  uniq_id   timestamp  \\\n",
       "41    42  02ede445-db1b-47ea-a2be-e0e0793650e5    28801  2019-08-09   \n",
       "96    97  d0137c1c-42fc-4cad-ae97-22869bcfa8b9    28738  2019-08-09   \n",
       "146  147  6d276304-2bb4-4168-8080-640b5c33287e    28826  2019-08-09   \n",
       "291  292  3b26b6ef-acaa-41d6-9690-7b8e3f46dd1a    28842  2019-08-09   \n",
       "378  379  28bad07d-261e-4f59-ada6-5836ddf47d88    28755  2019-08-09   \n",
       "\n",
       "             editor        lganame lgacode statename statecode source  \\\n",
       "41   nuraddeen.isah    Enugu South   14005     Enugu        EN    WHO   \n",
       "96   nuraddeen.isah      Abakaliki   11001    Ebonyi        EB    WHO   \n",
       "146  nuraddeen.isah     Enugu East   14003     Enugu        EN    WHO   \n",
       "291  nuraddeen.isah    Enugu North   14004     Enugu        EN    WHO   \n",
       "378  nuraddeen.isah  Onitsha South    4018   Anambra        AN    WHO   \n",
       "\n",
       "        amapcode  Shape__Are  Shape__Len  \\\n",
       "41   NIE ENS UWN        0.01        0.46   \n",
       "96   NIE EBS AKL        0.04        1.28   \n",
       "146  NIE ENS NKW        0.03        0.85   \n",
       "291  NIE ENS ENU        0.00        0.34   \n",
       "378  NIE ANS FGG        0.00        0.12   \n",
       "\n",
       "                                              geometry  lganame_check  \\\n",
       "41   POLYGON ((7.57482 6.41163, 7.57503 6.40735, 7....              1   \n",
       "96   POLYGON ((8.07510 6.19658, 8.07105 6.17672, 8....              1   \n",
       "146  POLYGON ((7.53994 6.45454, 7.54040 6.45838, 7....              1   \n",
       "291  POLYGON ((7.48429 6.43064, 7.48331 6.42884, 7....              1   \n",
       "378  POLYGON ((6.79113 6.13434, 6.79239 6.13294, 6....              1   \n",
       "\n",
       "          city                                        h3_polyfill  \n",
       "41       Enugu  [8858d68adbfffff, 8858d6895bfffff, 8858d68a87f...  \n",
       "96   Abakaliki  [8858d0c305fffff, 8858d0dad5fffff, 8858d0dad7f...  \n",
       "146      Enugu  [8858d682dbfffff, 8858d69a1bfffff, 8858d69067f...  \n",
       "291      Enugu  [8858d699e7fffff, 8858d69985fffff, 8858d68a0bf...  \n",
       "378    Onitsha  [88588b0739fffff, 88588b072bfffff, 88588b073bf...  "
      ]
     },
     "execution_count": 239,
     "metadata": {},
     "output_type": "execute_result"
    }
   ],
   "source": [
    "major_city_lga.head()"
   ]
  },
  {
   "cell_type": "code",
   "execution_count": 240,
   "metadata": {},
   "outputs": [],
   "source": [
    "major_city_lga_hex8_dict = major_city_lga.groupby('city').apply(lambda x: [h for hl in x['h3_polyfill'].to_list() for h in hl]).to_dict()\n",
    "\n",
    "# major_city_lga_hex8_dict = dict(zip(major_cities.h3.polyfill(8)['Name'].to_list(),major_cities.h3.polyfill(8)['h3_polyfill'].to_list()))"
   ]
  },
  {
   "cell_type": "code",
   "execution_count": 241,
   "metadata": {},
   "outputs": [],
   "source": [
    "# major_city_lga[['FID', 'globalid', 'uniq_id', 'timestamp', 'editor', 'lganame',\n",
    "#        'lgacode', 'statename', 'statecode', 'source', 'amapcode', 'Shape__Are',\n",
    "#        'Shape__Len', 'geometry', 'lganame_check', 'city',]].to_file('../data/ss_major_cities.gpkg', driver='GPKG')"
   ]
  },
  {
   "cell_type": "code",
   "execution_count": 242,
   "metadata": {},
   "outputs": [
    {
     "data": {
      "text/plain": [
       "dict_keys(['Aba', 'Abakaliki', 'Awka', 'Enugu', 'Nnewi', 'Onitsha', 'Owerri', 'Umuahia'])"
      ]
     },
     "execution_count": 242,
     "metadata": {},
     "output_type": "execute_result"
    }
   ],
   "source": [
    "major_city_lga_hex8_dict.keys()"
   ]
  },
  {
   "cell_type": "code",
   "execution_count": 243,
   "metadata": {},
   "outputs": [
    {
     "name": "stdout",
     "output_type": "stream",
     "text": [
      "Aba: 29.658684920006642\n",
      "Enugu: 30.931261071779232\n",
      "Onitsha: 30.415182205398356\n",
      "Umuahia: 26.677543512855\n",
      "Owerri: 29.417658382808543\n",
      "Nnewi: 27.22779976215469\n",
      "Awka: 29.68424081750337\n",
      "Abakaliki: 30.624708864023205\n",
      "Akwa\n"
     ]
    }
   ],
   "source": [
    "for c in major_cities_name:\n",
    "    try:\n",
    "        print(f\"{c}: {major_city_data[major_city_data['hex8'].isin(major_city_lga_hex8_dict[c])]['LST mean'].mean()}\")\n",
    "    \n",
    "    except:\n",
    "        print(c)"
   ]
  },
  {
   "cell_type": "markdown",
   "metadata": {},
   "source": [
    "### Owerri"
   ]
  },
  {
   "cell_type": "code",
   "execution_count": 244,
   "metadata": {},
   "outputs": [],
   "source": [
    "city = 'Owerri'"
   ]
  },
  {
   "cell_type": "code",
   "execution_count": 268,
   "metadata": {},
   "outputs": [
    {
     "name": "stdout",
     "output_type": "stream",
     "text": [
      "There are 854 hexes in Owerri\n"
     ]
    },
    {
     "data": {
      "text/html": [
       "<div>\n",
       "<style scoped>\n",
       "    .dataframe tbody tr th:only-of-type {\n",
       "        vertical-align: middle;\n",
       "    }\n",
       "\n",
       "    .dataframe tbody tr th {\n",
       "        vertical-align: top;\n",
       "    }\n",
       "\n",
       "    .dataframe thead th {\n",
       "        text-align: right;\n",
       "    }\n",
       "</style>\n",
       "<table border=\"1\" class=\"dataframe\">\n",
       "  <thead>\n",
       "    <tr style=\"text-align: right;\">\n",
       "      <th></th>\n",
       "      <th>hex8</th>\n",
       "      <th>ntl_sum</th>\n",
       "      <th>pop_sum</th>\n",
       "      <th>LST mean</th>\n",
       "      <th>geometry</th>\n",
       "      <th>land cover</th>\n",
       "    </tr>\n",
       "  </thead>\n",
       "  <tbody>\n",
       "    <tr>\n",
       "      <th>144</th>\n",
       "      <td>8882da2143fffff</td>\n",
       "      <td>588.21</td>\n",
       "      <td>80.02</td>\n",
       "      <td>29.12</td>\n",
       "      <td>POLYGON ((6.93283 5.44567, 6.93177 5.44161, 6....</td>\n",
       "      <td>116</td>\n",
       "    </tr>\n",
       "    <tr>\n",
       "      <th>200</th>\n",
       "      <td>8882da22e9fffff</td>\n",
       "      <td>543.67</td>\n",
       "      <td>0.00</td>\n",
       "      <td>25.29</td>\n",
       "      <td>POLYGON ((6.87545 5.38524, 6.87439 5.38119, 6....</td>\n",
       "      <td>116</td>\n",
       "    </tr>\n",
       "    <tr>\n",
       "      <th>252</th>\n",
       "      <td>8882da761bfffff</td>\n",
       "      <td>1,009.73</td>\n",
       "      <td>952.69</td>\n",
       "      <td>27.23</td>\n",
       "      <td>POLYGON ((7.08561 5.48832, 7.08454 5.48426, 7....</td>\n",
       "      <td>240</td>\n",
       "    </tr>\n",
       "    <tr>\n",
       "      <th>279</th>\n",
       "      <td>8882da2345fffff</td>\n",
       "      <td>584.29</td>\n",
       "      <td>631.37</td>\n",
       "      <td>32.02</td>\n",
       "      <td>POLYGON ((6.96161 5.39669, 6.96054 5.39264, 6....</td>\n",
       "      <td>252</td>\n",
       "    </tr>\n",
       "    <tr>\n",
       "      <th>307</th>\n",
       "      <td>8882da39abfffff</td>\n",
       "      <td>3,928.61</td>\n",
       "      <td>4,325.57</td>\n",
       "      <td>32.81</td>\n",
       "      <td>POLYGON ((7.02324 5.48883, 7.02218 5.48477, 7....</td>\n",
       "      <td>240</td>\n",
       "    </tr>\n",
       "  </tbody>\n",
       "</table>\n",
       "</div>"
      ],
      "text/plain": [
       "                hex8  ntl_sum  pop_sum  LST mean  \\\n",
       "144  8882da2143fffff   588.21    80.02     29.12   \n",
       "200  8882da22e9fffff   543.67     0.00     25.29   \n",
       "252  8882da761bfffff 1,009.73   952.69     27.23   \n",
       "279  8882da2345fffff   584.29   631.37     32.02   \n",
       "307  8882da39abfffff 3,928.61 4,325.57     32.81   \n",
       "\n",
       "                                              geometry  land cover  \n",
       "144  POLYGON ((6.93283 5.44567, 6.93177 5.44161, 6....         116  \n",
       "200  POLYGON ((6.87545 5.38524, 6.87439 5.38119, 6....         116  \n",
       "252  POLYGON ((7.08561 5.48832, 7.08454 5.48426, 7....         240  \n",
       "279  POLYGON ((6.96161 5.39669, 6.96054 5.39264, 6....         252  \n",
       "307  POLYGON ((7.02324 5.48883, 7.02218 5.48477, 7....         240  "
      ]
     },
     "execution_count": 268,
     "metadata": {},
     "output_type": "execute_result"
    }
   ],
   "source": [
    "city_hex8_data = major_city_data[major_city_data['hex8'].isin(major_city_lga_hex8_dict[city])]\n",
    "print(f\"There are {city_hex8_data.shape[0]} hexes in {city}\")\n",
    "city_hex8_data.head()"
   ]
  },
  {
   "cell_type": "code",
   "execution_count": 360,
   "metadata": {},
   "outputs": [],
   "source": [
    "# city_hex8_data.explore()"
   ]
  },
  {
   "cell_type": "code",
   "execution_count": 246,
   "metadata": {},
   "outputs": [
    {
     "name": "stdout",
     "output_type": "stream",
     "text": [
      "There are 74 water points in Owerri\n"
     ]
    },
    {
     "data": {
      "text/html": [
       "<div>\n",
       "<style scoped>\n",
       "    .dataframe tbody tr th:only-of-type {\n",
       "        vertical-align: middle;\n",
       "    }\n",
       "\n",
       "    .dataframe tbody tr th {\n",
       "        vertical-align: top;\n",
       "    }\n",
       "\n",
       "    .dataframe thead th {\n",
       "        text-align: right;\n",
       "    }\n",
       "</style>\n",
       "<table border=\"1\" class=\"dataframe\">\n",
       "  <thead>\n",
       "    <tr style=\"text-align: right;\">\n",
       "      <th></th>\n",
       "      <th>FID</th>\n",
       "      <th>globalid</th>\n",
       "      <th>uniq_id</th>\n",
       "      <th>timestamp</th>\n",
       "      <th>editor</th>\n",
       "      <th>scdy_edtor</th>\n",
       "      <th>wardname</th>\n",
       "      <th>wardcode</th>\n",
       "      <th>lganame</th>\n",
       "      <th>lgacode</th>\n",
       "      <th>...</th>\n",
       "      <th>alt_name</th>\n",
       "      <th>name</th>\n",
       "      <th>source</th>\n",
       "      <th>geometry</th>\n",
       "      <th>index_right</th>\n",
       "      <th>hex8</th>\n",
       "      <th>ntl_sum</th>\n",
       "      <th>pop_sum</th>\n",
       "      <th>LST mean</th>\n",
       "      <th>land cover</th>\n",
       "    </tr>\n",
       "  </thead>\n",
       "  <tbody>\n",
       "    <tr>\n",
       "      <th>4559</th>\n",
       "      <td>4560</td>\n",
       "      <td>508a8828-9f11-439f-a244-cb4448200083</td>\n",
       "      <td>97658</td>\n",
       "      <td>2018-07-06</td>\n",
       "      <td>adanna.alex</td>\n",
       "      <td>None</td>\n",
       "      <td>Emekuku 2</td>\n",
       "      <td>IMSRRT07</td>\n",
       "      <td>Owerri North</td>\n",
       "      <td>17025</td>\n",
       "      <td>...</td>\n",
       "      <td>None</td>\n",
       "      <td>Umuori Borehole</td>\n",
       "      <td>GRID</td>\n",
       "      <td>POINT (7.09445 5.49884)</td>\n",
       "      <td>45436</td>\n",
       "      <td>8882da7617fffff</td>\n",
       "      <td>1,123.83</td>\n",
       "      <td>3,563.45</td>\n",
       "      <td>31.02</td>\n",
       "      <td>240</td>\n",
       "    </tr>\n",
       "    <tr>\n",
       "      <th>4560</th>\n",
       "      <td>4561</td>\n",
       "      <td>1d782fdb-8a5f-4590-b97e-d7d5ca2be008</td>\n",
       "      <td>97659</td>\n",
       "      <td>2018-07-06</td>\n",
       "      <td>adanna.alex</td>\n",
       "      <td>None</td>\n",
       "      <td>Emekuku 2</td>\n",
       "      <td>IMSRRT07</td>\n",
       "      <td>Owerri North</td>\n",
       "      <td>17025</td>\n",
       "      <td>...</td>\n",
       "      <td>None</td>\n",
       "      <td>Borehole 3</td>\n",
       "      <td>GRID</td>\n",
       "      <td>POINT (7.10453 5.49657)</td>\n",
       "      <td>14211</td>\n",
       "      <td>8882da7639fffff</td>\n",
       "      <td>972.75</td>\n",
       "      <td>2,130.70</td>\n",
       "      <td>29.46</td>\n",
       "      <td>240</td>\n",
       "    </tr>\n",
       "    <tr>\n",
       "      <th>4562</th>\n",
       "      <td>4563</td>\n",
       "      <td>87e251f0-6488-4c60-9b68-839ea9a5d669</td>\n",
       "      <td>97661</td>\n",
       "      <td>2018-07-06</td>\n",
       "      <td>adanna.alex</td>\n",
       "      <td>None</td>\n",
       "      <td>Emekuku 2</td>\n",
       "      <td>IMSRRT07</td>\n",
       "      <td>Owerri North</td>\n",
       "      <td>17025</td>\n",
       "      <td>...</td>\n",
       "      <td>None</td>\n",
       "      <td>Borehole 1</td>\n",
       "      <td>GRID</td>\n",
       "      <td>POINT (7.10425 5.49349)</td>\n",
       "      <td>39720</td>\n",
       "      <td>8882da7603fffff</td>\n",
       "      <td>746.50</td>\n",
       "      <td>1,055.50</td>\n",
       "      <td>28.62</td>\n",
       "      <td>115</td>\n",
       "    </tr>\n",
       "    <tr>\n",
       "      <th>4563</th>\n",
       "      <td>4564</td>\n",
       "      <td>2733d77f-c970-45c2-81e4-d4f2c9e61d81</td>\n",
       "      <td>97662</td>\n",
       "      <td>2018-07-06</td>\n",
       "      <td>adanna.alex</td>\n",
       "      <td>None</td>\n",
       "      <td>Emekuku 2</td>\n",
       "      <td>IMSRRT07</td>\n",
       "      <td>Owerri North</td>\n",
       "      <td>17025</td>\n",
       "      <td>...</td>\n",
       "      <td>None</td>\n",
       "      <td>Borehole 2</td>\n",
       "      <td>GRID</td>\n",
       "      <td>POINT (7.10440 5.49354)</td>\n",
       "      <td>39720</td>\n",
       "      <td>8882da7603fffff</td>\n",
       "      <td>746.50</td>\n",
       "      <td>1,055.50</td>\n",
       "      <td>28.62</td>\n",
       "      <td>115</td>\n",
       "    </tr>\n",
       "    <tr>\n",
       "      <th>5150</th>\n",
       "      <td>5151</td>\n",
       "      <td>1805b5b7-35ad-4c5b-bba5-d22e15fefa10</td>\n",
       "      <td>98617</td>\n",
       "      <td>2018-08-29</td>\n",
       "      <td>adanna.alex</td>\n",
       "      <td>None</td>\n",
       "      <td>Nekede 1</td>\n",
       "      <td>IMSUMG07</td>\n",
       "      <td>Owerri West</td>\n",
       "      <td>17026</td>\n",
       "      <td>...</td>\n",
       "      <td>None</td>\n",
       "      <td>Borehole 3</td>\n",
       "      <td>GRID</td>\n",
       "      <td>POINT (7.03773 5.43955)</td>\n",
       "      <td>45020</td>\n",
       "      <td>8882da3823fffff</td>\n",
       "      <td>1,480.53</td>\n",
       "      <td>970.45</td>\n",
       "      <td>32.72</td>\n",
       "      <td>239</td>\n",
       "    </tr>\n",
       "  </tbody>\n",
       "</table>\n",
       "<p>5 rows × 23 columns</p>\n",
       "</div>"
      ],
      "text/plain": [
       "       FID                              globalid  uniq_id   timestamp  \\\n",
       "4559  4560  508a8828-9f11-439f-a244-cb4448200083    97658  2018-07-06   \n",
       "4560  4561  1d782fdb-8a5f-4590-b97e-d7d5ca2be008    97659  2018-07-06   \n",
       "4562  4563  87e251f0-6488-4c60-9b68-839ea9a5d669    97661  2018-07-06   \n",
       "4563  4564  2733d77f-c970-45c2-81e4-d4f2c9e61d81    97662  2018-07-06   \n",
       "5150  5151  1805b5b7-35ad-4c5b-bba5-d22e15fefa10    98617  2018-08-29   \n",
       "\n",
       "           editor scdy_edtor   wardname  wardcode       lganame lgacode  ...  \\\n",
       "4559  adanna.alex       None  Emekuku 2  IMSRRT07  Owerri North   17025  ...   \n",
       "4560  adanna.alex       None  Emekuku 2  IMSRRT07  Owerri North   17025  ...   \n",
       "4562  adanna.alex       None  Emekuku 2  IMSRRT07  Owerri North   17025  ...   \n",
       "4563  adanna.alex       None  Emekuku 2  IMSRRT07  Owerri North   17025  ...   \n",
       "5150  adanna.alex       None   Nekede 1  IMSUMG07   Owerri West   17026  ...   \n",
       "\n",
       "     alt_name             name source                 geometry index_right  \\\n",
       "4559     None  Umuori Borehole   GRID  POINT (7.09445 5.49884)       45436   \n",
       "4560     None       Borehole 3   GRID  POINT (7.10453 5.49657)       14211   \n",
       "4562     None       Borehole 1   GRID  POINT (7.10425 5.49349)       39720   \n",
       "4563     None       Borehole 2   GRID  POINT (7.10440 5.49354)       39720   \n",
       "5150     None       Borehole 3   GRID  POINT (7.03773 5.43955)       45020   \n",
       "\n",
       "                 hex8  ntl_sum  pop_sum LST mean  land cover  \n",
       "4559  8882da7617fffff 1,123.83 3,563.45    31.02         240  \n",
       "4560  8882da7639fffff   972.75 2,130.70    29.46         240  \n",
       "4562  8882da7603fffff   746.50 1,055.50    28.62         115  \n",
       "4563  8882da7603fffff   746.50 1,055.50    28.62         115  \n",
       "5150  8882da3823fffff 1,480.53   970.45    32.72         239  \n",
       "\n",
       "[5 rows x 23 columns]"
      ]
     },
     "execution_count": 246,
     "metadata": {},
     "output_type": "execute_result"
    }
   ],
   "source": [
    "city_water_points = water_points_ss[water_points_ss['hex8'].isin(major_city_lga_hex8_dict[city])]\n",
    "print(f\"There are {city_water_points.shape[0]} water points in {city}\")\n",
    "city_water_points.head()"
   ]
  },
  {
   "cell_type": "code",
   "execution_count": 247,
   "metadata": {},
   "outputs": [],
   "source": [
    "# major_cities.to_parquet('../data/urban_areas.parquet')"
   ]
  },
  {
   "cell_type": "code",
   "execution_count": 329,
   "metadata": {},
   "outputs": [],
   "source": [
    "heat_island = city_hex8_data[(city_hex8_data['LST mean']>=30)|(city_hex8_data['land cover'].isin([239,240,241,242,243,249]))]\n",
    "cool_island = city_hex8_data[~city_hex8_data['hex8'].isin(heat_island['hex8'])]"
   ]
  },
  {
   "cell_type": "code",
   "execution_count": 330,
   "metadata": {},
   "outputs": [
    {
     "data": {
      "text/plain": [
       "425"
      ]
     },
     "execution_count": 330,
     "metadata": {},
     "output_type": "execute_result"
    }
   ],
   "source": [
    "heat_island.shape[0]"
   ]
  },
  {
   "cell_type": "code",
   "execution_count": 331,
   "metadata": {},
   "outputs": [
    {
     "data": {
      "text/plain": [
       "429"
      ]
     },
     "execution_count": 331,
     "metadata": {},
     "output_type": "execute_result"
    }
   ],
   "source": [
    "cool_island.shape[0]"
   ]
  },
  {
   "cell_type": "code",
   "execution_count": 332,
   "metadata": {},
   "outputs": [
    {
     "data": {
      "text/plain": [
       "31.344059592218684"
      ]
     },
     "execution_count": 332,
     "metadata": {},
     "output_type": "execute_result"
    }
   ],
   "source": [
    "heat_island['LST mean'].mean()"
   ]
  },
  {
   "cell_type": "code",
   "execution_count": 333,
   "metadata": {},
   "outputs": [
    {
     "data": {
      "text/plain": [
       "27.509218956236733"
      ]
     },
     "execution_count": 333,
     "metadata": {},
     "output_type": "execute_result"
    }
   ],
   "source": [
    "cool_island['LST mean'].mean()"
   ]
  },
  {
   "cell_type": "code",
   "execution_count": 334,
   "metadata": {},
   "outputs": [],
   "source": [
    "heat_island['temp variance'] = heat_island['LST mean'] - cool_island['LST mean'].mean()"
   ]
  },
  {
   "cell_type": "code",
   "execution_count": 335,
   "metadata": {},
   "outputs": [],
   "source": [
    "heat_island = heat_island[heat_island['temp variance']>0]"
   ]
  },
  {
   "cell_type": "code",
   "execution_count": 336,
   "metadata": {},
   "outputs": [
    {
     "data": {
      "text/plain": [
       "<Axes: >"
      ]
     },
     "execution_count": 336,
     "metadata": {},
     "output_type": "execute_result"
    },
    {
     "data": {
      "image/png": "[encoded data removed]",
      "text/plain": [
       "<Figure size 640x480 with 1 Axes>"
      ]
     },
     "metadata": {},
     "output_type": "display_data"
    }
   ],
   "source": [
    "heat_island['temp variance'].hist()"
   ]
  },
  {
   "cell_type": "code",
   "execution_count": 337,
   "metadata": {},
   "outputs": [],
   "source": [
    "from itertools import combinations"
   ]
  },
  {
   "cell_type": "code",
   "execution_count": 338,
   "metadata": {},
   "outputs": [],
   "source": [
    "es = list(combinations(heat_island['hex8'].to_list(), r=2))\n",
    "ws = [h3.h3_distance(h1, h2) for h1,h2 in es]\n",
    "\n",
    "ew = dict(zip(es,ws))"
   ]
  },
  {
   "cell_type": "code",
   "execution_count": 339,
   "metadata": {},
   "outputs": [],
   "source": [
    "ew_df = pd.DataFrame.from_dict(ew, orient='index')\n",
    "ew_df = ew_df[ew_df[0]==1]"
   ]
  },
  {
   "cell_type": "code",
   "execution_count": 340,
   "metadata": {},
   "outputs": [],
   "source": [
    "ew = dict(zip(ew_df.index.to_list(),ew_df[0].to_list()))"
   ]
  },
  {
   "cell_type": "code",
   "execution_count": 341,
   "metadata": {},
   "outputs": [],
   "source": [
    "import networkx as nx\n",
    "g = nx.Graph()\n",
    "g.add_edges_from(ew)"
   ]
  },
  {
   "cell_type": "code",
   "execution_count": 342,
   "metadata": {},
   "outputs": [
    {
     "data": {
      "text/plain": [
       "379"
      ]
     },
     "execution_count": 342,
     "metadata": {},
     "output_type": "execute_result"
    }
   ],
   "source": [
    "largest_cc = max(nx.connected_components(g), key=len)\n",
    "len(largest_cc)"
   ]
  },
  {
   "cell_type": "code",
   "execution_count": 343,
   "metadata": {},
   "outputs": [
    {
     "data": {
      "text/plain": [
       "412"
      ]
     },
     "execution_count": 343,
     "metadata": {},
     "output_type": "execute_result"
    }
   ],
   "source": [
    "heat_island.shape[0]"
   ]
  },
  {
   "cell_type": "code",
   "execution_count": 357,
   "metadata": {},
   "outputs": [],
   "source": [
    "heat_island = heat_island[heat_island['hex8'].isin(largest_cc)]\n",
    "cool_island = city_hex8_data[~city_hex8_data['hex8'].isin(heat_island['hex8'])]"
   ]
  },
  {
   "cell_type": "code",
   "execution_count": 358,
   "metadata": {},
   "outputs": [
    {
     "data": {
      "text/plain": [
       "<Axes: >"
      ]
     },
     "execution_count": 358,
     "metadata": {},
     "output_type": "execute_result"
    },
    {
     "data": {
      "image/png": "[encoded data removed]",
      "text/plain": [
       "<Figure size 640x480 with 1 Axes>"
      ]
     },
     "metadata": {},
     "output_type": "display_data"
    }
   ],
   "source": [
    "base = city_hex8_data.plot(fc='grey')\n",
    "heat_island.plot(column='temp variance', ax=base, cmap='Reds')"
   ]
  },
  {
   "cell_type": "markdown",
   "metadata": {},
   "source": [
    "What's the population of the city? What fraction of this population are affected by urban heat island?"
   ]
  },
  {
   "cell_type": "code",
   "execution_count": 348,
   "metadata": {},
   "outputs": [],
   "source": [
    "city_pop = city_hex8_data['pop_sum'].sum()\n",
    "heat_island_pop = heat_island['pop_sum'].sum()"
   ]
  },
  {
   "cell_type": "code",
   "execution_count": 349,
   "metadata": {},
   "outputs": [
    {
     "name": "stdout",
     "output_type": "stream",
     "text": [
      "There are 654675 population in city of Owerri, 568033 (87%) live in regions with urban heat island\n"
     ]
    }
   ],
   "source": [
    "print(f\"There are {city_pop :.0f} population in city of {city}, {heat_island_pop:.0f} ({heat_island_pop/city_pop:.0%}) live in regions with urban heat island\")"
   ]
  },
  {
   "cell_type": "markdown",
   "metadata": {},
   "source": [
    "How many water points are there in the city? How many of them are in urban heat islands?"
   ]
  },
  {
   "cell_type": "code",
   "execution_count": 350,
   "metadata": {},
   "outputs": [],
   "source": [
    "city_water_points_uhi = city_water_points[city_water_points['hex8'].isin(heat_island['hex8'])]"
   ]
  },
  {
   "cell_type": "code",
   "execution_count": 351,
   "metadata": {},
   "outputs": [
    {
     "name": "stdout",
     "output_type": "stream",
     "text": [
      "There are 74 water points in city of Owerri, 47 (64%) of them are in urban heat islands\n"
     ]
    }
   ],
   "source": [
    "print(f\"There are {city_water_points.shape[0]:.0f} water points in city of {city}, {city_water_points_uhi.shape[0]:.0f} \\\n",
    "({city_water_points_uhi.shape[0]/city_water_points.shape[0]:.0%}) of them are in urban heat islands\")"
   ]
  },
  {
   "cell_type": "markdown",
   "metadata": {},
   "source": [
    "How many population are within 500m of water points?\n",
    "\n",
    "How many population are within 1km of water points?\n",
    "\n",
    "Among population affected by heat island, how many are within 500m of water points?\n",
    "\n",
    "Among population affected by heat island, how many are within 500m of water points?"
   ]
  },
  {
   "cell_type": "code",
   "execution_count": 352,
   "metadata": {},
   "outputs": [
    {
     "data": {
      "text/plain": [
       "854"
      ]
     },
     "execution_count": 352,
     "metadata": {},
     "output_type": "execute_result"
    }
   ],
   "source": [
    "city_hex8_data.shape[0]"
   ]
  },
  {
   "cell_type": "code",
   "execution_count": 353,
   "metadata": {},
   "outputs": [
    {
     "data": {
      "text/plain": [
       "(274, 6)"
      ]
     },
     "execution_count": 353,
     "metadata": {},
     "output_type": "execute_result"
    }
   ],
   "source": [
    "# neighbour hex as 1000m coverage\n",
    "neighbor_hex = list(set([h for hl in city_water_points['hex8'].apply(lambda x: h3.k_ring(x, 1)).to_list() for h in hl]))\n",
    "wp_covered_1000 = city_hex8_data[city_hex8_data['hex8'].isin(neighbor_hex)]\n",
    "wp_covered_1000.shape"
   ]
  },
  {
   "cell_type": "code",
   "execution_count": 354,
   "metadata": {},
   "outputs": [],
   "source": [
    "# within 500m\n",
    "p_w500 = city_hex8_data[city_hex8_data['hex8'].isin(city_water_points['hex8'])]['pop_sum'].sum()\n",
    "\n",
    "# within 1000m\n",
    "p_w1000 = city_hex8_data[city_hex8_data['hex8'].isin(wp_covered_1000['hex8'])]['pop_sum'].sum()\n",
    "\n",
    "# within 500m|UHI\n",
    "w500_uhi = heat_island[heat_island['hex8'].isin(city_water_points['hex8'])]['pop_sum'].sum()\n",
    "\n",
    "not_w500_uhi = heat_island_pop-w500_uhi\n",
    "\n",
    "# within 1000m|UHI\n",
    "w1000_uhi = heat_island[heat_island['hex8'].isin(wp_covered_1000['hex8'])]['pop_sum'].sum()\n",
    "\n",
    "not_w1000_uhi = heat_island_pop-w1000_uhi\n"
   ]
  },
  {
   "cell_type": "code",
   "execution_count": 363,
   "metadata": {},
   "outputs": [],
   "source": [
    "cool_island_pop = cool_island['pop_sum'].sum()\n",
    "\n",
    "# within 500m\n",
    "p_w500 = city_hex8_data[city_hex8_data['hex8'].isin(city_water_points['hex8'])]['pop_sum'].sum()\n",
    "\n",
    "# within 1000m\n",
    "p_w1000 = city_hex8_data[city_hex8_data['hex8'].isin(wp_covered_1000['hex8'])]['pop_sum'].sum()\n",
    "\n",
    "# within 500m|rural\n",
    "w500_ci = cool_island[cool_island['hex8'].isin(city_water_points['hex8'])]['pop_sum'].sum()\n",
    "\n",
    "not_w500_ci = cool_island_pop-w500_ci\n",
    "\n",
    "# within 1000m|rural\n",
    "w1000_ci = cool_island[cool_island['hex8'].isin(wp_covered_1000['hex8'])]['pop_sum'].sum()\n",
    "\n",
    "not_w1000_ci = cool_island_pop-w1000_ci\n"
   ]
  },
  {
   "cell_type": "code",
   "execution_count": 355,
   "metadata": {},
   "outputs": [
    {
     "name": "stdout",
     "output_type": "stream",
     "text": [
      "79175 people (12% of the city population) are within 500 meters of water points in Owerri. \n",
      "314657 people (48% of the city population) are within 1000 meters of water points in Owerri. \n"
     ]
    }
   ],
   "source": [
    "print(f\"{p_w500:.0f} people ({p_w500/city_pop:.0%} of the city population) are within 500 meters of water points in {city}. \")\n",
    "print(f\"{p_w1000:.0f} people ({p_w1000/city_pop:.0%} of the city population) are within 1000 meters of water points in {city}. \")"
   ]
  },
  {
   "cell_type": "code",
   "execution_count": 361,
   "metadata": {},
   "outputs": [
    {
     "name": "stdout",
     "output_type": "stream",
     "text": [
      "61169 people (9% of the city population) are within 500 meters of water points in Owerri, while also suffer from UHI\n",
      "271483 people (41% of the city population) are within 1000 meters of water points in Owerri, while also suffer from UHI\n"
     ]
    }
   ],
   "source": [
    "print(f\"{w500_uhi:.0f} people ({w500_uhi/city_pop:.0%} of the city population) are within 500 meters of water points in {city}, while also suffer from UHI\")\n",
    "print(f\"{w1000_uhi:.0f} people ({w1000_uhi/city_pop:.0%} of the city population) are within 1000 meters of water points in {city}, while also suffer from UHI\")"
   ]
  },
  {
   "cell_type": "code",
   "execution_count": 356,
   "metadata": {},
   "outputs": [
    {
     "name": "stdout",
     "output_type": "stream",
     "text": [
      "506864 people (77% of the city population) are not within 500 meters of water points in Owerri, while also suffer from UHI\n",
      "296550 people (45% of the city population) are not within 1000 meters of water points in Owerri, while also suffer from UHI\n"
     ]
    }
   ],
   "source": [
    "print(f\"{not_w500_uhi:.0f} people ({not_w500_uhi/city_pop:.0%} of the city population) are not within 500 meters of water points in {city}, while also suffer from UHI\")\n",
    "print(f\"{not_w1000_uhi:.0f} people ({not_w1000_uhi/city_pop:.0%} of the city population) are not within 1000 meters of water points in {city}, while also suffer from UHI\")"
   ]
  },
  {
   "cell_type": "code",
   "execution_count": null,
   "metadata": {},
   "outputs": [
    {
     "name": "stdout",
     "output_type": "stream",
     "text": [
      "79175 people (12% of the city population) are within 500 meters of water points in Owerri. \n",
      "314657 people (48% of the city population) are within 1000 meters of water points in Owerri. \n"
     ]
    }
   ],
   "source": [
    "print(f\"{p_w500:.0f} people ({p_w500/city_pop:.0%} of the city population) are within 500 meters of water points in {city}. \")\n",
    "print(f\"{p_w1000:.0f} people ({p_w1000/city_pop:.0%} of the city population) are within 1000 meters of water points in {city}. \")"
   ]
  },
  {
   "cell_type": "code",
   "execution_count": 364,
   "metadata": {},
   "outputs": [
    {
     "name": "stdout",
     "output_type": "stream",
     "text": [
      "18006 people (3% of the city population) are within 500 meters of water points in Owerri, not in UHI\n",
      "43174 people (7% of the city population) are within 1000 meters of water points in Owerri, not in UHI\n"
     ]
    }
   ],
   "source": [
    "print(f\"{w500_ci:.0f} people ({w500_ci/city_pop:.0%} of the city population) are within 500 meters of water points in {city}, not in UHI\")\n",
    "print(f\"{w1000_ci:.0f} people ({w1000_ci/city_pop:.0%} of the city population) are within 1000 meters of water points in {city}, not in UHI\")"
   ]
  },
  {
   "cell_type": "code",
   "execution_count": 365,
   "metadata": {},
   "outputs": [
    {
     "name": "stdout",
     "output_type": "stream",
     "text": [
      "68636 people (10% of the city population) are not within 500 meters of water points in Owerri, not in UHI\n",
      "43468 people (7% of the city population) are not within 1000 meters of water points in Owerri, not in UHI\n"
     ]
    }
   ],
   "source": [
    "print(f\"{not_w500_ci:.0f} people ({not_w500_ci/city_pop:.0%} of the city population) are not within 500 meters of water points in {city}, not in UHI\")\n",
    "print(f\"{not_w1000_ci:.0f} people ({not_w1000_ci/city_pop:.0%} of the city population) are not within 1000 meters of water points in {city}, not in UHI\")"
   ]
  },
  {
   "cell_type": "code",
   "execution_count": 366,
   "metadata": {},
   "outputs": [
    {
     "data": {
      "text/plain": [
       "568032.9959479026"
      ]
     },
     "execution_count": 366,
     "metadata": {},
     "output_type": "execute_result"
    }
   ],
   "source": [
    "heat_island_pop"
   ]
  },
  {
   "cell_type": "code",
   "execution_count": 367,
   "metadata": {},
   "outputs": [
    {
     "data": {
      "text/plain": [
       "86641.96109635288"
      ]
     },
     "execution_count": 367,
     "metadata": {},
     "output_type": "execute_result"
    }
   ],
   "source": [
    "cool_island_pop"
   ]
  },
  {
   "cell_type": "code",
   "execution_count": 368,
   "metadata": {},
   "outputs": [
    {
     "data": {
      "text/plain": [
       "61168.949574521655"
      ]
     },
     "execution_count": 368,
     "metadata": {},
     "output_type": "execute_result"
    }
   ],
   "source": [
    "w500_uhi"
   ]
  },
  {
   "cell_type": "code",
   "execution_count": 369,
   "metadata": {},
   "outputs": [
    {
     "data": {
      "text/plain": [
       "506864.04637338093"
      ]
     },
     "execution_count": 369,
     "metadata": {},
     "output_type": "execute_result"
    }
   ],
   "source": [
    "not_w500_uhi"
   ]
  },
  {
   "cell_type": "code",
   "execution_count": 370,
   "metadata": {},
   "outputs": [
    {
     "data": {
      "text/plain": [
       "True"
      ]
     },
     "execution_count": 370,
     "metadata": {},
     "output_type": "execute_result"
    }
   ],
   "source": [
    "(not_w500_uhi+w500_uhi) == heat_island_pop"
   ]
  },
  {
   "cell_type": "code",
   "execution_count": 371,
   "metadata": {},
   "outputs": [
    {
     "data": {
      "text/plain": [
       "True"
      ]
     },
     "execution_count": 371,
     "metadata": {},
     "output_type": "execute_result"
    }
   ],
   "source": [
    "(not_w500_ci+w500_ci) == cool_island_pop"
   ]
  },
  {
   "cell_type": "code",
   "execution_count": 384,
   "metadata": {},
   "outputs": [],
   "source": [
    "import squarify\n",
    "\n",
    "# these values define the coordinate system for the returned rectangles\n",
    "# the values will range from x to x + width and y to y + height\n",
    "x = 0.\n",
    "y = 0.\n",
    "width = 700.\n",
    "height = 400.\n",
    "\n",
    "values = [w500_uhi, not_w500_uhi, w500_ci, not_w500_ci]\n",
    "\n",
    "# values must be sorted descending (and positive, obviously)\n",
    "# values.sort(reverse=True)\n",
    "\n",
    "# the sum of the values must equal the total area to be laid out\n",
    "# i.e., sum(values) == width * height\n",
    "values = squarify.normalize_sizes(values, width, height)\n",
    "\n",
    "# returns a list of rectangles\n",
    "rects = squarify.squarify(values, x, y, width, height)\n",
    "\n",
    "# padded rectangles will probably visualize better for certain cases\n",
    "padded_rects = squarify.padded_squarify(values, x, y, width, height)"
   ]
  },
  {
   "cell_type": "code",
   "execution_count": 390,
   "metadata": {},
   "outputs": [
    {
     "data": {
      "text/plain": [
       "<Axes: >"
      ]
     },
     "execution_count": 390,
     "metadata": {},
     "output_type": "execute_result"
    },
    {
     "data": {
      "image/png": "[encoded data removed]",
      "text/plain": [
       "<Figure size 640x480 with 1 Axes>"
      ]
     },
     "metadata": {},
     "output_type": "display_data"
    }
   ],
   "source": [
    "squarify.plot(sizes=values,  \n",
    "              label=[\"UHI-w/ water\", \"UHI-w/o water\", \"Rural w/water\", \"Rural w/o water\"],\n",
    "              )"
   ]
  },
  {
   "cell_type": "code",
   "execution_count": null,
   "metadata": {},
   "outputs": [],
   "source": []
  },
  {
   "cell_type": "code",
   "execution_count": null,
   "metadata": {},
   "outputs": [],
   "source": []
  },
  {
   "cell_type": "markdown",
   "metadata": {},
   "source": [
    "### Enugu"
   ]
  },
  {
   "cell_type": "code",
   "execution_count": 391,
   "metadata": {},
   "outputs": [],
   "source": [
    "city = 'Enugu'"
   ]
  },
  {
   "cell_type": "code",
   "execution_count": 392,
   "metadata": {},
   "outputs": [
    {
     "name": "stdout",
     "output_type": "stream",
     "text": [
      "There are 809 hexes in Enugu\n"
     ]
    },
    {
     "data": {
      "text/html": [
       "<div>\n",
       "<style scoped>\n",
       "    .dataframe tbody tr th:only-of-type {\n",
       "        vertical-align: middle;\n",
       "    }\n",
       "\n",
       "    .dataframe tbody tr th {\n",
       "        vertical-align: top;\n",
       "    }\n",
       "\n",
       "    .dataframe thead th {\n",
       "        text-align: right;\n",
       "    }\n",
       "</style>\n",
       "<table border=\"1\" class=\"dataframe\">\n",
       "  <thead>\n",
       "    <tr style=\"text-align: right;\">\n",
       "      <th></th>\n",
       "      <th>hex8</th>\n",
       "      <th>ntl_sum</th>\n",
       "      <th>pop_sum</th>\n",
       "      <th>LST mean</th>\n",
       "      <th>geometry</th>\n",
       "      <th>land cover</th>\n",
       "    </tr>\n",
       "  </thead>\n",
       "  <tbody>\n",
       "    <tr>\n",
       "      <th>17</th>\n",
       "      <td>8858d699d5fffff</td>\n",
       "      <td>1,080.67</td>\n",
       "      <td>505.85</td>\n",
       "      <td>31.40</td>\n",
       "      <td>POLYGON ((7.45775 6.46802, 7.45665 6.46389, 7....</td>\n",
       "      <td>240</td>\n",
       "    </tr>\n",
       "    <tr>\n",
       "      <th>60</th>\n",
       "      <td>8858d68b5dfffff</td>\n",
       "      <td>2,365.65</td>\n",
       "      <td>1,866.27</td>\n",
       "      <td>30.97</td>\n",
       "      <td>POLYGON ((7.47117 6.42331, 7.47008 6.41918, 7....</td>\n",
       "      <td>240</td>\n",
       "    </tr>\n",
       "    <tr>\n",
       "      <th>98</th>\n",
       "      <td>8858d682b5fffff</td>\n",
       "      <td>275.08</td>\n",
       "      <td>0.00</td>\n",
       "      <td>30.21</td>\n",
       "      <td>POLYGON ((7.63182 6.51940, 7.63072 6.51526, 7....</td>\n",
       "      <td>251</td>\n",
       "    </tr>\n",
       "    <tr>\n",
       "      <th>122</th>\n",
       "      <td>8858d68113fffff</td>\n",
       "      <td>1,991.16</td>\n",
       "      <td>788.53</td>\n",
       "      <td>31.64</td>\n",
       "      <td>POLYGON ((7.57640 6.46997, 7.57529 6.46584, 7....</td>\n",
       "      <td>240</td>\n",
       "    </tr>\n",
       "    <tr>\n",
       "      <th>134</th>\n",
       "      <td>8858d68aa3fffff</td>\n",
       "      <td>1,667.16</td>\n",
       "      <td>0.00</td>\n",
       "      <td>28.15</td>\n",
       "      <td>POLYGON ((7.56211 6.40056, 7.56101 6.39643, 7....</td>\n",
       "      <td>252</td>\n",
       "    </tr>\n",
       "  </tbody>\n",
       "</table>\n",
       "</div>"
      ],
      "text/plain": [
       "                hex8  ntl_sum  pop_sum  LST mean  \\\n",
       "17   8858d699d5fffff 1,080.67   505.85     31.40   \n",
       "60   8858d68b5dfffff 2,365.65 1,866.27     30.97   \n",
       "98   8858d682b5fffff   275.08     0.00     30.21   \n",
       "122  8858d68113fffff 1,991.16   788.53     31.64   \n",
       "134  8858d68aa3fffff 1,667.16     0.00     28.15   \n",
       "\n",
       "                                              geometry  land cover  \n",
       "17   POLYGON ((7.45775 6.46802, 7.45665 6.46389, 7....         240  \n",
       "60   POLYGON ((7.47117 6.42331, 7.47008 6.41918, 7....         240  \n",
       "98   POLYGON ((7.63182 6.51940, 7.63072 6.51526, 7....         251  \n",
       "122  POLYGON ((7.57640 6.46997, 7.57529 6.46584, 7....         240  \n",
       "134  POLYGON ((7.56211 6.40056, 7.56101 6.39643, 7....         252  "
      ]
     },
     "execution_count": 392,
     "metadata": {},
     "output_type": "execute_result"
    }
   ],
   "source": [
    "city_hex8_data = major_city_data[major_city_data['hex8'].isin(major_city_lga_hex8_dict[city])]\n",
    "print(f\"There are {city_hex8_data.shape[0]} hexes in {city}\")\n",
    "city_hex8_data.head()"
   ]
  },
  {
   "cell_type": "code",
   "execution_count": null,
   "metadata": {},
   "outputs": [],
   "source": [
    "# city_hex8_data.explore()"
   ]
  },
  {
   "cell_type": "code",
   "execution_count": 393,
   "metadata": {},
   "outputs": [
    {
     "name": "stdout",
     "output_type": "stream",
     "text": [
      "There are 73 water points in Enugu\n"
     ]
    },
    {
     "data": {
      "text/html": [
       "<div>\n",
       "<style scoped>\n",
       "    .dataframe tbody tr th:only-of-type {\n",
       "        vertical-align: middle;\n",
       "    }\n",
       "\n",
       "    .dataframe tbody tr th {\n",
       "        vertical-align: top;\n",
       "    }\n",
       "\n",
       "    .dataframe thead th {\n",
       "        text-align: right;\n",
       "    }\n",
       "</style>\n",
       "<table border=\"1\" class=\"dataframe\">\n",
       "  <thead>\n",
       "    <tr style=\"text-align: right;\">\n",
       "      <th></th>\n",
       "      <th>FID</th>\n",
       "      <th>globalid</th>\n",
       "      <th>uniq_id</th>\n",
       "      <th>timestamp</th>\n",
       "      <th>editor</th>\n",
       "      <th>scdy_edtor</th>\n",
       "      <th>wardname</th>\n",
       "      <th>wardcode</th>\n",
       "      <th>lganame</th>\n",
       "      <th>lgacode</th>\n",
       "      <th>...</th>\n",
       "      <th>alt_name</th>\n",
       "      <th>name</th>\n",
       "      <th>source</th>\n",
       "      <th>geometry</th>\n",
       "      <th>index_right</th>\n",
       "      <th>hex8</th>\n",
       "      <th>ntl_sum</th>\n",
       "      <th>pop_sum</th>\n",
       "      <th>LST mean</th>\n",
       "      <th>land cover</th>\n",
       "    </tr>\n",
       "  </thead>\n",
       "  <tbody>\n",
       "    <tr>\n",
       "      <th>2470</th>\n",
       "      <td>2471</td>\n",
       "      <td>0cd22ad0-3997-499e-98b8-c9b7ac400bcb</td>\n",
       "      <td>94968</td>\n",
       "      <td>2019-01-25</td>\n",
       "      <td>adanna.alex</td>\n",
       "      <td>None</td>\n",
       "      <td>Ukanu / Awhum</td>\n",
       "      <td>ENSUDD17</td>\n",
       "      <td>Udi</td>\n",
       "      <td>14016</td>\n",
       "      <td>...</td>\n",
       "      <td>None</td>\n",
       "      <td>Awhum Borehole</td>\n",
       "      <td>GRID</td>\n",
       "      <td>POINT (7.41503 6.51731)</td>\n",
       "      <td>28540</td>\n",
       "      <td>8858d69b13fffff</td>\n",
       "      <td>290.83</td>\n",
       "      <td>651.62</td>\n",
       "      <td>27.11</td>\n",
       "      <td>59</td>\n",
       "    </tr>\n",
       "    <tr>\n",
       "      <th>2472</th>\n",
       "      <td>2473</td>\n",
       "      <td>9c03fc2f-cde4-44e1-bb31-2178a5c5d8b4</td>\n",
       "      <td>94981</td>\n",
       "      <td>2019-01-25</td>\n",
       "      <td>adanna.alex</td>\n",
       "      <td>None</td>\n",
       "      <td>Ukanu / Awhum</td>\n",
       "      <td>ENSUDD17</td>\n",
       "      <td>Udi</td>\n",
       "      <td>14016</td>\n",
       "      <td>...</td>\n",
       "      <td>None</td>\n",
       "      <td>Umuka Water Point</td>\n",
       "      <td>GRID</td>\n",
       "      <td>POINT (7.41315 6.53058)</td>\n",
       "      <td>12816</td>\n",
       "      <td>8858d69b1bfffff</td>\n",
       "      <td>316.13</td>\n",
       "      <td>1,514.91</td>\n",
       "      <td>25.99</td>\n",
       "      <td>64</td>\n",
       "    </tr>\n",
       "    <tr>\n",
       "      <th>21128</th>\n",
       "      <td>21129</td>\n",
       "      <td>8562199c-a08f-453c-ad55-57233b82375f</td>\n",
       "      <td>93822</td>\n",
       "      <td>2018-10-30</td>\n",
       "      <td>racheal.olarewaju</td>\n",
       "      <td>None</td>\n",
       "      <td>Ngwo Uno</td>\n",
       "      <td>ENSUDD11</td>\n",
       "      <td>Udi</td>\n",
       "      <td>14016</td>\n",
       "      <td>...</td>\n",
       "      <td>None</td>\n",
       "      <td>Amaon Borehole</td>\n",
       "      <td>GRID</td>\n",
       "      <td>POINT (7.42731 6.44721)</td>\n",
       "      <td>34888</td>\n",
       "      <td>8858d699e5fffff</td>\n",
       "      <td>511.94</td>\n",
       "      <td>536.83</td>\n",
       "      <td>29.53</td>\n",
       "      <td>240</td>\n",
       "    </tr>\n",
       "    <tr>\n",
       "      <th>21273</th>\n",
       "      <td>21274</td>\n",
       "      <td>93037416-950f-4da7-b867-59b65c8b68e0</td>\n",
       "      <td>93823</td>\n",
       "      <td>2018-10-30</td>\n",
       "      <td>racheal.olarewaju</td>\n",
       "      <td>None</td>\n",
       "      <td>Ngwo Uno</td>\n",
       "      <td>ENSUDD11</td>\n",
       "      <td>Udi</td>\n",
       "      <td>14016</td>\n",
       "      <td>...</td>\n",
       "      <td>None</td>\n",
       "      <td>J And M Public Water Point</td>\n",
       "      <td>GRID</td>\n",
       "      <td>POINT (7.42734 6.44676)</td>\n",
       "      <td>34888</td>\n",
       "      <td>8858d699e5fffff</td>\n",
       "      <td>511.94</td>\n",
       "      <td>536.83</td>\n",
       "      <td>29.53</td>\n",
       "      <td>240</td>\n",
       "    </tr>\n",
       "    <tr>\n",
       "      <th>21285</th>\n",
       "      <td>21286</td>\n",
       "      <td>c50fd4ed-d6c7-43f3-ae32-9c8ef502eaee</td>\n",
       "      <td>93840</td>\n",
       "      <td>2018-10-30</td>\n",
       "      <td>racheal.olarewaju</td>\n",
       "      <td>None</td>\n",
       "      <td>Ngwo Uno</td>\n",
       "      <td>ENSUDD11</td>\n",
       "      <td>Udi</td>\n",
       "      <td>14016</td>\n",
       "      <td>...</td>\n",
       "      <td>None</td>\n",
       "      <td>Rock Base Water Point</td>\n",
       "      <td>GRID</td>\n",
       "      <td>POINT (7.42786 6.44996)</td>\n",
       "      <td>34888</td>\n",
       "      <td>8858d699e5fffff</td>\n",
       "      <td>511.94</td>\n",
       "      <td>536.83</td>\n",
       "      <td>29.53</td>\n",
       "      <td>240</td>\n",
       "    </tr>\n",
       "  </tbody>\n",
       "</table>\n",
       "<p>5 rows × 23 columns</p>\n",
       "</div>"
      ],
      "text/plain": [
       "         FID                              globalid  uniq_id   timestamp  \\\n",
       "2470    2471  0cd22ad0-3997-499e-98b8-c9b7ac400bcb    94968  2019-01-25   \n",
       "2472    2473  9c03fc2f-cde4-44e1-bb31-2178a5c5d8b4    94981  2019-01-25   \n",
       "21128  21129  8562199c-a08f-453c-ad55-57233b82375f    93822  2018-10-30   \n",
       "21273  21274  93037416-950f-4da7-b867-59b65c8b68e0    93823  2018-10-30   \n",
       "21285  21286  c50fd4ed-d6c7-43f3-ae32-9c8ef502eaee    93840  2018-10-30   \n",
       "\n",
       "                  editor scdy_edtor       wardname  wardcode lganame lgacode  \\\n",
       "2470         adanna.alex       None  Ukanu / Awhum  ENSUDD17     Udi   14016   \n",
       "2472         adanna.alex       None  Ukanu / Awhum  ENSUDD17     Udi   14016   \n",
       "21128  racheal.olarewaju       None       Ngwo Uno  ENSUDD11     Udi   14016   \n",
       "21273  racheal.olarewaju       None       Ngwo Uno  ENSUDD11     Udi   14016   \n",
       "21285  racheal.olarewaju       None       Ngwo Uno  ENSUDD11     Udi   14016   \n",
       "\n",
       "       ... alt_name                        name source  \\\n",
       "2470   ...     None              Awhum Borehole   GRID   \n",
       "2472   ...     None           Umuka Water Point   GRID   \n",
       "21128  ...     None              Amaon Borehole   GRID   \n",
       "21273  ...     None  J And M Public Water Point   GRID   \n",
       "21285  ...     None       Rock Base Water Point   GRID   \n",
       "\n",
       "                      geometry index_right             hex8 ntl_sum  pop_sum  \\\n",
       "2470   POINT (7.41503 6.51731)       28540  8858d69b13fffff  290.83   651.62   \n",
       "2472   POINT (7.41315 6.53058)       12816  8858d69b1bfffff  316.13 1,514.91   \n",
       "21128  POINT (7.42731 6.44721)       34888  8858d699e5fffff  511.94   536.83   \n",
       "21273  POINT (7.42734 6.44676)       34888  8858d699e5fffff  511.94   536.83   \n",
       "21285  POINT (7.42786 6.44996)       34888  8858d699e5fffff  511.94   536.83   \n",
       "\n",
       "      LST mean  land cover  \n",
       "2470     27.11          59  \n",
       "2472     25.99          64  \n",
       "21128    29.53         240  \n",
       "21273    29.53         240  \n",
       "21285    29.53         240  \n",
       "\n",
       "[5 rows x 23 columns]"
      ]
     },
     "execution_count": 393,
     "metadata": {},
     "output_type": "execute_result"
    }
   ],
   "source": [
    "city_water_points = water_points_ss[water_points_ss['hex8'].isin(major_city_lga_hex8_dict[city])]\n",
    "print(f\"There are {city_water_points.shape[0]} water points in {city}\")\n",
    "city_water_points.head()"
   ]
  },
  {
   "cell_type": "code",
   "execution_count": null,
   "metadata": {},
   "outputs": [],
   "source": [
    "# major_cities.to_parquet('../data/urban_areas.parquet')"
   ]
  },
  {
   "cell_type": "code",
   "execution_count": 394,
   "metadata": {},
   "outputs": [],
   "source": [
    "heat_island = city_hex8_data[(city_hex8_data['LST mean']>=30)|(city_hex8_data['land cover'].isin([239,240,241,242,243,249]))]\n",
    "cool_island = city_hex8_data[~city_hex8_data['hex8'].isin(heat_island['hex8'])]"
   ]
  },
  {
   "cell_type": "code",
   "execution_count": 395,
   "metadata": {},
   "outputs": [
    {
     "data": {
      "text/plain": [
       "605"
      ]
     },
     "execution_count": 395,
     "metadata": {},
     "output_type": "execute_result"
    }
   ],
   "source": [
    "heat_island.shape[0]"
   ]
  },
  {
   "cell_type": "code",
   "execution_count": 396,
   "metadata": {},
   "outputs": [
    {
     "data": {
      "text/plain": [
       "204"
      ]
     },
     "execution_count": 396,
     "metadata": {},
     "output_type": "execute_result"
    }
   ],
   "source": [
    "cool_island.shape[0]"
   ]
  },
  {
   "cell_type": "code",
   "execution_count": 397,
   "metadata": {},
   "outputs": [
    {
     "data": {
      "text/plain": [
       "31.666220250946804"
      ]
     },
     "execution_count": 397,
     "metadata": {},
     "output_type": "execute_result"
    }
   ],
   "source": [
    "heat_island['LST mean'].mean()"
   ]
  },
  {
   "cell_type": "code",
   "execution_count": 398,
   "metadata": {},
   "outputs": [
    {
     "data": {
      "text/plain": [
       "28.751602721796964"
      ]
     },
     "execution_count": 398,
     "metadata": {},
     "output_type": "execute_result"
    }
   ],
   "source": [
    "cool_island['LST mean'].mean()"
   ]
  },
  {
   "cell_type": "code",
   "execution_count": 399,
   "metadata": {},
   "outputs": [],
   "source": [
    "heat_island['temp variance'] = heat_island['LST mean'] - cool_island['LST mean'].mean()"
   ]
  },
  {
   "cell_type": "code",
   "execution_count": 400,
   "metadata": {},
   "outputs": [],
   "source": [
    "heat_island = heat_island[heat_island['temp variance']>0]"
   ]
  },
  {
   "cell_type": "code",
   "execution_count": 401,
   "metadata": {},
   "outputs": [
    {
     "data": {
      "text/plain": [
       "<Axes: >"
      ]
     },
     "execution_count": 401,
     "metadata": {},
     "output_type": "execute_result"
    },
    {
     "data": {
      "image/png": "[encoded data removed]",
      "text/plain": [
       "<Figure size 640x480 with 1 Axes>"
      ]
     },
     "metadata": {},
     "output_type": "display_data"
    }
   ],
   "source": [
    "heat_island['temp variance'].hist()"
   ]
  },
  {
   "cell_type": "code",
   "execution_count": 402,
   "metadata": {},
   "outputs": [],
   "source": [
    "from itertools import combinations"
   ]
  },
  {
   "cell_type": "code",
   "execution_count": 403,
   "metadata": {},
   "outputs": [],
   "source": [
    "es = list(combinations(heat_island['hex8'].to_list(), r=2))\n",
    "ws = [h3.h3_distance(h1, h2) for h1,h2 in es]\n",
    "\n",
    "ew = dict(zip(es,ws))"
   ]
  },
  {
   "cell_type": "code",
   "execution_count": 404,
   "metadata": {},
   "outputs": [],
   "source": [
    "ew_df = pd.DataFrame.from_dict(ew, orient='index')\n",
    "ew_df = ew_df[ew_df[0]==1]"
   ]
  },
  {
   "cell_type": "code",
   "execution_count": 405,
   "metadata": {},
   "outputs": [],
   "source": [
    "ew = dict(zip(ew_df.index.to_list(),ew_df[0].to_list()))"
   ]
  },
  {
   "cell_type": "code",
   "execution_count": 406,
   "metadata": {},
   "outputs": [],
   "source": [
    "import networkx as nx\n",
    "g = nx.Graph()\n",
    "g.add_edges_from(ew)"
   ]
  },
  {
   "cell_type": "code",
   "execution_count": 407,
   "metadata": {},
   "outputs": [
    {
     "data": {
      "text/plain": [
       "572"
      ]
     },
     "execution_count": 407,
     "metadata": {},
     "output_type": "execute_result"
    }
   ],
   "source": [
    "largest_cc = max(nx.connected_components(g), key=len)\n",
    "len(largest_cc)"
   ]
  },
  {
   "cell_type": "code",
   "execution_count": 408,
   "metadata": {},
   "outputs": [
    {
     "data": {
      "text/plain": [
       "596"
      ]
     },
     "execution_count": 408,
     "metadata": {},
     "output_type": "execute_result"
    }
   ],
   "source": [
    "heat_island.shape[0]"
   ]
  },
  {
   "cell_type": "code",
   "execution_count": 409,
   "metadata": {},
   "outputs": [],
   "source": [
    "heat_island = heat_island[heat_island['hex8'].isin(largest_cc)]\n",
    "cool_island = city_hex8_data[~city_hex8_data['hex8'].isin(heat_island['hex8'])]"
   ]
  },
  {
   "cell_type": "code",
   "execution_count": 410,
   "metadata": {},
   "outputs": [
    {
     "data": {
      "text/plain": [
       "<Axes: >"
      ]
     },
     "execution_count": 410,
     "metadata": {},
     "output_type": "execute_result"
    },
    {
     "data": {
      "image/png": "[encoded data removed]",
      "text/plain": [
       "<Figure size 640x480 with 1 Axes>"
      ]
     },
     "metadata": {},
     "output_type": "display_data"
    }
   ],
   "source": [
    "base = city_hex8_data.plot(fc='grey')\n",
    "heat_island.plot(column='temp variance', ax=base, cmap='Reds')"
   ]
  },
  {
   "cell_type": "markdown",
   "metadata": {},
   "source": [
    "What's the population of the city? What fraction of this population are affected by urban heat island?"
   ]
  },
  {
   "cell_type": "code",
   "execution_count": 411,
   "metadata": {},
   "outputs": [],
   "source": [
    "city_pop = city_hex8_data['pop_sum'].sum()\n",
    "heat_island_pop = heat_island['pop_sum'].sum()"
   ]
  },
  {
   "cell_type": "code",
   "execution_count": 412,
   "metadata": {},
   "outputs": [
    {
     "name": "stdout",
     "output_type": "stream",
     "text": [
      "There are 916753 population in city of Enugu, 889211 (97%) live in regions with urban heat island\n"
     ]
    }
   ],
   "source": [
    "print(f\"There are {city_pop :.0f} population in city of {city}, {heat_island_pop:.0f} ({heat_island_pop/city_pop:.0%}) live in regions with urban heat island\")"
   ]
  },
  {
   "cell_type": "markdown",
   "metadata": {},
   "source": [
    "How many water points are there in the city? How many of them are in urban heat islands?"
   ]
  },
  {
   "cell_type": "code",
   "execution_count": 413,
   "metadata": {},
   "outputs": [],
   "source": [
    "city_water_points_uhi = city_water_points[city_water_points['hex8'].isin(heat_island['hex8'])]"
   ]
  },
  {
   "cell_type": "code",
   "execution_count": 414,
   "metadata": {},
   "outputs": [
    {
     "name": "stdout",
     "output_type": "stream",
     "text": [
      "There are 73 water points in city of Enugu, 59 (81%) of them are in urban heat islands\n"
     ]
    }
   ],
   "source": [
    "print(f\"There are {city_water_points.shape[0]:.0f} water points in city of {city}, {city_water_points_uhi.shape[0]:.0f} \\\n",
    "({city_water_points_uhi.shape[0]/city_water_points.shape[0]:.0%}) of them are in urban heat islands\")"
   ]
  },
  {
   "cell_type": "markdown",
   "metadata": {},
   "source": [
    "How many population are within 500m of water points?\n",
    "\n",
    "How many population are within 1km of water points?\n",
    "\n",
    "Among population affected by heat island, how many are within 500m of water points?\n",
    "\n",
    "Among population affected by heat island, how many are within 500m of water points?"
   ]
  },
  {
   "cell_type": "code",
   "execution_count": 415,
   "metadata": {},
   "outputs": [
    {
     "data": {
      "text/plain": [
       "809"
      ]
     },
     "execution_count": 415,
     "metadata": {},
     "output_type": "execute_result"
    }
   ],
   "source": [
    "city_hex8_data.shape[0]"
   ]
  },
  {
   "cell_type": "code",
   "execution_count": 416,
   "metadata": {},
   "outputs": [
    {
     "data": {
      "text/plain": [
       "(175, 6)"
      ]
     },
     "execution_count": 416,
     "metadata": {},
     "output_type": "execute_result"
    }
   ],
   "source": [
    "# neighbour hex as 1000m coverage\n",
    "neighbor_hex = list(set([h for hl in city_water_points['hex8'].apply(lambda x: h3.k_ring(x, 1)).to_list() for h in hl]))\n",
    "wp_covered_1000 = city_hex8_data[city_hex8_data['hex8'].isin(neighbor_hex)]\n",
    "wp_covered_1000.shape"
   ]
  },
  {
   "cell_type": "code",
   "execution_count": 417,
   "metadata": {},
   "outputs": [],
   "source": [
    "# within 500m\n",
    "p_w500 = city_hex8_data[city_hex8_data['hex8'].isin(city_water_points['hex8'])]['pop_sum'].sum()\n",
    "\n",
    "# within 1000m\n",
    "p_w1000 = city_hex8_data[city_hex8_data['hex8'].isin(wp_covered_1000['hex8'])]['pop_sum'].sum()\n",
    "\n",
    "# within 500m|UHI\n",
    "w500_uhi = heat_island[heat_island['hex8'].isin(city_water_points['hex8'])]['pop_sum'].sum()\n",
    "\n",
    "not_w500_uhi = heat_island_pop-w500_uhi\n",
    "\n",
    "# within 1000m|UHI\n",
    "w1000_uhi = heat_island[heat_island['hex8'].isin(wp_covered_1000['hex8'])]['pop_sum'].sum()\n",
    "\n",
    "not_w1000_uhi = heat_island_pop-w1000_uhi\n"
   ]
  },
  {
   "cell_type": "code",
   "execution_count": 418,
   "metadata": {},
   "outputs": [],
   "source": [
    "cool_island_pop = cool_island['pop_sum'].sum()\n",
    "\n",
    "# within 500m\n",
    "p_w500 = city_hex8_data[city_hex8_data['hex8'].isin(city_water_points['hex8'])]['pop_sum'].sum()\n",
    "\n",
    "# within 1000m\n",
    "p_w1000 = city_hex8_data[city_hex8_data['hex8'].isin(wp_covered_1000['hex8'])]['pop_sum'].sum()\n",
    "\n",
    "# within 500m|rural\n",
    "w500_ci = cool_island[cool_island['hex8'].isin(city_water_points['hex8'])]['pop_sum'].sum()\n",
    "\n",
    "not_w500_ci = cool_island_pop-w500_ci\n",
    "\n",
    "# within 1000m|rural\n",
    "w1000_ci = cool_island[cool_island['hex8'].isin(wp_covered_1000['hex8'])]['pop_sum'].sum()\n",
    "\n",
    "not_w1000_ci = cool_island_pop-w1000_ci\n"
   ]
  },
  {
   "cell_type": "code",
   "execution_count": 419,
   "metadata": {},
   "outputs": [
    {
     "name": "stdout",
     "output_type": "stream",
     "text": [
      "151898 people (17% of the city population) are within 500 meters of water points in Enugu. \n",
      "490305 people (53% of the city population) are within 1000 meters of water points in Enugu. \n"
     ]
    }
   ],
   "source": [
    "print(f\"{p_w500:.0f} people ({p_w500/city_pop:.0%} of the city population) are within 500 meters of water points in {city}. \")\n",
    "print(f\"{p_w1000:.0f} people ({p_w1000/city_pop:.0%} of the city population) are within 1000 meters of water points in {city}. \")"
   ]
  },
  {
   "cell_type": "code",
   "execution_count": 420,
   "metadata": {},
   "outputs": [
    {
     "name": "stdout",
     "output_type": "stream",
     "text": [
      "142269 people (16% of the city population) are within 500 meters of water points in Enugu, while also suffer from UHI\n",
      "472488 people (52% of the city population) are within 1000 meters of water points in Enugu, while also suffer from UHI\n"
     ]
    }
   ],
   "source": [
    "print(f\"{w500_uhi:.0f} people ({w500_uhi/city_pop:.0%} of the city population) are within 500 meters of water points in {city}, while also suffer from UHI\")\n",
    "print(f\"{w1000_uhi:.0f} people ({w1000_uhi/city_pop:.0%} of the city population) are within 1000 meters of water points in {city}, while also suffer from UHI\")"
   ]
  },
  {
   "cell_type": "code",
   "execution_count": 421,
   "metadata": {},
   "outputs": [
    {
     "name": "stdout",
     "output_type": "stream",
     "text": [
      "746941 people (81% of the city population) are not within 500 meters of water points in Enugu, while also suffer from UHI\n",
      "416723 people (45% of the city population) are not within 1000 meters of water points in Enugu, while also suffer from UHI\n"
     ]
    }
   ],
   "source": [
    "print(f\"{not_w500_uhi:.0f} people ({not_w500_uhi/city_pop:.0%} of the city population) are not within 500 meters of water points in {city}, while also suffer from UHI\")\n",
    "print(f\"{not_w1000_uhi:.0f} people ({not_w1000_uhi/city_pop:.0%} of the city population) are not within 1000 meters of water points in {city}, while also suffer from UHI\")"
   ]
  },
  {
   "cell_type": "code",
   "execution_count": 422,
   "metadata": {},
   "outputs": [
    {
     "name": "stdout",
     "output_type": "stream",
     "text": [
      "151898 people (17% of the city population) are within 500 meters of water points in Enugu. \n",
      "490305 people (53% of the city population) are within 1000 meters of water points in Enugu. \n"
     ]
    }
   ],
   "source": [
    "print(f\"{p_w500:.0f} people ({p_w500/city_pop:.0%} of the city population) are within 500 meters of water points in {city}. \")\n",
    "print(f\"{p_w1000:.0f} people ({p_w1000/city_pop:.0%} of the city population) are within 1000 meters of water points in {city}. \")"
   ]
  },
  {
   "cell_type": "code",
   "execution_count": 423,
   "metadata": {},
   "outputs": [
    {
     "name": "stdout",
     "output_type": "stream",
     "text": [
      "9629 people (1% of the city population) are within 500 meters of water points in Enugu, not in UHI\n",
      "17818 people (2% of the city population) are within 1000 meters of water points in Enugu, not in UHI\n"
     ]
    }
   ],
   "source": [
    "print(f\"{w500_ci:.0f} people ({w500_ci/city_pop:.0%} of the city population) are within 500 meters of water points in {city}, not in UHI\")\n",
    "print(f\"{w1000_ci:.0f} people ({w1000_ci/city_pop:.0%} of the city population) are within 1000 meters of water points in {city}, not in UHI\")"
   ]
  },
  {
   "cell_type": "code",
   "execution_count": 424,
   "metadata": {},
   "outputs": [
    {
     "name": "stdout",
     "output_type": "stream",
     "text": [
      "17914 people (2% of the city population) are not within 500 meters of water points in Enugu, not in UHI\n",
      "9725 people (1% of the city population) are not within 1000 meters of water points in Enugu, not in UHI\n"
     ]
    }
   ],
   "source": [
    "print(f\"{not_w500_ci:.0f} people ({not_w500_ci/city_pop:.0%} of the city population) are not within 500 meters of water points in {city}, not in UHI\")\n",
    "print(f\"{not_w1000_ci:.0f} people ({not_w1000_ci/city_pop:.0%} of the city population) are not within 1000 meters of water points in {city}, not in UHI\")"
   ]
  },
  {
   "cell_type": "code",
   "execution_count": 425,
   "metadata": {},
   "outputs": [
    {
     "data": {
      "text/plain": [
       "889210.6549452436"
      ]
     },
     "execution_count": 425,
     "metadata": {},
     "output_type": "execute_result"
    }
   ],
   "source": [
    "heat_island_pop"
   ]
  },
  {
   "cell_type": "code",
   "execution_count": 426,
   "metadata": {},
   "outputs": [
    {
     "data": {
      "text/plain": [
       "27542.504071600015"
      ]
     },
     "execution_count": 426,
     "metadata": {},
     "output_type": "execute_result"
    }
   ],
   "source": [
    "cool_island_pop"
   ]
  },
  {
   "cell_type": "code",
   "execution_count": 427,
   "metadata": {},
   "outputs": [
    {
     "data": {
      "text/plain": [
       "142269.22026128217"
      ]
     },
     "execution_count": 427,
     "metadata": {},
     "output_type": "execute_result"
    }
   ],
   "source": [
    "w500_uhi"
   ]
  },
  {
   "cell_type": "code",
   "execution_count": 428,
   "metadata": {},
   "outputs": [
    {
     "data": {
      "text/plain": [
       "746941.4346839614"
      ]
     },
     "execution_count": 428,
     "metadata": {},
     "output_type": "execute_result"
    }
   ],
   "source": [
    "not_w500_uhi"
   ]
  },
  {
   "cell_type": "code",
   "execution_count": 429,
   "metadata": {},
   "outputs": [
    {
     "data": {
      "text/plain": [
       "True"
      ]
     },
     "execution_count": 429,
     "metadata": {},
     "output_type": "execute_result"
    }
   ],
   "source": [
    "(not_w500_uhi+w500_uhi) == heat_island_pop"
   ]
  },
  {
   "cell_type": "code",
   "execution_count": 430,
   "metadata": {},
   "outputs": [
    {
     "data": {
      "text/plain": [
       "True"
      ]
     },
     "execution_count": 430,
     "metadata": {},
     "output_type": "execute_result"
    }
   ],
   "source": [
    "(not_w500_ci+w500_ci) == cool_island_pop"
   ]
  },
  {
   "cell_type": "code",
   "execution_count": 431,
   "metadata": {},
   "outputs": [],
   "source": [
    "import squarify\n",
    "\n",
    "# these values define the coordinate system for the returned rectangles\n",
    "# the values will range from x to x + width and y to y + height\n",
    "x = 0.\n",
    "y = 0.\n",
    "width = 700.\n",
    "height = 400.\n",
    "\n",
    "values = [w500_uhi, not_w500_uhi, w500_ci, not_w500_ci]\n",
    "\n",
    "# values must be sorted descending (and positive, obviously)\n",
    "# values.sort(reverse=True)\n",
    "\n",
    "# the sum of the values must equal the total area to be laid out\n",
    "# i.e., sum(values) == width * height\n",
    "values = squarify.normalize_sizes(values, width, height)\n",
    "\n",
    "# returns a list of rectangles\n",
    "rects = squarify.squarify(values, x, y, width, height)\n",
    "\n",
    "# padded rectangles will probably visualize better for certain cases\n",
    "padded_rects = squarify.padded_squarify(values, x, y, width, height)"
   ]
  },
  {
   "cell_type": "code",
   "execution_count": 432,
   "metadata": {},
   "outputs": [
    {
     "data": {
      "text/plain": [
       "<Axes: >"
      ]
     },
     "execution_count": 432,
     "metadata": {},
     "output_type": "execute_result"
    },
    {
     "data": {
      "image/png": "[encoded data removed]",
      "text/plain": [
       "<Figure size 640x480 with 1 Axes>"
      ]
     },
     "metadata": {},
     "output_type": "display_data"
    }
   ],
   "source": [
    "squarify.plot(sizes=values,  \n",
    "              label=[\"UHI-w/ water\", \"UHI-w/o water\", \"Rural w/water\", \"Rural w/o water\"],\n",
    "              )"
   ]
  },
  {
   "cell_type": "code",
   "execution_count": 433,
   "metadata": {},
   "outputs": [
    {
     "data": {
      "text/plain": [
       "['Aba',\n",
       " 'Enugu',\n",
       " 'Onitsha',\n",
       " 'Umuahia',\n",
       " 'Owerri',\n",
       " 'Nnewi',\n",
       " 'Awka',\n",
       " 'Abakaliki',\n",
       " 'Akwa']"
      ]
     },
     "execution_count": 433,
     "metadata": {},
     "output_type": "execute_result"
    }
   ],
   "source": [
    "major_cities_name"
   ]
  },
  {
   "cell_type": "markdown",
   "metadata": {},
   "source": [
    "### Umuahia"
   ]
  },
  {
   "cell_type": "code",
   "execution_count": 434,
   "metadata": {},
   "outputs": [],
   "source": [
    "city = 'Umuahia'"
   ]
  },
  {
   "cell_type": "code",
   "execution_count": 435,
   "metadata": {},
   "outputs": [
    {
     "name": "stdout",
     "output_type": "stream",
     "text": [
      "There are 634 hexes in Umuahia\n"
     ]
    },
    {
     "data": {
      "text/html": [
       "<div>\n",
       "<style scoped>\n",
       "    .dataframe tbody tr th:only-of-type {\n",
       "        vertical-align: middle;\n",
       "    }\n",
       "\n",
       "    .dataframe tbody tr th {\n",
       "        vertical-align: top;\n",
       "    }\n",
       "\n",
       "    .dataframe thead th {\n",
       "        text-align: right;\n",
       "    }\n",
       "</style>\n",
       "<table border=\"1\" class=\"dataframe\">\n",
       "  <thead>\n",
       "    <tr style=\"text-align: right;\">\n",
       "      <th></th>\n",
       "      <th>hex8</th>\n",
       "      <th>ntl_sum</th>\n",
       "      <th>pop_sum</th>\n",
       "      <th>LST mean</th>\n",
       "      <th>geometry</th>\n",
       "      <th>land cover</th>\n",
       "    </tr>\n",
       "  </thead>\n",
       "  <tbody>\n",
       "    <tr>\n",
       "      <th>5</th>\n",
       "      <td>8882da4317fffff</td>\n",
       "      <td>333.40</td>\n",
       "      <td>11.61</td>\n",
       "      <td>20.90</td>\n",
       "      <td>POLYGON ((7.56488 5.53068, 7.56379 5.52661, 7....</td>\n",
       "      <td>59</td>\n",
       "    </tr>\n",
       "    <tr>\n",
       "      <th>45</th>\n",
       "      <td>8882da40d9fffff</td>\n",
       "      <td>1,008.87</td>\n",
       "      <td>1,310.19</td>\n",
       "      <td>29.22</td>\n",
       "      <td>POLYGON ((7.47363 5.53392, 7.47254 5.52986, 7....</td>\n",
       "      <td>240</td>\n",
       "    </tr>\n",
       "    <tr>\n",
       "      <th>194</th>\n",
       "      <td>8882da444bfffff</td>\n",
       "      <td>333.10</td>\n",
       "      <td>2,057.20</td>\n",
       "      <td>27.76</td>\n",
       "      <td>POLYGON ((7.39458 5.51993, 7.39350 5.51586, 7....</td>\n",
       "      <td>57</td>\n",
       "    </tr>\n",
       "    <tr>\n",
       "      <th>205</th>\n",
       "      <td>8882da40cbfffff</td>\n",
       "      <td>2,296.96</td>\n",
       "      <td>2,523.31</td>\n",
       "      <td>29.99</td>\n",
       "      <td>POLYGON ((7.48681 5.53626, 7.48572 5.53219, 7....</td>\n",
       "      <td>240</td>\n",
       "    </tr>\n",
       "    <tr>\n",
       "      <th>332</th>\n",
       "      <td>8882da5507fffff</td>\n",
       "      <td>491.36</td>\n",
       "      <td>264.68</td>\n",
       "      <td>25.00</td>\n",
       "      <td>POLYGON ((7.50897 5.46267, 7.50788 5.45861, 7....</td>\n",
       "      <td>116</td>\n",
       "    </tr>\n",
       "  </tbody>\n",
       "</table>\n",
       "</div>"
      ],
      "text/plain": [
       "                hex8  ntl_sum  pop_sum  LST mean  \\\n",
       "5    8882da4317fffff   333.40    11.61     20.90   \n",
       "45   8882da40d9fffff 1,008.87 1,310.19     29.22   \n",
       "194  8882da444bfffff   333.10 2,057.20     27.76   \n",
       "205  8882da40cbfffff 2,296.96 2,523.31     29.99   \n",
       "332  8882da5507fffff   491.36   264.68     25.00   \n",
       "\n",
       "                                              geometry  land cover  \n",
       "5    POLYGON ((7.56488 5.53068, 7.56379 5.52661, 7....          59  \n",
       "45   POLYGON ((7.47363 5.53392, 7.47254 5.52986, 7....         240  \n",
       "194  POLYGON ((7.39458 5.51993, 7.39350 5.51586, 7....          57  \n",
       "205  POLYGON ((7.48681 5.53626, 7.48572 5.53219, 7....         240  \n",
       "332  POLYGON ((7.50897 5.46267, 7.50788 5.45861, 7....         116  "
      ]
     },
     "execution_count": 435,
     "metadata": {},
     "output_type": "execute_result"
    }
   ],
   "source": [
    "city_hex8_data = major_city_data[major_city_data['hex8'].isin(major_city_lga_hex8_dict[city])]\n",
    "print(f\"There are {city_hex8_data.shape[0]} hexes in {city}\")\n",
    "city_hex8_data.head()"
   ]
  },
  {
   "cell_type": "code",
   "execution_count": 436,
   "metadata": {},
   "outputs": [
    {
     "data": {
      "text/plain": [
       "<Axes: >"
      ]
     },
     "execution_count": 436,
     "metadata": {},
     "output_type": "execute_result"
    },
    {
     "data": {
      "image/png": "[encoded data removed]",
      "text/plain": [
       "<Figure size 640x480 with 1 Axes>"
      ]
     },
     "metadata": {},
     "output_type": "display_data"
    }
   ],
   "source": [
    "city_hex8_data['LST mean'].hist()"
   ]
  },
  {
   "cell_type": "code",
   "execution_count": null,
   "metadata": {},
   "outputs": [],
   "source": [
    "# city_hex8_data.explore()"
   ]
  },
  {
   "cell_type": "code",
   "execution_count": 437,
   "metadata": {},
   "outputs": [
    {
     "name": "stdout",
     "output_type": "stream",
     "text": [
      "There are 152 water points in Umuahia\n"
     ]
    },
    {
     "data": {
      "text/html": [
       "<div>\n",
       "<style scoped>\n",
       "    .dataframe tbody tr th:only-of-type {\n",
       "        vertical-align: middle;\n",
       "    }\n",
       "\n",
       "    .dataframe tbody tr th {\n",
       "        vertical-align: top;\n",
       "    }\n",
       "\n",
       "    .dataframe thead th {\n",
       "        text-align: right;\n",
       "    }\n",
       "</style>\n",
       "<table border=\"1\" class=\"dataframe\">\n",
       "  <thead>\n",
       "    <tr style=\"text-align: right;\">\n",
       "      <th></th>\n",
       "      <th>FID</th>\n",
       "      <th>globalid</th>\n",
       "      <th>uniq_id</th>\n",
       "      <th>timestamp</th>\n",
       "      <th>editor</th>\n",
       "      <th>scdy_edtor</th>\n",
       "      <th>wardname</th>\n",
       "      <th>wardcode</th>\n",
       "      <th>lganame</th>\n",
       "      <th>lgacode</th>\n",
       "      <th>...</th>\n",
       "      <th>alt_name</th>\n",
       "      <th>name</th>\n",
       "      <th>source</th>\n",
       "      <th>geometry</th>\n",
       "      <th>index_right</th>\n",
       "      <th>hex8</th>\n",
       "      <th>ntl_sum</th>\n",
       "      <th>pop_sum</th>\n",
       "      <th>LST mean</th>\n",
       "      <th>land cover</th>\n",
       "    </tr>\n",
       "  </thead>\n",
       "  <tbody>\n",
       "    <tr>\n",
       "      <th>1764</th>\n",
       "      <td>1765</td>\n",
       "      <td>03fc5469-4a4e-4717-9fb5-3fa982220b30</td>\n",
       "      <td>80075</td>\n",
       "      <td>2018-06-06</td>\n",
       "      <td>racheal.olarewaju</td>\n",
       "      <td>None</td>\n",
       "      <td>Ahiaukwu A / Amangwu</td>\n",
       "      <td>ABSAPR01</td>\n",
       "      <td>Umuahia South</td>\n",
       "      <td>1017</td>\n",
       "      <td>...</td>\n",
       "      <td>None</td>\n",
       "      <td>Plot 19f Agbama Housing Estate Waterpoint</td>\n",
       "      <td>GRID</td>\n",
       "      <td>POINT (7.50258 5.49661)</td>\n",
       "      <td>15078</td>\n",
       "      <td>8882da4289fffff</td>\n",
       "      <td>1,787.99</td>\n",
       "      <td>5,728.89</td>\n",
       "      <td>29.95</td>\n",
       "      <td>240</td>\n",
       "    </tr>\n",
       "    <tr>\n",
       "      <th>13811</th>\n",
       "      <td>13812</td>\n",
       "      <td>8f51e7db-214a-4560-8f5e-499ad95e1bd4</td>\n",
       "      <td>79685</td>\n",
       "      <td>2018-06-06</td>\n",
       "      <td>racheal.olarewaju</td>\n",
       "      <td>None</td>\n",
       "      <td>Ahiaukwu A / Amangwu</td>\n",
       "      <td>ABSAPR01</td>\n",
       "      <td>Umuahia South</td>\n",
       "      <td>1017</td>\n",
       "      <td>...</td>\n",
       "      <td>None</td>\n",
       "      <td>Fline Borehole</td>\n",
       "      <td>GRID</td>\n",
       "      <td>POINT (7.50448 5.49802)</td>\n",
       "      <td>15078</td>\n",
       "      <td>8882da4289fffff</td>\n",
       "      <td>1,787.99</td>\n",
       "      <td>5,728.89</td>\n",
       "      <td>29.95</td>\n",
       "      <td>240</td>\n",
       "    </tr>\n",
       "    <tr>\n",
       "      <th>13817</th>\n",
       "      <td>13818</td>\n",
       "      <td>3ad8d21b-4eeb-426d-ad24-622cfd83f852</td>\n",
       "      <td>79691</td>\n",
       "      <td>2018-06-06</td>\n",
       "      <td>racheal.olarewaju</td>\n",
       "      <td>None</td>\n",
       "      <td>Ahiaukwu A / Amangwu</td>\n",
       "      <td>ABSAPR01</td>\n",
       "      <td>Umuahia South</td>\n",
       "      <td>1017</td>\n",
       "      <td>...</td>\n",
       "      <td>None</td>\n",
       "      <td>Area 4 Road 1 Borehole</td>\n",
       "      <td>GRID</td>\n",
       "      <td>POINT (7.50202 5.49930)</td>\n",
       "      <td>15078</td>\n",
       "      <td>8882da4289fffff</td>\n",
       "      <td>1,787.99</td>\n",
       "      <td>5,728.89</td>\n",
       "      <td>29.95</td>\n",
       "      <td>240</td>\n",
       "    </tr>\n",
       "    <tr>\n",
       "      <th>13854</th>\n",
       "      <td>13855</td>\n",
       "      <td>33810ccf-0380-4513-9df8-cae6fe25c424</td>\n",
       "      <td>79729</td>\n",
       "      <td>2018-06-06</td>\n",
       "      <td>racheal.olarewaju</td>\n",
       "      <td>None</td>\n",
       "      <td>Ahiaukwu A / Amangwu</td>\n",
       "      <td>ABSAPR01</td>\n",
       "      <td>Umuahia South</td>\n",
       "      <td>1017</td>\n",
       "      <td>...</td>\n",
       "      <td>None</td>\n",
       "      <td>Kenville Road Borehole</td>\n",
       "      <td>GRID</td>\n",
       "      <td>POINT (7.49805 5.49723)</td>\n",
       "      <td>15078</td>\n",
       "      <td>8882da4289fffff</td>\n",
       "      <td>1,787.99</td>\n",
       "      <td>5,728.89</td>\n",
       "      <td>29.95</td>\n",
       "      <td>240</td>\n",
       "    </tr>\n",
       "    <tr>\n",
       "      <th>23279</th>\n",
       "      <td>23280</td>\n",
       "      <td>066c593d-2c93-40e0-bdd3-e8ff65861e84</td>\n",
       "      <td>87259</td>\n",
       "      <td>2018-08-29</td>\n",
       "      <td>racheal.olarewaju</td>\n",
       "      <td>None</td>\n",
       "      <td>Ahiaukwu A / Amangwu</td>\n",
       "      <td>ABSAPR01</td>\n",
       "      <td>Umuahia South</td>\n",
       "      <td>1017</td>\n",
       "      <td>...</td>\n",
       "      <td>None</td>\n",
       "      <td>Vinifi Borehole</td>\n",
       "      <td>GRID</td>\n",
       "      <td>POINT (7.50183 5.49639)</td>\n",
       "      <td>15078</td>\n",
       "      <td>8882da4289fffff</td>\n",
       "      <td>1,787.99</td>\n",
       "      <td>5,728.89</td>\n",
       "      <td>29.95</td>\n",
       "      <td>240</td>\n",
       "    </tr>\n",
       "  </tbody>\n",
       "</table>\n",
       "<p>5 rows × 23 columns</p>\n",
       "</div>"
      ],
      "text/plain": [
       "         FID                              globalid  uniq_id   timestamp  \\\n",
       "1764    1765  03fc5469-4a4e-4717-9fb5-3fa982220b30    80075  2018-06-06   \n",
       "13811  13812  8f51e7db-214a-4560-8f5e-499ad95e1bd4    79685  2018-06-06   \n",
       "13817  13818  3ad8d21b-4eeb-426d-ad24-622cfd83f852    79691  2018-06-06   \n",
       "13854  13855  33810ccf-0380-4513-9df8-cae6fe25c424    79729  2018-06-06   \n",
       "23279  23280  066c593d-2c93-40e0-bdd3-e8ff65861e84    87259  2018-08-29   \n",
       "\n",
       "                  editor scdy_edtor              wardname  wardcode  \\\n",
       "1764   racheal.olarewaju       None  Ahiaukwu A / Amangwu  ABSAPR01   \n",
       "13811  racheal.olarewaju       None  Ahiaukwu A / Amangwu  ABSAPR01   \n",
       "13817  racheal.olarewaju       None  Ahiaukwu A / Amangwu  ABSAPR01   \n",
       "13854  racheal.olarewaju       None  Ahiaukwu A / Amangwu  ABSAPR01   \n",
       "23279  racheal.olarewaju       None  Ahiaukwu A / Amangwu  ABSAPR01   \n",
       "\n",
       "             lganame lgacode  ... alt_name  \\\n",
       "1764   Umuahia South    1017  ...     None   \n",
       "13811  Umuahia South    1017  ...     None   \n",
       "13817  Umuahia South    1017  ...     None   \n",
       "13854  Umuahia South    1017  ...     None   \n",
       "23279  Umuahia South    1017  ...     None   \n",
       "\n",
       "                                            name source  \\\n",
       "1764   Plot 19f Agbama Housing Estate Waterpoint   GRID   \n",
       "13811                             Fline Borehole   GRID   \n",
       "13817                     Area 4 Road 1 Borehole   GRID   \n",
       "13854                     Kenville Road Borehole   GRID   \n",
       "23279                            Vinifi Borehole   GRID   \n",
       "\n",
       "                      geometry index_right             hex8  ntl_sum  pop_sum  \\\n",
       "1764   POINT (7.50258 5.49661)       15078  8882da4289fffff 1,787.99 5,728.89   \n",
       "13811  POINT (7.50448 5.49802)       15078  8882da4289fffff 1,787.99 5,728.89   \n",
       "13817  POINT (7.50202 5.49930)       15078  8882da4289fffff 1,787.99 5,728.89   \n",
       "13854  POINT (7.49805 5.49723)       15078  8882da4289fffff 1,787.99 5,728.89   \n",
       "23279  POINT (7.50183 5.49639)       15078  8882da4289fffff 1,787.99 5,728.89   \n",
       "\n",
       "      LST mean  land cover  \n",
       "1764     29.95         240  \n",
       "13811    29.95         240  \n",
       "13817    29.95         240  \n",
       "13854    29.95         240  \n",
       "23279    29.95         240  \n",
       "\n",
       "[5 rows x 23 columns]"
      ]
     },
     "execution_count": 437,
     "metadata": {},
     "output_type": "execute_result"
    }
   ],
   "source": [
    "city_water_points = water_points_ss[water_points_ss['hex8'].isin(major_city_lga_hex8_dict[city])]\n",
    "print(f\"There are {city_water_points.shape[0]} water points in {city}\")\n",
    "city_water_points.head()"
   ]
  },
  {
   "cell_type": "code",
   "execution_count": 438,
   "metadata": {},
   "outputs": [],
   "source": [
    "# major_cities.to_parquet('../data/urban_areas.parquet')"
   ]
  },
  {
   "cell_type": "code",
   "execution_count": 439,
   "metadata": {},
   "outputs": [],
   "source": [
    "heat_island = city_hex8_data[(city_hex8_data['LST mean']>=26)|(city_hex8_data['land cover'].isin([239,240,241,242,243,249]))]\n",
    "cool_island = city_hex8_data[~city_hex8_data['hex8'].isin(heat_island['hex8'])]"
   ]
  },
  {
   "cell_type": "code",
   "execution_count": 440,
   "metadata": {},
   "outputs": [
    {
     "data": {
      "text/plain": [
       "412"
      ]
     },
     "execution_count": 440,
     "metadata": {},
     "output_type": "execute_result"
    }
   ],
   "source": [
    "heat_island.shape[0]"
   ]
  },
  {
   "cell_type": "code",
   "execution_count": 441,
   "metadata": {},
   "outputs": [
    {
     "data": {
      "text/plain": [
       "222"
      ]
     },
     "execution_count": 441,
     "metadata": {},
     "output_type": "execute_result"
    }
   ],
   "source": [
    "cool_island.shape[0]"
   ]
  },
  {
   "cell_type": "code",
   "execution_count": 442,
   "metadata": {},
   "outputs": [
    {
     "data": {
      "text/plain": [
       "28.046615844334287"
      ]
     },
     "execution_count": 442,
     "metadata": {},
     "output_type": "execute_result"
    }
   ],
   "source": [
    "heat_island['LST mean'].mean()"
   ]
  },
  {
   "cell_type": "code",
   "execution_count": 443,
   "metadata": {},
   "outputs": [
    {
     "data": {
      "text/plain": [
       "24.13674260938893"
      ]
     },
     "execution_count": 443,
     "metadata": {},
     "output_type": "execute_result"
    }
   ],
   "source": [
    "cool_island['LST mean'].mean()"
   ]
  },
  {
   "cell_type": "code",
   "execution_count": 444,
   "metadata": {},
   "outputs": [],
   "source": [
    "heat_island['temp variance'] = heat_island['LST mean'] - cool_island['LST mean'].mean()"
   ]
  },
  {
   "cell_type": "code",
   "execution_count": 445,
   "metadata": {},
   "outputs": [],
   "source": [
    "heat_island = heat_island[heat_island['temp variance']>0]"
   ]
  },
  {
   "cell_type": "code",
   "execution_count": 446,
   "metadata": {},
   "outputs": [
    {
     "data": {
      "text/plain": [
       "<Axes: >"
      ]
     },
     "execution_count": 446,
     "metadata": {},
     "output_type": "execute_result"
    },
    {
     "data": {
      "image/png": "[encoded data removed]",
      "text/plain": [
       "<Figure size 640x480 with 1 Axes>"
      ]
     },
     "metadata": {},
     "output_type": "display_data"
    }
   ],
   "source": [
    "heat_island['temp variance'].hist()"
   ]
  },
  {
   "cell_type": "code",
   "execution_count": 447,
   "metadata": {},
   "outputs": [],
   "source": [
    "from itertools import combinations"
   ]
  },
  {
   "cell_type": "code",
   "execution_count": 448,
   "metadata": {},
   "outputs": [],
   "source": [
    "es = list(combinations(heat_island['hex8'].to_list(), r=2))\n",
    "ws = [h3.h3_distance(h1, h2) for h1,h2 in es]\n",
    "\n",
    "ew = dict(zip(es,ws))"
   ]
  },
  {
   "cell_type": "code",
   "execution_count": 449,
   "metadata": {},
   "outputs": [],
   "source": [
    "ew_df = pd.DataFrame.from_dict(ew, orient='index')\n",
    "ew_df = ew_df[ew_df[0]==1]"
   ]
  },
  {
   "cell_type": "code",
   "execution_count": 450,
   "metadata": {},
   "outputs": [],
   "source": [
    "ew = dict(zip(ew_df.index.to_list(),ew_df[0].to_list()))"
   ]
  },
  {
   "cell_type": "code",
   "execution_count": 451,
   "metadata": {},
   "outputs": [],
   "source": [
    "import networkx as nx\n",
    "g = nx.Graph()\n",
    "g.add_edges_from(ew)"
   ]
  },
  {
   "cell_type": "code",
   "execution_count": 452,
   "metadata": {},
   "outputs": [
    {
     "data": {
      "text/plain": [
       "389"
      ]
     },
     "execution_count": 452,
     "metadata": {},
     "output_type": "execute_result"
    }
   ],
   "source": [
    "largest_cc = max(nx.connected_components(g), key=len)\n",
    "len(largest_cc)"
   ]
  },
  {
   "cell_type": "code",
   "execution_count": 453,
   "metadata": {},
   "outputs": [
    {
     "data": {
      "text/plain": [
       "412"
      ]
     },
     "execution_count": 453,
     "metadata": {},
     "output_type": "execute_result"
    }
   ],
   "source": [
    "heat_island.shape[0]"
   ]
  },
  {
   "cell_type": "code",
   "execution_count": 454,
   "metadata": {},
   "outputs": [],
   "source": [
    "heat_island = heat_island[heat_island['hex8'].isin(largest_cc)]\n",
    "cool_island = city_hex8_data[~city_hex8_data['hex8'].isin(heat_island['hex8'])]"
   ]
  },
  {
   "cell_type": "code",
   "execution_count": 455,
   "metadata": {},
   "outputs": [
    {
     "data": {
      "text/plain": [
       "<Axes: >"
      ]
     },
     "execution_count": 455,
     "metadata": {},
     "output_type": "execute_result"
    },
    {
     "data": {
      "image/png": "[encoded data removed]",
      "text/plain": [
       "<Figure size 640x480 with 1 Axes>"
      ]
     },
     "metadata": {},
     "output_type": "display_data"
    }
   ],
   "source": [
    "base = city_hex8_data.plot(fc='grey')\n",
    "heat_island.plot(column='temp variance', ax=base, cmap='Reds')"
   ]
  },
  {
   "cell_type": "markdown",
   "metadata": {},
   "source": [
    "What's the population of the city? What fraction of this population are affected by urban heat island?"
   ]
  },
  {
   "cell_type": "code",
   "execution_count": 456,
   "metadata": {},
   "outputs": [],
   "source": [
    "city_pop = city_hex8_data['pop_sum'].sum()\n",
    "heat_island_pop = heat_island['pop_sum'].sum()"
   ]
  },
  {
   "cell_type": "code",
   "execution_count": 457,
   "metadata": {},
   "outputs": [
    {
     "name": "stdout",
     "output_type": "stream",
     "text": [
      "There are 476632 population in city of Umuahia, 452440 (95%) live in regions with urban heat island\n"
     ]
    }
   ],
   "source": [
    "print(f\"There are {city_pop :.0f} population in city of {city}, {heat_island_pop:.0f} ({heat_island_pop/city_pop:.0%}) live in regions with urban heat island\")"
   ]
  },
  {
   "cell_type": "markdown",
   "metadata": {},
   "source": [
    "How many water points are there in the city? How many of them are in urban heat islands?"
   ]
  },
  {
   "cell_type": "code",
   "execution_count": 458,
   "metadata": {},
   "outputs": [],
   "source": [
    "city_water_points_uhi = city_water_points[city_water_points['hex8'].isin(heat_island['hex8'])]"
   ]
  },
  {
   "cell_type": "code",
   "execution_count": 459,
   "metadata": {},
   "outputs": [
    {
     "name": "stdout",
     "output_type": "stream",
     "text": [
      "There are 152 water points in city of Umuahia, 146 (96%) of them are in urban heat islands\n"
     ]
    }
   ],
   "source": [
    "print(f\"There are {city_water_points.shape[0]:.0f} water points in city of {city}, {city_water_points_uhi.shape[0]:.0f} \\\n",
    "({city_water_points_uhi.shape[0]/city_water_points.shape[0]:.0%}) of them are in urban heat islands\")"
   ]
  },
  {
   "cell_type": "markdown",
   "metadata": {},
   "source": [
    "How many population are within 500m of water points?\n",
    "\n",
    "How many population are within 1km of water points?\n",
    "\n",
    "Among population affected by heat island, how many are within 500m of water points?\n",
    "\n",
    "Among population affected by heat island, how many are within 500m of water points?"
   ]
  },
  {
   "cell_type": "code",
   "execution_count": 460,
   "metadata": {},
   "outputs": [
    {
     "data": {
      "text/plain": [
       "634"
      ]
     },
     "execution_count": 460,
     "metadata": {},
     "output_type": "execute_result"
    }
   ],
   "source": [
    "city_hex8_data.shape[0]"
   ]
  },
  {
   "cell_type": "code",
   "execution_count": 461,
   "metadata": {},
   "outputs": [
    {
     "data": {
      "text/plain": [
       "(297, 6)"
      ]
     },
     "execution_count": 461,
     "metadata": {},
     "output_type": "execute_result"
    }
   ],
   "source": [
    "# neighbour hex as 1000m coverage\n",
    "neighbor_hex = list(set([h for hl in city_water_points['hex8'].apply(lambda x: h3.k_ring(x, 1)).to_list() for h in hl]))\n",
    "wp_covered_1000 = city_hex8_data[city_hex8_data['hex8'].isin(neighbor_hex)]\n",
    "wp_covered_1000.shape"
   ]
  },
  {
   "cell_type": "code",
   "execution_count": 462,
   "metadata": {},
   "outputs": [],
   "source": [
    "# within 500m\n",
    "p_w500 = city_hex8_data[city_hex8_data['hex8'].isin(city_water_points['hex8'])]['pop_sum'].sum()\n",
    "\n",
    "# within 1000m\n",
    "p_w1000 = city_hex8_data[city_hex8_data['hex8'].isin(wp_covered_1000['hex8'])]['pop_sum'].sum()\n",
    "\n",
    "# within 500m|UHI\n",
    "w500_uhi = heat_island[heat_island['hex8'].isin(city_water_points['hex8'])]['pop_sum'].sum()\n",
    "\n",
    "not_w500_uhi = heat_island_pop-w500_uhi\n",
    "\n",
    "# within 1000m|UHI\n",
    "w1000_uhi = heat_island[heat_island['hex8'].isin(wp_covered_1000['hex8'])]['pop_sum'].sum()\n",
    "\n",
    "not_w1000_uhi = heat_island_pop-w1000_uhi\n"
   ]
  },
  {
   "cell_type": "code",
   "execution_count": 463,
   "metadata": {},
   "outputs": [],
   "source": [
    "cool_island_pop = cool_island['pop_sum'].sum()\n",
    "\n",
    "# within 500m\n",
    "p_w500 = city_hex8_data[city_hex8_data['hex8'].isin(city_water_points['hex8'])]['pop_sum'].sum()\n",
    "\n",
    "# within 1000m\n",
    "p_w1000 = city_hex8_data[city_hex8_data['hex8'].isin(wp_covered_1000['hex8'])]['pop_sum'].sum()\n",
    "\n",
    "# within 500m|rural\n",
    "w500_ci = cool_island[cool_island['hex8'].isin(city_water_points['hex8'])]['pop_sum'].sum()\n",
    "\n",
    "not_w500_ci = cool_island_pop-w500_ci\n",
    "\n",
    "# within 1000m|rural\n",
    "w1000_ci = cool_island[cool_island['hex8'].isin(wp_covered_1000['hex8'])]['pop_sum'].sum()\n",
    "\n",
    "not_w1000_ci = cool_island_pop-w1000_ci\n"
   ]
  },
  {
   "cell_type": "code",
   "execution_count": 464,
   "metadata": {},
   "outputs": [
    {
     "name": "stdout",
     "output_type": "stream",
     "text": [
      "167437 people (35% of the city population) are within 500 meters of water points in Umuahia. \n",
      "410881 people (86% of the city population) are within 1000 meters of water points in Umuahia. \n"
     ]
    }
   ],
   "source": [
    "print(f\"{p_w500:.0f} people ({p_w500/city_pop:.0%} of the city population) are within 500 meters of water points in {city}. \")\n",
    "print(f\"{p_w1000:.0f} people ({p_w1000/city_pop:.0%} of the city population) are within 1000 meters of water points in {city}. \")"
   ]
  },
  {
   "cell_type": "code",
   "execution_count": 465,
   "metadata": {},
   "outputs": [
    {
     "name": "stdout",
     "output_type": "stream",
     "text": [
      "163477 people (34% of the city population) are within 500 meters of water points in Umuahia, while also suffer from UHI\n",
      "394940 people (83% of the city population) are within 1000 meters of water points in Umuahia, while also suffer from UHI\n"
     ]
    }
   ],
   "source": [
    "print(f\"{w500_uhi:.0f} people ({w500_uhi/city_pop:.0%} of the city population) are within 500 meters of water points in {city}, while also suffer from UHI\")\n",
    "print(f\"{w1000_uhi:.0f} people ({w1000_uhi/city_pop:.0%} of the city population) are within 1000 meters of water points in {city}, while also suffer from UHI\")"
   ]
  },
  {
   "cell_type": "code",
   "execution_count": 466,
   "metadata": {},
   "outputs": [
    {
     "name": "stdout",
     "output_type": "stream",
     "text": [
      "288963 people (61% of the city population) are not within 500 meters of water points in Umuahia, while also suffer from UHI\n",
      "57500 people (12% of the city population) are not within 1000 meters of water points in Umuahia, while also suffer from UHI\n"
     ]
    }
   ],
   "source": [
    "print(f\"{not_w500_uhi:.0f} people ({not_w500_uhi/city_pop:.0%} of the city population) are not within 500 meters of water points in {city}, while also suffer from UHI\")\n",
    "print(f\"{not_w1000_uhi:.0f} people ({not_w1000_uhi/city_pop:.0%} of the city population) are not within 1000 meters of water points in {city}, while also suffer from UHI\")"
   ]
  },
  {
   "cell_type": "code",
   "execution_count": 467,
   "metadata": {},
   "outputs": [
    {
     "name": "stdout",
     "output_type": "stream",
     "text": [
      "167437 people (35% of the city population) are within 500 meters of water points in Umuahia. \n",
      "410881 people (86% of the city population) are within 1000 meters of water points in Umuahia. \n"
     ]
    }
   ],
   "source": [
    "print(f\"{p_w500:.0f} people ({p_w500/city_pop:.0%} of the city population) are within 500 meters of water points in {city}. \")\n",
    "print(f\"{p_w1000:.0f} people ({p_w1000/city_pop:.0%} of the city population) are within 1000 meters of water points in {city}. \")"
   ]
  },
  {
   "cell_type": "code",
   "execution_count": 468,
   "metadata": {},
   "outputs": [
    {
     "name": "stdout",
     "output_type": "stream",
     "text": [
      "3961 people (1% of the city population) are within 500 meters of water points in Umuahia, not in UHI\n",
      "15941 people (3% of the city population) are within 1000 meters of water points in Umuahia, not in UHI\n"
     ]
    }
   ],
   "source": [
    "print(f\"{w500_ci:.0f} people ({w500_ci/city_pop:.0%} of the city population) are within 500 meters of water points in {city}, not in UHI\")\n",
    "print(f\"{w1000_ci:.0f} people ({w1000_ci/city_pop:.0%} of the city population) are within 1000 meters of water points in {city}, not in UHI\")"
   ]
  },
  {
   "cell_type": "code",
   "execution_count": 469,
   "metadata": {},
   "outputs": [
    {
     "name": "stdout",
     "output_type": "stream",
     "text": [
      "20232 people (4% of the city population) are not within 500 meters of water points in Umuahia, not in UHI\n",
      "8252 people (2% of the city population) are not within 1000 meters of water points in Umuahia, not in UHI\n"
     ]
    }
   ],
   "source": [
    "print(f\"{not_w500_ci:.0f} people ({not_w500_ci/city_pop:.0%} of the city population) are not within 500 meters of water points in {city}, not in UHI\")\n",
    "print(f\"{not_w1000_ci:.0f} people ({not_w1000_ci/city_pop:.0%} of the city population) are not within 1000 meters of water points in {city}, not in UHI\")"
   ]
  },
  {
   "cell_type": "code",
   "execution_count": 470,
   "metadata": {},
   "outputs": [
    {
     "data": {
      "text/plain": [
       "452439.73571182723"
      ]
     },
     "execution_count": 470,
     "metadata": {},
     "output_type": "execute_result"
    }
   ],
   "source": [
    "heat_island_pop"
   ]
  },
  {
   "cell_type": "code",
   "execution_count": 471,
   "metadata": {},
   "outputs": [
    {
     "data": {
      "text/plain": [
       "24192.6959322549"
      ]
     },
     "execution_count": 471,
     "metadata": {},
     "output_type": "execute_result"
    }
   ],
   "source": [
    "cool_island_pop"
   ]
  },
  {
   "cell_type": "code",
   "execution_count": 472,
   "metadata": {},
   "outputs": [
    {
     "data": {
      "text/plain": [
       "163476.56134029006"
      ]
     },
     "execution_count": 472,
     "metadata": {},
     "output_type": "execute_result"
    }
   ],
   "source": [
    "w500_uhi"
   ]
  },
  {
   "cell_type": "code",
   "execution_count": 473,
   "metadata": {},
   "outputs": [
    {
     "data": {
      "text/plain": [
       "288963.17437153717"
      ]
     },
     "execution_count": 473,
     "metadata": {},
     "output_type": "execute_result"
    }
   ],
   "source": [
    "not_w500_uhi"
   ]
  },
  {
   "cell_type": "code",
   "execution_count": 474,
   "metadata": {},
   "outputs": [
    {
     "data": {
      "text/plain": [
       "True"
      ]
     },
     "execution_count": 474,
     "metadata": {},
     "output_type": "execute_result"
    }
   ],
   "source": [
    "(not_w500_uhi+w500_uhi) == heat_island_pop"
   ]
  },
  {
   "cell_type": "code",
   "execution_count": 475,
   "metadata": {},
   "outputs": [
    {
     "data": {
      "text/plain": [
       "True"
      ]
     },
     "execution_count": 475,
     "metadata": {},
     "output_type": "execute_result"
    }
   ],
   "source": [
    "(not_w500_ci+w500_ci) == cool_island_pop"
   ]
  },
  {
   "cell_type": "code",
   "execution_count": 478,
   "metadata": {},
   "outputs": [],
   "source": [
    "import squarify\n",
    "\n",
    "# these values define the coordinate system for the returned rectangles\n",
    "# the values will range from x to x + width and y to y + height\n",
    "x = 0.\n",
    "y = 0.\n",
    "width = 400.\n",
    "height = 400.\n",
    "\n",
    "values = [w500_uhi, not_w500_uhi, w500_ci, not_w500_ci]\n",
    "\n",
    "# values must be sorted descending (and positive, obviously)\n",
    "# values.sort(reverse=True)\n",
    "\n",
    "# the sum of the values must equal the total area to be laid out\n",
    "# i.e., sum(values) == width * height\n",
    "values = squarify.normalize_sizes(values, width, height)\n",
    "\n",
    "# returns a list of rectangles\n",
    "rects = squarify.squarify(values, x, y, width, height)\n",
    "\n",
    "# padded rectangles will probably visualize better for certain cases\n",
    "padded_rects = squarify.padded_squarify(values, x, y, width, height)"
   ]
  },
  {
   "cell_type": "code",
   "execution_count": 483,
   "metadata": {},
   "outputs": [
    {
     "data": {
      "text/plain": [
       "<Axes: >"
      ]
     },
     "execution_count": 483,
     "metadata": {},
     "output_type": "execute_result"
    },
    {
     "data": {
      "image/png": "[encoded data removed]",
      "text/plain": [
       "<Figure size 640x480 with 1 Axes>"
      ]
     },
     "metadata": {},
     "output_type": "display_data"
    }
   ],
   "source": [
    "squarify.plot(sizes=values,  \n",
    "              label=[\"UHI-w/ water\", \"UHI-w/o water\", \"Rural w/water\", \"Rural w/o water\"],\n",
    "              )"
   ]
  },
  {
   "cell_type": "markdown",
   "metadata": {},
   "source": [
    "### Awka"
   ]
  },
  {
   "cell_type": "code",
   "execution_count": 485,
   "metadata": {},
   "outputs": [],
   "source": [
    "city = 'Awka'"
   ]
  },
  {
   "cell_type": "code",
   "execution_count": 486,
   "metadata": {},
   "outputs": [
    {
     "name": "stdout",
     "output_type": "stream",
     "text": [
      "There are 838 hexes in Awka\n"
     ]
    },
    {
     "data": {
      "text/html": [
       "<div>\n",
       "<style scoped>\n",
       "    .dataframe tbody tr th:only-of-type {\n",
       "        vertical-align: middle;\n",
       "    }\n",
       "\n",
       "    .dataframe tbody tr th {\n",
       "        vertical-align: top;\n",
       "    }\n",
       "\n",
       "    .dataframe thead th {\n",
       "        text-align: right;\n",
       "    }\n",
       "</style>\n",
       "<table border=\"1\" class=\"dataframe\">\n",
       "  <thead>\n",
       "    <tr style=\"text-align: right;\">\n",
       "      <th></th>\n",
       "      <th>hex8</th>\n",
       "      <th>ntl_sum</th>\n",
       "      <th>pop_sum</th>\n",
       "      <th>LST mean</th>\n",
       "      <th>geometry</th>\n",
       "      <th>land cover</th>\n",
       "    </tr>\n",
       "  </thead>\n",
       "  <tbody>\n",
       "    <tr>\n",
       "      <th>33</th>\n",
       "      <td>88588bacdbfffff</td>\n",
       "      <td>497.45</td>\n",
       "      <td>64.27</td>\n",
       "      <td>30.33</td>\n",
       "      <td>POLYGON ((7.09055 6.27162, 7.08947 6.26750, 7....</td>\n",
       "      <td>50</td>\n",
       "    </tr>\n",
       "    <tr>\n",
       "      <th>56</th>\n",
       "      <td>88588bacabfffff</td>\n",
       "      <td>4,981.91</td>\n",
       "      <td>1,320.64</td>\n",
       "      <td>30.67</td>\n",
       "      <td>POLYGON ((7.07313 6.23713, 7.07205 6.23302, 7....</td>\n",
       "      <td>240</td>\n",
       "    </tr>\n",
       "    <tr>\n",
       "      <th>107</th>\n",
       "      <td>8858d6d96dfffff</td>\n",
       "      <td>4,337.34</td>\n",
       "      <td>3,251.85</td>\n",
       "      <td>32.61</td>\n",
       "      <td>POLYGON ((7.10180 6.23452, 7.10073 6.23041, 7....</td>\n",
       "      <td>240</td>\n",
       "    </tr>\n",
       "    <tr>\n",
       "      <th>202</th>\n",
       "      <td>88588badb5fffff</td>\n",
       "      <td>1,738.40</td>\n",
       "      <td>0.00</td>\n",
       "      <td>29.58</td>\n",
       "      <td>POLYGON ((7.04478 6.19285, 7.04371 6.18874, 7....</td>\n",
       "      <td>240</td>\n",
       "    </tr>\n",
       "    <tr>\n",
       "      <th>228</th>\n",
       "      <td>88588ba745fffff</td>\n",
       "      <td>217.40</td>\n",
       "      <td>36.36</td>\n",
       "      <td>25.74</td>\n",
       "      <td>POLYGON ((7.01127 6.41780, 7.01020 6.41368, 7....</td>\n",
       "      <td>170</td>\n",
       "    </tr>\n",
       "  </tbody>\n",
       "</table>\n",
       "</div>"
      ],
      "text/plain": [
       "                hex8  ntl_sum  pop_sum  LST mean  \\\n",
       "33   88588bacdbfffff   497.45    64.27     30.33   \n",
       "56   88588bacabfffff 4,981.91 1,320.64     30.67   \n",
       "107  8858d6d96dfffff 4,337.34 3,251.85     32.61   \n",
       "202  88588badb5fffff 1,738.40     0.00     29.58   \n",
       "228  88588ba745fffff   217.40    36.36     25.74   \n",
       "\n",
       "                                              geometry  land cover  \n",
       "33   POLYGON ((7.09055 6.27162, 7.08947 6.26750, 7....          50  \n",
       "56   POLYGON ((7.07313 6.23713, 7.07205 6.23302, 7....         240  \n",
       "107  POLYGON ((7.10180 6.23452, 7.10073 6.23041, 7....         240  \n",
       "202  POLYGON ((7.04478 6.19285, 7.04371 6.18874, 7....         240  \n",
       "228  POLYGON ((7.01127 6.41780, 7.01020 6.41368, 7....         170  "
      ]
     },
     "execution_count": 486,
     "metadata": {},
     "output_type": "execute_result"
    }
   ],
   "source": [
    "city_hex8_data = major_city_data[major_city_data['hex8'].isin(major_city_lga_hex8_dict[city])]\n",
    "print(f\"There are {city_hex8_data.shape[0]} hexes in {city}\")\n",
    "city_hex8_data.head()"
   ]
  },
  {
   "cell_type": "code",
   "execution_count": 487,
   "metadata": {},
   "outputs": [
    {
     "data": {
      "text/plain": [
       "<Axes: >"
      ]
     },
     "execution_count": 487,
     "metadata": {},
     "output_type": "execute_result"
    },
    {
     "data": {
      "image/png": "[encoded data removed]",
      "text/plain": [
       "<Figure size 640x480 with 1 Axes>"
      ]
     },
     "metadata": {},
     "output_type": "display_data"
    }
   ],
   "source": [
    "city_hex8_data['LST mean'].hist()"
   ]
  },
  {
   "cell_type": "code",
   "execution_count": 488,
   "metadata": {},
   "outputs": [],
   "source": [
    "# city_hex8_data.explore()"
   ]
  },
  {
   "cell_type": "code",
   "execution_count": 489,
   "metadata": {},
   "outputs": [
    {
     "name": "stdout",
     "output_type": "stream",
     "text": [
      "There are 141 water points in Awka\n"
     ]
    },
    {
     "data": {
      "text/html": [
       "<div>\n",
       "<style scoped>\n",
       "    .dataframe tbody tr th:only-of-type {\n",
       "        vertical-align: middle;\n",
       "    }\n",
       "\n",
       "    .dataframe tbody tr th {\n",
       "        vertical-align: top;\n",
       "    }\n",
       "\n",
       "    .dataframe thead th {\n",
       "        text-align: right;\n",
       "    }\n",
       "</style>\n",
       "<table border=\"1\" class=\"dataframe\">\n",
       "  <thead>\n",
       "    <tr style=\"text-align: right;\">\n",
       "      <th></th>\n",
       "      <th>FID</th>\n",
       "      <th>globalid</th>\n",
       "      <th>uniq_id</th>\n",
       "      <th>timestamp</th>\n",
       "      <th>editor</th>\n",
       "      <th>scdy_edtor</th>\n",
       "      <th>wardname</th>\n",
       "      <th>wardcode</th>\n",
       "      <th>lganame</th>\n",
       "      <th>lgacode</th>\n",
       "      <th>...</th>\n",
       "      <th>alt_name</th>\n",
       "      <th>name</th>\n",
       "      <th>source</th>\n",
       "      <th>geometry</th>\n",
       "      <th>index_right</th>\n",
       "      <th>hex8</th>\n",
       "      <th>ntl_sum</th>\n",
       "      <th>pop_sum</th>\n",
       "      <th>LST mean</th>\n",
       "      <th>land cover</th>\n",
       "    </tr>\n",
       "  </thead>\n",
       "  <tbody>\n",
       "    <tr>\n",
       "      <th>5536</th>\n",
       "      <td>5537</td>\n",
       "      <td>e41480e6-2c54-4d2e-9ea3-bee2b88df560</td>\n",
       "      <td>99136</td>\n",
       "      <td>2018-09-28</td>\n",
       "      <td>racheal.olarewaju</td>\n",
       "      <td>None</td>\n",
       "      <td>Nise 2</td>\n",
       "      <td>ANSAWK18</td>\n",
       "      <td>Awka South</td>\n",
       "      <td>4006</td>\n",
       "      <td>...</td>\n",
       "      <td>None</td>\n",
       "      <td>Mr Mac Table Water Borehole</td>\n",
       "      <td>GRID</td>\n",
       "      <td>POINT (7.03937 6.15920)</td>\n",
       "      <td>46006</td>\n",
       "      <td>88588b3761fffff</td>\n",
       "      <td>1,344.15</td>\n",
       "      <td>103.73</td>\n",
       "      <td>29.39</td>\n",
       "      <td>252</td>\n",
       "    </tr>\n",
       "    <tr>\n",
       "      <th>5540</th>\n",
       "      <td>5541</td>\n",
       "      <td>1895113d-2bdf-4a90-b35a-dc559982cc80</td>\n",
       "      <td>99141</td>\n",
       "      <td>2018-09-28</td>\n",
       "      <td>racheal.olarewaju</td>\n",
       "      <td>None</td>\n",
       "      <td>Nise 2</td>\n",
       "      <td>ANSAWK18</td>\n",
       "      <td>Awka South</td>\n",
       "      <td>4006</td>\n",
       "      <td>...</td>\n",
       "      <td>None</td>\n",
       "      <td>Ifedioranm Age Grade Akiyi</td>\n",
       "      <td>GRID</td>\n",
       "      <td>POINT (7.02868 6.17137)</td>\n",
       "      <td>37349</td>\n",
       "      <td>88588b3297fffff</td>\n",
       "      <td>1,722.10</td>\n",
       "      <td>151.01</td>\n",
       "      <td>29.34</td>\n",
       "      <td>240</td>\n",
       "    </tr>\n",
       "    <tr>\n",
       "      <th>5541</th>\n",
       "      <td>5542</td>\n",
       "      <td>714a21d1-ea95-4181-b4c6-50267b9a0f51</td>\n",
       "      <td>99142</td>\n",
       "      <td>2018-09-28</td>\n",
       "      <td>racheal.olarewaju</td>\n",
       "      <td>None</td>\n",
       "      <td>Amawbia 2</td>\n",
       "      <td>ANSAWK02</td>\n",
       "      <td>Awka South</td>\n",
       "      <td>4006</td>\n",
       "      <td>...</td>\n",
       "      <td>None</td>\n",
       "      <td>Aghanya Street Water Point</td>\n",
       "      <td>GRID</td>\n",
       "      <td>POINT (7.05046 6.19530)</td>\n",
       "      <td>18444</td>\n",
       "      <td>88588badb1fffff</td>\n",
       "      <td>3,711.69</td>\n",
       "      <td>287.33</td>\n",
       "      <td>30.86</td>\n",
       "      <td>240</td>\n",
       "    </tr>\n",
       "    <tr>\n",
       "      <th>5594</th>\n",
       "      <td>5595</td>\n",
       "      <td>f3d1108b-ef7f-41c6-84a8-09f813bbc3c3</td>\n",
       "      <td>99220</td>\n",
       "      <td>2018-09-28</td>\n",
       "      <td>racheal.olarewaju</td>\n",
       "      <td>None</td>\n",
       "      <td>Amawbia 2</td>\n",
       "      <td>ANSAWK02</td>\n",
       "      <td>Awka South</td>\n",
       "      <td>4006</td>\n",
       "      <td>...</td>\n",
       "      <td>None</td>\n",
       "      <td>Oye Water Point</td>\n",
       "      <td>GRID</td>\n",
       "      <td>POINT (7.05191 6.19770)</td>\n",
       "      <td>18444</td>\n",
       "      <td>88588badb1fffff</td>\n",
       "      <td>3,711.69</td>\n",
       "      <td>287.33</td>\n",
       "      <td>30.86</td>\n",
       "      <td>240</td>\n",
       "    </tr>\n",
       "    <tr>\n",
       "      <th>5547</th>\n",
       "      <td>5548</td>\n",
       "      <td>78311662-06bf-4f6f-bbb1-3236c5d0f094</td>\n",
       "      <td>99152</td>\n",
       "      <td>2018-09-28</td>\n",
       "      <td>racheal.olarewaju</td>\n",
       "      <td>None</td>\n",
       "      <td>Nise 1</td>\n",
       "      <td>ANSAWK17</td>\n",
       "      <td>Awka South</td>\n",
       "      <td>4006</td>\n",
       "      <td>...</td>\n",
       "      <td>None</td>\n",
       "      <td>Agbadani Public Water Points</td>\n",
       "      <td>GRID</td>\n",
       "      <td>POINT (7.02185 6.14446)</td>\n",
       "      <td>11809</td>\n",
       "      <td>88588b30ddfffff</td>\n",
       "      <td>1,264.05</td>\n",
       "      <td>2,075.58</td>\n",
       "      <td>29.73</td>\n",
       "      <td>240</td>\n",
       "    </tr>\n",
       "  </tbody>\n",
       "</table>\n",
       "<p>5 rows × 23 columns</p>\n",
       "</div>"
      ],
      "text/plain": [
       "       FID                              globalid  uniq_id   timestamp  \\\n",
       "5536  5537  e41480e6-2c54-4d2e-9ea3-bee2b88df560    99136  2018-09-28   \n",
       "5540  5541  1895113d-2bdf-4a90-b35a-dc559982cc80    99141  2018-09-28   \n",
       "5541  5542  714a21d1-ea95-4181-b4c6-50267b9a0f51    99142  2018-09-28   \n",
       "5594  5595  f3d1108b-ef7f-41c6-84a8-09f813bbc3c3    99220  2018-09-28   \n",
       "5547  5548  78311662-06bf-4f6f-bbb1-3236c5d0f094    99152  2018-09-28   \n",
       "\n",
       "                 editor scdy_edtor   wardname  wardcode     lganame lgacode  \\\n",
       "5536  racheal.olarewaju       None     Nise 2  ANSAWK18  Awka South    4006   \n",
       "5540  racheal.olarewaju       None     Nise 2  ANSAWK18  Awka South    4006   \n",
       "5541  racheal.olarewaju       None  Amawbia 2  ANSAWK02  Awka South    4006   \n",
       "5594  racheal.olarewaju       None  Amawbia 2  ANSAWK02  Awka South    4006   \n",
       "5547  racheal.olarewaju       None     Nise 1  ANSAWK17  Awka South    4006   \n",
       "\n",
       "      ... alt_name                          name source  \\\n",
       "5536  ...     None   Mr Mac Table Water Borehole   GRID   \n",
       "5540  ...     None    Ifedioranm Age Grade Akiyi   GRID   \n",
       "5541  ...     None    Aghanya Street Water Point   GRID   \n",
       "5594  ...     None               Oye Water Point   GRID   \n",
       "5547  ...     None  Agbadani Public Water Points   GRID   \n",
       "\n",
       "                     geometry index_right             hex8  ntl_sum  pop_sum  \\\n",
       "5536  POINT (7.03937 6.15920)       46006  88588b3761fffff 1,344.15   103.73   \n",
       "5540  POINT (7.02868 6.17137)       37349  88588b3297fffff 1,722.10   151.01   \n",
       "5541  POINT (7.05046 6.19530)       18444  88588badb1fffff 3,711.69   287.33   \n",
       "5594  POINT (7.05191 6.19770)       18444  88588badb1fffff 3,711.69   287.33   \n",
       "5547  POINT (7.02185 6.14446)       11809  88588b30ddfffff 1,264.05 2,075.58   \n",
       "\n",
       "     LST mean  land cover  \n",
       "5536    29.39         252  \n",
       "5540    29.34         240  \n",
       "5541    30.86         240  \n",
       "5594    30.86         240  \n",
       "5547    29.73         240  \n",
       "\n",
       "[5 rows x 23 columns]"
      ]
     },
     "execution_count": 489,
     "metadata": {},
     "output_type": "execute_result"
    }
   ],
   "source": [
    "city_water_points = water_points_ss[water_points_ss['hex8'].isin(major_city_lga_hex8_dict[city])]\n",
    "print(f\"There are {city_water_points.shape[0]} water points in {city}\")\n",
    "city_water_points.head()"
   ]
  },
  {
   "cell_type": "code",
   "execution_count": 490,
   "metadata": {},
   "outputs": [],
   "source": [
    "# major_cities.to_parquet('../data/urban_areas.parquet')"
   ]
  },
  {
   "cell_type": "code",
   "execution_count": 546,
   "metadata": {},
   "outputs": [],
   "source": [
    "heat_island = city_hex8_data[(city_hex8_data['LST mean']>=30)|(city_hex8_data['land cover'].isin([239,240,241,242,243,249]))]\n",
    "cool_island = city_hex8_data[~city_hex8_data['hex8'].isin(heat_island['hex8'])]"
   ]
  },
  {
   "cell_type": "code",
   "execution_count": 547,
   "metadata": {},
   "outputs": [
    {
     "data": {
      "text/plain": [
       "548"
      ]
     },
     "execution_count": 547,
     "metadata": {},
     "output_type": "execute_result"
    }
   ],
   "source": [
    "heat_island.shape[0]"
   ]
  },
  {
   "cell_type": "code",
   "execution_count": 548,
   "metadata": {},
   "outputs": [
    {
     "data": {
      "text/plain": [
       "290"
      ]
     },
     "execution_count": 548,
     "metadata": {},
     "output_type": "execute_result"
    }
   ],
   "source": [
    "cool_island.shape[0]"
   ]
  },
  {
   "cell_type": "code",
   "execution_count": 549,
   "metadata": {},
   "outputs": [
    {
     "data": {
      "text/plain": [
       "30.84062705022153"
      ]
     },
     "execution_count": 549,
     "metadata": {},
     "output_type": "execute_result"
    }
   ],
   "source": [
    "heat_island['LST mean'].mean()"
   ]
  },
  {
   "cell_type": "code",
   "execution_count": 550,
   "metadata": {},
   "outputs": [
    {
     "data": {
      "text/plain": [
       "27.499069591539406"
      ]
     },
     "execution_count": 550,
     "metadata": {},
     "output_type": "execute_result"
    }
   ],
   "source": [
    "cool_island['LST mean'].mean()"
   ]
  },
  {
   "cell_type": "code",
   "execution_count": 551,
   "metadata": {},
   "outputs": [],
   "source": [
    "heat_island['temp variance'] = heat_island['LST mean'] - cool_island['LST mean'].mean()"
   ]
  },
  {
   "cell_type": "code",
   "execution_count": 552,
   "metadata": {},
   "outputs": [],
   "source": [
    "heat_island = heat_island[heat_island['temp variance']>0]"
   ]
  },
  {
   "cell_type": "code",
   "execution_count": 553,
   "metadata": {},
   "outputs": [
    {
     "data": {
      "text/plain": [
       "<Axes: >"
      ]
     },
     "execution_count": 553,
     "metadata": {},
     "output_type": "execute_result"
    },
    {
     "data": {
      "image/png": "[encoded data removed]",
      "text/plain": [
       "<Figure size 640x480 with 1 Axes>"
      ]
     },
     "metadata": {},
     "output_type": "display_data"
    }
   ],
   "source": [
    "heat_island['temp variance'].hist()"
   ]
  },
  {
   "cell_type": "code",
   "execution_count": 554,
   "metadata": {},
   "outputs": [],
   "source": [
    "from itertools import combinations"
   ]
  },
  {
   "cell_type": "code",
   "execution_count": 555,
   "metadata": {},
   "outputs": [],
   "source": [
    "es = list(combinations(heat_island['hex8'].to_list(), r=2))\n",
    "ws = [h3.h3_distance(h1, h2) for h1,h2 in es]\n",
    "\n",
    "ew = dict(zip(es,ws))"
   ]
  },
  {
   "cell_type": "code",
   "execution_count": 556,
   "metadata": {},
   "outputs": [],
   "source": [
    "ew_df = pd.DataFrame.from_dict(ew, orient='index')\n",
    "ew_df = ew_df[ew_df[0]==1]"
   ]
  },
  {
   "cell_type": "code",
   "execution_count": 557,
   "metadata": {},
   "outputs": [],
   "source": [
    "ew = dict(zip(ew_df.index.to_list(),ew_df[0].to_list()))"
   ]
  },
  {
   "cell_type": "code",
   "execution_count": 558,
   "metadata": {},
   "outputs": [],
   "source": [
    "import networkx as nx\n",
    "g = nx.Graph()\n",
    "g.add_edges_from(ew)"
   ]
  },
  {
   "cell_type": "code",
   "execution_count": 559,
   "metadata": {},
   "outputs": [
    {
     "data": {
      "text/plain": [
       "449"
      ]
     },
     "execution_count": 559,
     "metadata": {},
     "output_type": "execute_result"
    }
   ],
   "source": [
    "largest_cc = max(nx.connected_components(g), key=len)\n",
    "len(largest_cc)"
   ]
  },
  {
   "cell_type": "code",
   "execution_count": 560,
   "metadata": {},
   "outputs": [
    {
     "data": {
      "text/plain": [
       "548"
      ]
     },
     "execution_count": 560,
     "metadata": {},
     "output_type": "execute_result"
    }
   ],
   "source": [
    "heat_island.shape[0]"
   ]
  },
  {
   "cell_type": "code",
   "execution_count": 561,
   "metadata": {},
   "outputs": [],
   "source": [
    "heat_island = heat_island[heat_island['hex8'].isin(largest_cc)]\n",
    "cool_island = city_hex8_data[~city_hex8_data['hex8'].isin(heat_island['hex8'])]"
   ]
  },
  {
   "cell_type": "code",
   "execution_count": 562,
   "metadata": {},
   "outputs": [
    {
     "data": {
      "text/plain": [
       "<Axes: >"
      ]
     },
     "execution_count": 562,
     "metadata": {},
     "output_type": "execute_result"
    },
    {
     "data": {
      "image/png": "[encoded data removed]",
      "text/plain": [
       "<Figure size 640x480 with 1 Axes>"
      ]
     },
     "metadata": {},
     "output_type": "display_data"
    }
   ],
   "source": [
    "base = city_hex8_data.plot(fc='grey')\n",
    "heat_island.plot(column='temp variance', ax=base, cmap='Reds')"
   ]
  },
  {
   "cell_type": "markdown",
   "metadata": {},
   "source": [
    "What's the population of the city? What fraction of this population are affected by urban heat island?"
   ]
  },
  {
   "cell_type": "code",
   "execution_count": 563,
   "metadata": {},
   "outputs": [],
   "source": [
    "city_pop = city_hex8_data['pop_sum'].sum()\n",
    "heat_island_pop = heat_island['pop_sum'].sum()"
   ]
  },
  {
   "cell_type": "code",
   "execution_count": 564,
   "metadata": {},
   "outputs": [
    {
     "name": "stdout",
     "output_type": "stream",
     "text": [
      "There are 440289 population in city of Awka, 364616 (83%) live in regions with urban heat island\n"
     ]
    }
   ],
   "source": [
    "print(f\"There are {city_pop :.0f} population in city of {city}, {heat_island_pop:.0f} ({heat_island_pop/city_pop:.0%}) live in regions with urban heat island\")"
   ]
  },
  {
   "cell_type": "markdown",
   "metadata": {},
   "source": [
    "How many water points are there in the city? How many of them are in urban heat islands?"
   ]
  },
  {
   "cell_type": "code",
   "execution_count": 565,
   "metadata": {},
   "outputs": [],
   "source": [
    "city_water_points_uhi = city_water_points[city_water_points['hex8'].isin(heat_island['hex8'])]"
   ]
  },
  {
   "cell_type": "code",
   "execution_count": 566,
   "metadata": {},
   "outputs": [
    {
     "name": "stdout",
     "output_type": "stream",
     "text": [
      "There are 141 water points in city of Awka, 116 (82%) of them are in urban heat islands\n"
     ]
    }
   ],
   "source": [
    "print(f\"There are {city_water_points.shape[0]:.0f} water points in city of {city}, {city_water_points_uhi.shape[0]:.0f} \\\n",
    "({city_water_points_uhi.shape[0]/city_water_points.shape[0]:.0%}) of them are in urban heat islands\")"
   ]
  },
  {
   "cell_type": "markdown",
   "metadata": {},
   "source": [
    "How many population are within 500m of water points?\n",
    "\n",
    "How many population are within 1km of water points?\n",
    "\n",
    "Among population affected by heat island, how many are within 500m of water points?\n",
    "\n",
    "Among population affected by heat island, how many are within 500m of water points?"
   ]
  },
  {
   "cell_type": "code",
   "execution_count": 567,
   "metadata": {},
   "outputs": [
    {
     "data": {
      "text/plain": [
       "838"
      ]
     },
     "execution_count": 567,
     "metadata": {},
     "output_type": "execute_result"
    }
   ],
   "source": [
    "city_hex8_data.shape[0]"
   ]
  },
  {
   "cell_type": "code",
   "execution_count": 568,
   "metadata": {},
   "outputs": [
    {
     "data": {
      "text/plain": [
       "(278, 6)"
      ]
     },
     "execution_count": 568,
     "metadata": {},
     "output_type": "execute_result"
    }
   ],
   "source": [
    "# neighbour hex as 1000m coverage\n",
    "neighbor_hex = list(set([h for hl in city_water_points['hex8'].apply(lambda x: h3.k_ring(x, 1)).to_list() for h in hl]))\n",
    "wp_covered_1000 = city_hex8_data[city_hex8_data['hex8'].isin(neighbor_hex)]\n",
    "wp_covered_1000.shape"
   ]
  },
  {
   "cell_type": "code",
   "execution_count": 569,
   "metadata": {},
   "outputs": [],
   "source": [
    "# within 500m\n",
    "p_w500 = city_hex8_data[city_hex8_data['hex8'].isin(city_water_points['hex8'])]['pop_sum'].sum()\n",
    "\n",
    "# within 1000m\n",
    "p_w1000 = city_hex8_data[city_hex8_data['hex8'].isin(wp_covered_1000['hex8'])]['pop_sum'].sum()\n",
    "\n",
    "# within 500m|UHI\n",
    "w500_uhi = heat_island[heat_island['hex8'].isin(city_water_points['hex8'])]['pop_sum'].sum()\n",
    "\n",
    "not_w500_uhi = heat_island_pop-w500_uhi\n",
    "\n",
    "# within 1000m|UHI\n",
    "w1000_uhi = heat_island[heat_island['hex8'].isin(wp_covered_1000['hex8'])]['pop_sum'].sum()\n",
    "\n",
    "not_w1000_uhi = heat_island_pop-w1000_uhi\n"
   ]
  },
  {
   "cell_type": "code",
   "execution_count": 570,
   "metadata": {},
   "outputs": [],
   "source": [
    "cool_island_pop = cool_island['pop_sum'].sum()\n",
    "\n",
    "# within 500m\n",
    "p_w500 = city_hex8_data[city_hex8_data['hex8'].isin(city_water_points['hex8'])]['pop_sum'].sum()\n",
    "\n",
    "# within 1000m\n",
    "p_w1000 = city_hex8_data[city_hex8_data['hex8'].isin(wp_covered_1000['hex8'])]['pop_sum'].sum()\n",
    "\n",
    "# within 500m|rural\n",
    "w500_ci = cool_island[cool_island['hex8'].isin(city_water_points['hex8'])]['pop_sum'].sum()\n",
    "\n",
    "not_w500_ci = cool_island_pop-w500_ci\n",
    "\n",
    "# within 1000m|rural\n",
    "w1000_ci = cool_island[cool_island['hex8'].isin(wp_covered_1000['hex8'])]['pop_sum'].sum()\n",
    "\n",
    "not_w1000_ci = cool_island_pop-w1000_ci\n"
   ]
  },
  {
   "cell_type": "code",
   "execution_count": 571,
   "metadata": {},
   "outputs": [
    {
     "name": "stdout",
     "output_type": "stream",
     "text": [
      "144757 people (33% of the city population) are within 500 meters of water points in Awka. \n",
      "284484 people (65% of the city population) are within 1000 meters of water points in Awka. \n"
     ]
    }
   ],
   "source": [
    "print(f\"{p_w500:.0f} people ({p_w500/city_pop:.0%} of the city population) are within 500 meters of water points in {city}. \")\n",
    "print(f\"{p_w1000:.0f} people ({p_w1000/city_pop:.0%} of the city population) are within 1000 meters of water points in {city}. \")"
   ]
  },
  {
   "cell_type": "code",
   "execution_count": 572,
   "metadata": {},
   "outputs": [
    {
     "name": "stdout",
     "output_type": "stream",
     "text": [
      "118077 people (27% of the city population) are within 500 meters of water points in Awka, while also suffer from UHI\n",
      "240654 people (55% of the city population) are within 1000 meters of water points in Awka, while also suffer from UHI\n"
     ]
    }
   ],
   "source": [
    "print(f\"{w500_uhi:.0f} people ({w500_uhi/city_pop:.0%} of the city population) are within 500 meters of water points in {city}, while also suffer from UHI\")\n",
    "print(f\"{w1000_uhi:.0f} people ({w1000_uhi/city_pop:.0%} of the city population) are within 1000 meters of water points in {city}, while also suffer from UHI\")"
   ]
  },
  {
   "cell_type": "code",
   "execution_count": 573,
   "metadata": {},
   "outputs": [
    {
     "name": "stdout",
     "output_type": "stream",
     "text": [
      "246539 people (56% of the city population) are not within 500 meters of water points in Awka, while also suffer from UHI\n",
      "123962 people (28% of the city population) are not within 1000 meters of water points in Awka, while also suffer from UHI\n"
     ]
    }
   ],
   "source": [
    "print(f\"{not_w500_uhi:.0f} people ({not_w500_uhi/city_pop:.0%} of the city population) are not within 500 meters of water points in {city}, while also suffer from UHI\")\n",
    "print(f\"{not_w1000_uhi:.0f} people ({not_w1000_uhi/city_pop:.0%} of the city population) are not within 1000 meters of water points in {city}, while also suffer from UHI\")"
   ]
  },
  {
   "cell_type": "code",
   "execution_count": 574,
   "metadata": {},
   "outputs": [
    {
     "name": "stdout",
     "output_type": "stream",
     "text": [
      "144757 people (33% of the city population) are within 500 meters of water points in Awka. \n",
      "284484 people (65% of the city population) are within 1000 meters of water points in Awka. \n"
     ]
    }
   ],
   "source": [
    "print(f\"{p_w500:.0f} people ({p_w500/city_pop:.0%} of the city population) are within 500 meters of water points in {city}. \")\n",
    "print(f\"{p_w1000:.0f} people ({p_w1000/city_pop:.0%} of the city population) are within 1000 meters of water points in {city}. \")"
   ]
  },
  {
   "cell_type": "code",
   "execution_count": 575,
   "metadata": {},
   "outputs": [
    {
     "name": "stdout",
     "output_type": "stream",
     "text": [
      "26680 people (6% of the city population) are within 500 meters of water points in Awka, not in UHI\n",
      "43829 people (10% of the city population) are within 1000 meters of water points in Awka, not in UHI\n"
     ]
    }
   ],
   "source": [
    "print(f\"{w500_ci:.0f} people ({w500_ci/city_pop:.0%} of the city population) are within 500 meters of water points in {city}, not in UHI\")\n",
    "print(f\"{w1000_ci:.0f} people ({w1000_ci/city_pop:.0%} of the city population) are within 1000 meters of water points in {city}, not in UHI\")"
   ]
  },
  {
   "cell_type": "code",
   "execution_count": 576,
   "metadata": {},
   "outputs": [
    {
     "name": "stdout",
     "output_type": "stream",
     "text": [
      "48993 people (11% of the city population) are not within 500 meters of water points in Awka, not in UHI\n",
      "31843 people (7% of the city population) are not within 1000 meters of water points in Awka, not in UHI\n"
     ]
    }
   ],
   "source": [
    "print(f\"{not_w500_ci:.0f} people ({not_w500_ci/city_pop:.0%} of the city population) are not within 500 meters of water points in {city}, not in UHI\")\n",
    "print(f\"{not_w1000_ci:.0f} people ({not_w1000_ci/city_pop:.0%} of the city population) are not within 1000 meters of water points in {city}, not in UHI\")"
   ]
  },
  {
   "cell_type": "code",
   "execution_count": 577,
   "metadata": {},
   "outputs": [
    {
     "data": {
      "text/plain": [
       "364616.09696098574"
      ]
     },
     "execution_count": 577,
     "metadata": {},
     "output_type": "execute_result"
    }
   ],
   "source": [
    "heat_island_pop"
   ]
  },
  {
   "cell_type": "code",
   "execution_count": 578,
   "metadata": {},
   "outputs": [
    {
     "data": {
      "text/plain": [
       "75672.4647825764"
      ]
     },
     "execution_count": 578,
     "metadata": {},
     "output_type": "execute_result"
    }
   ],
   "source": [
    "cool_island_pop"
   ]
  },
  {
   "cell_type": "code",
   "execution_count": 579,
   "metadata": {},
   "outputs": [
    {
     "data": {
      "text/plain": [
       "118077.30581449476"
      ]
     },
     "execution_count": 579,
     "metadata": {},
     "output_type": "execute_result"
    }
   ],
   "source": [
    "w500_uhi"
   ]
  },
  {
   "cell_type": "code",
   "execution_count": 580,
   "metadata": {},
   "outputs": [
    {
     "data": {
      "text/plain": [
       "246538.79114649098"
      ]
     },
     "execution_count": 580,
     "metadata": {},
     "output_type": "execute_result"
    }
   ],
   "source": [
    "not_w500_uhi"
   ]
  },
  {
   "cell_type": "code",
   "execution_count": 581,
   "metadata": {},
   "outputs": [
    {
     "data": {
      "text/plain": [
       "True"
      ]
     },
     "execution_count": 581,
     "metadata": {},
     "output_type": "execute_result"
    }
   ],
   "source": [
    "(not_w500_uhi+w500_uhi) == heat_island_pop"
   ]
  },
  {
   "cell_type": "code",
   "execution_count": 582,
   "metadata": {},
   "outputs": [
    {
     "data": {
      "text/plain": [
       "True"
      ]
     },
     "execution_count": 582,
     "metadata": {},
     "output_type": "execute_result"
    }
   ],
   "source": [
    "(not_w500_ci+w500_ci) == cool_island_pop"
   ]
  },
  {
   "cell_type": "code",
   "execution_count": 583,
   "metadata": {},
   "outputs": [],
   "source": [
    "import squarify\n",
    "\n",
    "# these values define the coordinate system for the returned rectangles\n",
    "# the values will range from x to x + width and y to y + height\n",
    "x = 0.\n",
    "y = 0.\n",
    "width = 400.\n",
    "height = 400.\n",
    "\n",
    "values = [w500_uhi, not_w500_uhi, w500_ci, not_w500_ci]\n",
    "\n",
    "# values must be sorted descending (and positive, obviously)\n",
    "# values.sort(reverse=True)\n",
    "\n",
    "# the sum of the values must equal the total area to be laid out\n",
    "# i.e., sum(values) == width * height\n",
    "values = squarify.normalize_sizes(values, width, height)\n",
    "\n",
    "# returns a list of rectangles\n",
    "rects = squarify.squarify(values, x, y, width, height)\n",
    "\n",
    "# padded rectangles will probably visualize better for certain cases\n",
    "padded_rects = squarify.padded_squarify(values, x, y, width, height)"
   ]
  },
  {
   "cell_type": "code",
   "execution_count": null,
   "metadata": {},
   "outputs": [
    {
     "data": {
      "text/plain": [
       "<Axes: >"
      ]
     },
     "metadata": {},
     "output_type": "display_data"
    },
    {
     "data": {
      "image/png": "[encoded data removed]",
      "text/plain": [
       "<Figure size 640x480 with 1 Axes>"
      ]
     },
     "metadata": {},
     "output_type": "display_data"
    }
   ],
   "source": [
    "squarify.plot(sizes=values,  \n",
    "              label=[\"UHI-w/ water\", \"UHI-w/o water\", \"Rural w/water\", \"Rural w/o water\"],\n",
    "              )"
   ]
  },
  {
   "cell_type": "code",
   "execution_count": null,
   "metadata": {},
   "outputs": [],
   "source": []
  },
  {
   "cell_type": "markdown",
   "metadata": {},
   "source": [
    "### Nnewi"
   ]
  },
  {
   "cell_type": "code",
   "execution_count": 588,
   "metadata": {},
   "outputs": [],
   "source": [
    "city = 'Nnewi'"
   ]
  },
  {
   "cell_type": "code",
   "execution_count": 589,
   "metadata": {},
   "outputs": [
    {
     "name": "stdout",
     "output_type": "stream",
     "text": [
      "There are 397 hexes in Nnewi\n"
     ]
    },
    {
     "data": {
      "text/html": [
       "<div>\n",
       "<style scoped>\n",
       "    .dataframe tbody tr th:only-of-type {\n",
       "        vertical-align: middle;\n",
       "    }\n",
       "\n",
       "    .dataframe tbody tr th {\n",
       "        vertical-align: top;\n",
       "    }\n",
       "\n",
       "    .dataframe thead th {\n",
       "        text-align: right;\n",
       "    }\n",
       "</style>\n",
       "<table border=\"1\" class=\"dataframe\">\n",
       "  <thead>\n",
       "    <tr style=\"text-align: right;\">\n",
       "      <th></th>\n",
       "      <th>hex8</th>\n",
       "      <th>ntl_sum</th>\n",
       "      <th>pop_sum</th>\n",
       "      <th>LST mean</th>\n",
       "      <th>geometry</th>\n",
       "      <th>land cover</th>\n",
       "    </tr>\n",
       "  </thead>\n",
       "  <tbody>\n",
       "    <tr>\n",
       "      <th>201</th>\n",
       "      <td>88588b2b03fffff</td>\n",
       "      <td>412.53</td>\n",
       "      <td>1,339.34</td>\n",
       "      <td>29.46</td>\n",
       "      <td>POLYGON ((6.94011 5.92025, 6.93904 5.91616, 6....</td>\n",
       "      <td>239</td>\n",
       "    </tr>\n",
       "    <tr>\n",
       "      <th>425</th>\n",
       "      <td>88588b2ad5fffff</td>\n",
       "      <td>395.49</td>\n",
       "      <td>1,556.68</td>\n",
       "      <td>26.96</td>\n",
       "      <td>POLYGON ((7.02772 5.95166, 7.02665 5.94757, 7....</td>\n",
       "      <td>57</td>\n",
       "    </tr>\n",
       "    <tr>\n",
       "      <th>489</th>\n",
       "      <td>88588b21e5fffff</td>\n",
       "      <td>470.93</td>\n",
       "      <td>3,439.86</td>\n",
       "      <td>28.11</td>\n",
       "      <td>POLYGON ((7.03639 5.96881, 7.03532 5.96472, 7....</td>\n",
       "      <td>239</td>\n",
       "    </tr>\n",
       "    <tr>\n",
       "      <th>622</th>\n",
       "      <td>88588b2aa1fffff</td>\n",
       "      <td>327.66</td>\n",
       "      <td>642.22</td>\n",
       "      <td>24.65</td>\n",
       "      <td>POLYGON ((7.01584 5.92225, 7.01477 5.91816, 7....</td>\n",
       "      <td>58</td>\n",
       "    </tr>\n",
       "    <tr>\n",
       "      <th>699</th>\n",
       "      <td>88588b3899fffff</td>\n",
       "      <td>665.30</td>\n",
       "      <td>2,951.96</td>\n",
       "      <td>26.49</td>\n",
       "      <td>POLYGON ((6.97343 6.01589, 6.97236 6.01180, 6....</td>\n",
       "      <td>239</td>\n",
       "    </tr>\n",
       "  </tbody>\n",
       "</table>\n",
       "</div>"
      ],
      "text/plain": [
       "                hex8  ntl_sum  pop_sum  LST mean  \\\n",
       "201  88588b2b03fffff   412.53 1,339.34     29.46   \n",
       "425  88588b2ad5fffff   395.49 1,556.68     26.96   \n",
       "489  88588b21e5fffff   470.93 3,439.86     28.11   \n",
       "622  88588b2aa1fffff   327.66   642.22     24.65   \n",
       "699  88588b3899fffff   665.30 2,951.96     26.49   \n",
       "\n",
       "                                              geometry  land cover  \n",
       "201  POLYGON ((6.94011 5.92025, 6.93904 5.91616, 6....         239  \n",
       "425  POLYGON ((7.02772 5.95166, 7.02665 5.94757, 7....          57  \n",
       "489  POLYGON ((7.03639 5.96881, 7.03532 5.96472, 7....         239  \n",
       "622  POLYGON ((7.01584 5.92225, 7.01477 5.91816, 7....          58  \n",
       "699  POLYGON ((6.97343 6.01589, 6.97236 6.01180, 6....         239  "
      ]
     },
     "execution_count": 589,
     "metadata": {},
     "output_type": "execute_result"
    }
   ],
   "source": [
    "city_hex8_data = major_city_data[major_city_data['hex8'].isin(major_city_lga_hex8_dict[city])]\n",
    "print(f\"There are {city_hex8_data.shape[0]} hexes in {city}\")\n",
    "city_hex8_data.head()"
   ]
  },
  {
   "cell_type": "code",
   "execution_count": 590,
   "metadata": {},
   "outputs": [
    {
     "data": {
      "text/plain": [
       "<Axes: >"
      ]
     },
     "execution_count": 590,
     "metadata": {},
     "output_type": "execute_result"
    },
    {
     "data": {
      "image/png": "[encoded data removed]",
      "text/plain": [
       "<Figure size 640x480 with 1 Axes>"
      ]
     },
     "metadata": {},
     "output_type": "display_data"
    }
   ],
   "source": [
    "city_hex8_data['LST mean'].hist()"
   ]
  },
  {
   "cell_type": "code",
   "execution_count": null,
   "metadata": {},
   "outputs": [],
   "source": [
    "# city_hex8_data.explore()"
   ]
  },
  {
   "cell_type": "code",
   "execution_count": 591,
   "metadata": {},
   "outputs": [
    {
     "name": "stdout",
     "output_type": "stream",
     "text": [
      "There are 171 water points in Nnewi\n"
     ]
    },
    {
     "data": {
      "text/html": [
       "<div>\n",
       "<style scoped>\n",
       "    .dataframe tbody tr th:only-of-type {\n",
       "        vertical-align: middle;\n",
       "    }\n",
       "\n",
       "    .dataframe tbody tr th {\n",
       "        vertical-align: top;\n",
       "    }\n",
       "\n",
       "    .dataframe thead th {\n",
       "        text-align: right;\n",
       "    }\n",
       "</style>\n",
       "<table border=\"1\" class=\"dataframe\">\n",
       "  <thead>\n",
       "    <tr style=\"text-align: right;\">\n",
       "      <th></th>\n",
       "      <th>FID</th>\n",
       "      <th>globalid</th>\n",
       "      <th>uniq_id</th>\n",
       "      <th>timestamp</th>\n",
       "      <th>editor</th>\n",
       "      <th>scdy_edtor</th>\n",
       "      <th>wardname</th>\n",
       "      <th>wardcode</th>\n",
       "      <th>lganame</th>\n",
       "      <th>lgacode</th>\n",
       "      <th>...</th>\n",
       "      <th>alt_name</th>\n",
       "      <th>name</th>\n",
       "      <th>source</th>\n",
       "      <th>geometry</th>\n",
       "      <th>index_right</th>\n",
       "      <th>hex8</th>\n",
       "      <th>ntl_sum</th>\n",
       "      <th>pop_sum</th>\n",
       "      <th>LST mean</th>\n",
       "      <th>land cover</th>\n",
       "    </tr>\n",
       "  </thead>\n",
       "  <tbody>\n",
       "    <tr>\n",
       "      <th>2190</th>\n",
       "      <td>2191</td>\n",
       "      <td>e6f4aaa6-1e40-45b9-bb98-82c0e5bf1a12</td>\n",
       "      <td>91435</td>\n",
       "      <td>2018-09-28</td>\n",
       "      <td>racheal.olarewaju</td>\n",
       "      <td>None</td>\n",
       "      <td>Ukpor 2</td>\n",
       "      <td>ANSUKP14</td>\n",
       "      <td>Nnewi South</td>\n",
       "      <td>4015</td>\n",
       "      <td>...</td>\n",
       "      <td>None</td>\n",
       "      <td>Formula One Public Water Point</td>\n",
       "      <td>GRID</td>\n",
       "      <td>POINT (6.87821 5.96723)</td>\n",
       "      <td>38865</td>\n",
       "      <td>88588b3937fffff</td>\n",
       "      <td>1,556.76</td>\n",
       "      <td>2,535.99</td>\n",
       "      <td>27.60</td>\n",
       "      <td>240</td>\n",
       "    </tr>\n",
       "    <tr>\n",
       "      <th>19810</th>\n",
       "      <td>19811</td>\n",
       "      <td>9b6e238a-9f23-4617-a99c-b85702714f51</td>\n",
       "      <td>91324</td>\n",
       "      <td>2018-09-28</td>\n",
       "      <td>racheal.olarewaju</td>\n",
       "      <td>None</td>\n",
       "      <td>Ukpor 2</td>\n",
       "      <td>ANSUKP14</td>\n",
       "      <td>Nnewi South</td>\n",
       "      <td>4015</td>\n",
       "      <td>...</td>\n",
       "      <td>None</td>\n",
       "      <td>Obiefuna Public Water Point</td>\n",
       "      <td>GRID</td>\n",
       "      <td>POINT (6.87703 5.96653)</td>\n",
       "      <td>38865</td>\n",
       "      <td>88588b3937fffff</td>\n",
       "      <td>1,556.76</td>\n",
       "      <td>2,535.99</td>\n",
       "      <td>27.60</td>\n",
       "      <td>240</td>\n",
       "    </tr>\n",
       "    <tr>\n",
       "      <th>5552</th>\n",
       "      <td>5553</td>\n",
       "      <td>e8f636ac-a0fc-42aa-9494-1c9b85b68661</td>\n",
       "      <td>99163</td>\n",
       "      <td>2018-09-28</td>\n",
       "      <td>racheal.olarewaju</td>\n",
       "      <td>None</td>\n",
       "      <td>Uruagu 2</td>\n",
       "      <td>ANSNNE09</td>\n",
       "      <td>Nnewi North</td>\n",
       "      <td>4014</td>\n",
       "      <td>...</td>\n",
       "      <td>None</td>\n",
       "      <td>Union Secondary School Water Point</td>\n",
       "      <td>GRID</td>\n",
       "      <td>POINT (6.87813 6.03662)</td>\n",
       "      <td>35544</td>\n",
       "      <td>88588b3b13fffff</td>\n",
       "      <td>1,045.35</td>\n",
       "      <td>3,271.78</td>\n",
       "      <td>26.24</td>\n",
       "      <td>240</td>\n",
       "    </tr>\n",
       "    <tr>\n",
       "      <th>25237</th>\n",
       "      <td>25238</td>\n",
       "      <td>e030200e-dcbb-4ec1-85e2-9b173f36870f</td>\n",
       "      <td>102645</td>\n",
       "      <td>2018-09-28</td>\n",
       "      <td>racheal.olarewaju</td>\n",
       "      <td>None</td>\n",
       "      <td>Uruagu 2</td>\n",
       "      <td>ANSNNE09</td>\n",
       "      <td>Nnewi North</td>\n",
       "      <td>4014</td>\n",
       "      <td>...</td>\n",
       "      <td>None</td>\n",
       "      <td>Akaboukwu Ichi Water Point</td>\n",
       "      <td>GRID</td>\n",
       "      <td>POINT (6.88102 6.03575)</td>\n",
       "      <td>35544</td>\n",
       "      <td>88588b3b13fffff</td>\n",
       "      <td>1,045.35</td>\n",
       "      <td>3,271.78</td>\n",
       "      <td>26.24</td>\n",
       "      <td>240</td>\n",
       "    </tr>\n",
       "    <tr>\n",
       "      <th>5558</th>\n",
       "      <td>5559</td>\n",
       "      <td>3364fdbb-3665-496c-a7ee-f47cba23c31a</td>\n",
       "      <td>99170</td>\n",
       "      <td>2018-09-28</td>\n",
       "      <td>racheal.olarewaju</td>\n",
       "      <td>None</td>\n",
       "      <td>Uruagu 2</td>\n",
       "      <td>ANSNNE09</td>\n",
       "      <td>Nnewi North</td>\n",
       "      <td>4014</td>\n",
       "      <td>...</td>\n",
       "      <td>None</td>\n",
       "      <td>Public Water Point Uruagu Nnewi</td>\n",
       "      <td>GRID</td>\n",
       "      <td>POINT (6.87614 6.02759)</td>\n",
       "      <td>789</td>\n",
       "      <td>88588b386dfffff</td>\n",
       "      <td>1,139.38</td>\n",
       "      <td>3,599.81</td>\n",
       "      <td>27.32</td>\n",
       "      <td>240</td>\n",
       "    </tr>\n",
       "  </tbody>\n",
       "</table>\n",
       "<p>5 rows × 23 columns</p>\n",
       "</div>"
      ],
      "text/plain": [
       "         FID                              globalid  uniq_id   timestamp  \\\n",
       "2190    2191  e6f4aaa6-1e40-45b9-bb98-82c0e5bf1a12    91435  2018-09-28   \n",
       "19810  19811  9b6e238a-9f23-4617-a99c-b85702714f51    91324  2018-09-28   \n",
       "5552    5553  e8f636ac-a0fc-42aa-9494-1c9b85b68661    99163  2018-09-28   \n",
       "25237  25238  e030200e-dcbb-4ec1-85e2-9b173f36870f   102645  2018-09-28   \n",
       "5558    5559  3364fdbb-3665-496c-a7ee-f47cba23c31a    99170  2018-09-28   \n",
       "\n",
       "                  editor scdy_edtor  wardname  wardcode      lganame lgacode  \\\n",
       "2190   racheal.olarewaju       None   Ukpor 2  ANSUKP14  Nnewi South    4015   \n",
       "19810  racheal.olarewaju       None   Ukpor 2  ANSUKP14  Nnewi South    4015   \n",
       "5552   racheal.olarewaju       None  Uruagu 2  ANSNNE09  Nnewi North    4014   \n",
       "25237  racheal.olarewaju       None  Uruagu 2  ANSNNE09  Nnewi North    4014   \n",
       "5558   racheal.olarewaju       None  Uruagu 2  ANSNNE09  Nnewi North    4014   \n",
       "\n",
       "       ... alt_name                                name source  \\\n",
       "2190   ...     None      Formula One Public Water Point   GRID   \n",
       "19810  ...     None         Obiefuna Public Water Point   GRID   \n",
       "5552   ...     None  Union Secondary School Water Point   GRID   \n",
       "25237  ...     None          Akaboukwu Ichi Water Point   GRID   \n",
       "5558   ...     None     Public Water Point Uruagu Nnewi   GRID   \n",
       "\n",
       "                      geometry index_right             hex8  ntl_sum  pop_sum  \\\n",
       "2190   POINT (6.87821 5.96723)       38865  88588b3937fffff 1,556.76 2,535.99   \n",
       "19810  POINT (6.87703 5.96653)       38865  88588b3937fffff 1,556.76 2,535.99   \n",
       "5552   POINT (6.87813 6.03662)       35544  88588b3b13fffff 1,045.35 3,271.78   \n",
       "25237  POINT (6.88102 6.03575)       35544  88588b3b13fffff 1,045.35 3,271.78   \n",
       "5558   POINT (6.87614 6.02759)         789  88588b386dfffff 1,139.38 3,599.81   \n",
       "\n",
       "      LST mean  land cover  \n",
       "2190     27.60         240  \n",
       "19810    27.60         240  \n",
       "5552     26.24         240  \n",
       "25237    26.24         240  \n",
       "5558     27.32         240  \n",
       "\n",
       "[5 rows x 23 columns]"
      ]
     },
     "execution_count": 591,
     "metadata": {},
     "output_type": "execute_result"
    }
   ],
   "source": [
    "city_water_points = water_points_ss[water_points_ss['hex8'].isin(major_city_lga_hex8_dict[city])]\n",
    "print(f\"There are {city_water_points.shape[0]} water points in {city}\")\n",
    "city_water_points.head()"
   ]
  },
  {
   "cell_type": "code",
   "execution_count": 592,
   "metadata": {},
   "outputs": [],
   "source": [
    "# major_cities.to_parquet('../data/urban_areas.parquet')"
   ]
  },
  {
   "cell_type": "code",
   "execution_count": 593,
   "metadata": {},
   "outputs": [],
   "source": [
    "heat_island = city_hex8_data[(city_hex8_data['LST mean']>=28)|(city_hex8_data['land cover'].isin([239,240,241,242,243,249]))]\n",
    "cool_island = city_hex8_data[~city_hex8_data['hex8'].isin(heat_island['hex8'])]"
   ]
  },
  {
   "cell_type": "code",
   "execution_count": 594,
   "metadata": {},
   "outputs": [
    {
     "data": {
      "text/plain": [
       "297"
      ]
     },
     "execution_count": 594,
     "metadata": {},
     "output_type": "execute_result"
    }
   ],
   "source": [
    "heat_island.shape[0]"
   ]
  },
  {
   "cell_type": "code",
   "execution_count": 595,
   "metadata": {},
   "outputs": [
    {
     "data": {
      "text/plain": [
       "100"
      ]
     },
     "execution_count": 595,
     "metadata": {},
     "output_type": "execute_result"
    }
   ],
   "source": [
    "cool_island.shape[0]"
   ]
  },
  {
   "cell_type": "code",
   "execution_count": 596,
   "metadata": {},
   "outputs": [
    {
     "data": {
      "text/plain": [
       "27.856506530306998"
      ]
     },
     "execution_count": 596,
     "metadata": {},
     "output_type": "execute_result"
    }
   ],
   "source": [
    "heat_island['LST mean'].mean()"
   ]
  },
  {
   "cell_type": "code",
   "execution_count": 597,
   "metadata": {},
   "outputs": [
    {
     "data": {
      "text/plain": [
       "25.36054066074235"
      ]
     },
     "execution_count": 597,
     "metadata": {},
     "output_type": "execute_result"
    }
   ],
   "source": [
    "cool_island['LST mean'].mean()"
   ]
  },
  {
   "cell_type": "code",
   "execution_count": 598,
   "metadata": {},
   "outputs": [],
   "source": [
    "heat_island['temp variance'] = heat_island['LST mean'] - cool_island['LST mean'].mean()"
   ]
  },
  {
   "cell_type": "code",
   "execution_count": 599,
   "metadata": {},
   "outputs": [],
   "source": [
    "heat_island = heat_island[heat_island['temp variance']>0]"
   ]
  },
  {
   "cell_type": "code",
   "execution_count": 600,
   "metadata": {},
   "outputs": [
    {
     "data": {
      "text/plain": [
       "<Axes: >"
      ]
     },
     "execution_count": 600,
     "metadata": {},
     "output_type": "execute_result"
    },
    {
     "data": {
      "image/png": "[encoded data removed]",
      "text/plain": [
       "<Figure size 640x480 with 1 Axes>"
      ]
     },
     "metadata": {},
     "output_type": "display_data"
    }
   ],
   "source": [
    "heat_island['temp variance'].hist()"
   ]
  },
  {
   "cell_type": "code",
   "execution_count": 601,
   "metadata": {},
   "outputs": [],
   "source": [
    "from itertools import combinations"
   ]
  },
  {
   "cell_type": "code",
   "execution_count": 602,
   "metadata": {},
   "outputs": [],
   "source": [
    "es = list(combinations(heat_island['hex8'].to_list(), r=2))\n",
    "ws = [h3.h3_distance(h1, h2) for h1,h2 in es]\n",
    "\n",
    "ew = dict(zip(es,ws))"
   ]
  },
  {
   "cell_type": "code",
   "execution_count": 603,
   "metadata": {},
   "outputs": [],
   "source": [
    "ew_df = pd.DataFrame.from_dict(ew, orient='index')\n",
    "ew_df = ew_df[ew_df[0]==1]"
   ]
  },
  {
   "cell_type": "code",
   "execution_count": 604,
   "metadata": {},
   "outputs": [],
   "source": [
    "ew = dict(zip(ew_df.index.to_list(),ew_df[0].to_list()))"
   ]
  },
  {
   "cell_type": "code",
   "execution_count": 605,
   "metadata": {},
   "outputs": [],
   "source": [
    "import networkx as nx\n",
    "g = nx.Graph()\n",
    "g.add_edges_from(ew)"
   ]
  },
  {
   "cell_type": "code",
   "execution_count": 606,
   "metadata": {},
   "outputs": [
    {
     "data": {
      "text/plain": [
       "276"
      ]
     },
     "execution_count": 606,
     "metadata": {},
     "output_type": "execute_result"
    }
   ],
   "source": [
    "largest_cc = max(nx.connected_components(g), key=len)\n",
    "len(largest_cc)"
   ]
  },
  {
   "cell_type": "code",
   "execution_count": 607,
   "metadata": {},
   "outputs": [
    {
     "data": {
      "text/plain": [
       "283"
      ]
     },
     "execution_count": 607,
     "metadata": {},
     "output_type": "execute_result"
    }
   ],
   "source": [
    "heat_island.shape[0]"
   ]
  },
  {
   "cell_type": "code",
   "execution_count": 608,
   "metadata": {},
   "outputs": [],
   "source": [
    "heat_island = heat_island[heat_island['hex8'].isin(largest_cc)]\n",
    "cool_island = city_hex8_data[~city_hex8_data['hex8'].isin(heat_island['hex8'])]"
   ]
  },
  {
   "cell_type": "code",
   "execution_count": 609,
   "metadata": {},
   "outputs": [
    {
     "data": {
      "text/plain": [
       "<Axes: >"
      ]
     },
     "execution_count": 609,
     "metadata": {},
     "output_type": "execute_result"
    },
    {
     "data": {
      "image/png": "[encoded data removed]",
      "text/plain": [
       "<Figure size 640x480 with 1 Axes>"
      ]
     },
     "metadata": {},
     "output_type": "display_data"
    }
   ],
   "source": [
    "base = city_hex8_data.plot(fc='grey')\n",
    "heat_island.plot(column='temp variance', ax=base, cmap='Reds')"
   ]
  },
  {
   "cell_type": "markdown",
   "metadata": {},
   "source": [
    "What's the population of the city? What fraction of this population are affected by urban heat island?"
   ]
  },
  {
   "cell_type": "code",
   "execution_count": 610,
   "metadata": {},
   "outputs": [],
   "source": [
    "city_pop = city_hex8_data['pop_sum'].sum()\n",
    "heat_island_pop = heat_island['pop_sum'].sum()"
   ]
  },
  {
   "cell_type": "code",
   "execution_count": 611,
   "metadata": {},
   "outputs": [
    {
     "name": "stdout",
     "output_type": "stream",
     "text": [
      "There are 719874 population in city of Nnewi, 621595 (86%) live in regions with urban heat island\n"
     ]
    }
   ],
   "source": [
    "print(f\"There are {city_pop :.0f} population in city of {city}, {heat_island_pop:.0f} ({heat_island_pop/city_pop:.0%}) live in regions with urban heat island\")"
   ]
  },
  {
   "cell_type": "markdown",
   "metadata": {},
   "source": [
    "How many water points are there in the city? How many of them are in urban heat islands?"
   ]
  },
  {
   "cell_type": "code",
   "execution_count": 612,
   "metadata": {},
   "outputs": [],
   "source": [
    "city_water_points_uhi = city_water_points[city_water_points['hex8'].isin(heat_island['hex8'])]"
   ]
  },
  {
   "cell_type": "code",
   "execution_count": 613,
   "metadata": {},
   "outputs": [
    {
     "name": "stdout",
     "output_type": "stream",
     "text": [
      "There are 171 water points in city of Nnewi, 151 (88%) of them are in urban heat islands\n"
     ]
    }
   ],
   "source": [
    "print(f\"There are {city_water_points.shape[0]:.0f} water points in city of {city}, {city_water_points_uhi.shape[0]:.0f} \\\n",
    "({city_water_points_uhi.shape[0]/city_water_points.shape[0]:.0%}) of them are in urban heat islands\")"
   ]
  },
  {
   "cell_type": "markdown",
   "metadata": {},
   "source": [
    "How many population are within 500m of water points?\n",
    "\n",
    "How many population are within 1km of water points?\n",
    "\n",
    "Among population affected by heat island, how many are within 500m of water points?\n",
    "\n",
    "Among population affected by heat island, how many are within 500m of water points?"
   ]
  },
  {
   "cell_type": "code",
   "execution_count": 614,
   "metadata": {},
   "outputs": [
    {
     "data": {
      "text/plain": [
       "397"
      ]
     },
     "execution_count": 614,
     "metadata": {},
     "output_type": "execute_result"
    }
   ],
   "source": [
    "city_hex8_data.shape[0]"
   ]
  },
  {
   "cell_type": "code",
   "execution_count": 615,
   "metadata": {},
   "outputs": [
    {
     "data": {
      "text/plain": [
       "(320, 6)"
      ]
     },
     "execution_count": 615,
     "metadata": {},
     "output_type": "execute_result"
    }
   ],
   "source": [
    "# neighbour hex as 1000m coverage\n",
    "neighbor_hex = list(set([h for hl in city_water_points['hex8'].apply(lambda x: h3.k_ring(x, 1)).to_list() for h in hl]))\n",
    "wp_covered_1000 = city_hex8_data[city_hex8_data['hex8'].isin(neighbor_hex)]\n",
    "wp_covered_1000.shape"
   ]
  },
  {
   "cell_type": "code",
   "execution_count": 616,
   "metadata": {},
   "outputs": [],
   "source": [
    "# within 500m\n",
    "p_w500 = city_hex8_data[city_hex8_data['hex8'].isin(city_water_points['hex8'])]['pop_sum'].sum()\n",
    "\n",
    "# within 1000m\n",
    "p_w1000 = city_hex8_data[city_hex8_data['hex8'].isin(wp_covered_1000['hex8'])]['pop_sum'].sum()\n",
    "\n",
    "# within 500m|UHI\n",
    "w500_uhi = heat_island[heat_island['hex8'].isin(city_water_points['hex8'])]['pop_sum'].sum()\n",
    "\n",
    "not_w500_uhi = heat_island_pop-w500_uhi\n",
    "\n",
    "# within 1000m|UHI\n",
    "w1000_uhi = heat_island[heat_island['hex8'].isin(wp_covered_1000['hex8'])]['pop_sum'].sum()\n",
    "\n",
    "not_w1000_uhi = heat_island_pop-w1000_uhi\n"
   ]
  },
  {
   "cell_type": "code",
   "execution_count": 617,
   "metadata": {},
   "outputs": [],
   "source": [
    "cool_island_pop = cool_island['pop_sum'].sum()\n",
    "\n",
    "# within 500m\n",
    "p_w500 = city_hex8_data[city_hex8_data['hex8'].isin(city_water_points['hex8'])]['pop_sum'].sum()\n",
    "\n",
    "# within 1000m\n",
    "p_w1000 = city_hex8_data[city_hex8_data['hex8'].isin(wp_covered_1000['hex8'])]['pop_sum'].sum()\n",
    "\n",
    "# within 500m|rural\n",
    "w500_ci = cool_island[cool_island['hex8'].isin(city_water_points['hex8'])]['pop_sum'].sum()\n",
    "\n",
    "not_w500_ci = cool_island_pop-w500_ci\n",
    "\n",
    "# within 1000m|rural\n",
    "w1000_ci = cool_island[cool_island['hex8'].isin(wp_covered_1000['hex8'])]['pop_sum'].sum()\n",
    "\n",
    "not_w1000_ci = cool_island_pop-w1000_ci\n"
   ]
  },
  {
   "cell_type": "code",
   "execution_count": 618,
   "metadata": {},
   "outputs": [
    {
     "name": "stdout",
     "output_type": "stream",
     "text": [
      "261747 people (36% of the city population) are within 500 meters of water points in Nnewi. \n",
      "636272 people (88% of the city population) are within 1000 meters of water points in Nnewi. \n"
     ]
    }
   ],
   "source": [
    "print(f\"{p_w500:.0f} people ({p_w500/city_pop:.0%} of the city population) are within 500 meters of water points in {city}. \")\n",
    "print(f\"{p_w1000:.0f} people ({p_w1000/city_pop:.0%} of the city population) are within 1000 meters of water points in {city}. \")"
   ]
  },
  {
   "cell_type": "code",
   "execution_count": 619,
   "metadata": {},
   "outputs": [
    {
     "name": "stdout",
     "output_type": "stream",
     "text": [
      "242967 people (34% of the city population) are within 500 meters of water points in Nnewi, while also suffer from UHI\n",
      "564488 people (78% of the city population) are within 1000 meters of water points in Nnewi, while also suffer from UHI\n"
     ]
    }
   ],
   "source": [
    "print(f\"{w500_uhi:.0f} people ({w500_uhi/city_pop:.0%} of the city population) are within 500 meters of water points in {city}, while also suffer from UHI\")\n",
    "print(f\"{w1000_uhi:.0f} people ({w1000_uhi/city_pop:.0%} of the city population) are within 1000 meters of water points in {city}, while also suffer from UHI\")"
   ]
  },
  {
   "cell_type": "code",
   "execution_count": 620,
   "metadata": {},
   "outputs": [
    {
     "name": "stdout",
     "output_type": "stream",
     "text": [
      "378628 people (53% of the city population) are not within 500 meters of water points in Nnewi, while also suffer from UHI\n",
      "57107 people (8% of the city population) are not within 1000 meters of water points in Nnewi, while also suffer from UHI\n"
     ]
    }
   ],
   "source": [
    "print(f\"{not_w500_uhi:.0f} people ({not_w500_uhi/city_pop:.0%} of the city population) are not within 500 meters of water points in {city}, while also suffer from UHI\")\n",
    "print(f\"{not_w1000_uhi:.0f} people ({not_w1000_uhi/city_pop:.0%} of the city population) are not within 1000 meters of water points in {city}, while also suffer from UHI\")"
   ]
  },
  {
   "cell_type": "code",
   "execution_count": 621,
   "metadata": {},
   "outputs": [
    {
     "name": "stdout",
     "output_type": "stream",
     "text": [
      "261747 people (36% of the city population) are within 500 meters of water points in Nnewi. \n",
      "636272 people (88% of the city population) are within 1000 meters of water points in Nnewi. \n"
     ]
    }
   ],
   "source": [
    "print(f\"{p_w500:.0f} people ({p_w500/city_pop:.0%} of the city population) are within 500 meters of water points in {city}. \")\n",
    "print(f\"{p_w1000:.0f} people ({p_w1000/city_pop:.0%} of the city population) are within 1000 meters of water points in {city}. \")"
   ]
  },
  {
   "cell_type": "code",
   "execution_count": 622,
   "metadata": {},
   "outputs": [
    {
     "name": "stdout",
     "output_type": "stream",
     "text": [
      "18779 people (3% of the city population) are within 500 meters of water points in Nnewi, not in UHI\n",
      "71784 people (10% of the city population) are within 1000 meters of water points in Nnewi, not in UHI\n"
     ]
    }
   ],
   "source": [
    "print(f\"{w500_ci:.0f} people ({w500_ci/city_pop:.0%} of the city population) are within 500 meters of water points in {city}, not in UHI\")\n",
    "print(f\"{w1000_ci:.0f} people ({w1000_ci/city_pop:.0%} of the city population) are within 1000 meters of water points in {city}, not in UHI\")"
   ]
  },
  {
   "cell_type": "code",
   "execution_count": 623,
   "metadata": {},
   "outputs": [
    {
     "name": "stdout",
     "output_type": "stream",
     "text": [
      "79499 people (11% of the city population) are not within 500 meters of water points in Nnewi, not in UHI\n",
      "26494 people (4% of the city population) are not within 1000 meters of water points in Nnewi, not in UHI\n"
     ]
    }
   ],
   "source": [
    "print(f\"{not_w500_ci:.0f} people ({not_w500_ci/city_pop:.0%} of the city population) are not within 500 meters of water points in {city}, not in UHI\")\n",
    "print(f\"{not_w1000_ci:.0f} people ({not_w1000_ci/city_pop:.0%} of the city population) are not within 1000 meters of water points in {city}, not in UHI\")"
   ]
  },
  {
   "cell_type": "code",
   "execution_count": 624,
   "metadata": {},
   "outputs": [
    {
     "data": {
      "text/plain": [
       "621595.0359924024"
      ]
     },
     "execution_count": 624,
     "metadata": {},
     "output_type": "execute_result"
    }
   ],
   "source": [
    "heat_island_pop"
   ]
  },
  {
   "cell_type": "code",
   "execution_count": 625,
   "metadata": {},
   "outputs": [
    {
     "data": {
      "text/plain": [
       "98278.85168472916"
      ]
     },
     "execution_count": 625,
     "metadata": {},
     "output_type": "execute_result"
    }
   ],
   "source": [
    "cool_island_pop"
   ]
  },
  {
   "cell_type": "code",
   "execution_count": 626,
   "metadata": {},
   "outputs": [
    {
     "data": {
      "text/plain": [
       "242967.30227584252"
      ]
     },
     "execution_count": 626,
     "metadata": {},
     "output_type": "execute_result"
    }
   ],
   "source": [
    "w500_uhi"
   ]
  },
  {
   "cell_type": "code",
   "execution_count": 627,
   "metadata": {},
   "outputs": [
    {
     "data": {
      "text/plain": [
       "378627.73371655983"
      ]
     },
     "execution_count": 627,
     "metadata": {},
     "output_type": "execute_result"
    }
   ],
   "source": [
    "not_w500_uhi"
   ]
  },
  {
   "cell_type": "code",
   "execution_count": 628,
   "metadata": {},
   "outputs": [
    {
     "data": {
      "text/plain": [
       "True"
      ]
     },
     "execution_count": 628,
     "metadata": {},
     "output_type": "execute_result"
    }
   ],
   "source": [
    "(not_w500_uhi+w500_uhi) == heat_island_pop"
   ]
  },
  {
   "cell_type": "code",
   "execution_count": 629,
   "metadata": {},
   "outputs": [
    {
     "data": {
      "text/plain": [
       "True"
      ]
     },
     "execution_count": 629,
     "metadata": {},
     "output_type": "execute_result"
    }
   ],
   "source": [
    "(not_w500_ci+w500_ci) == cool_island_pop"
   ]
  },
  {
   "cell_type": "code",
   "execution_count": 630,
   "metadata": {},
   "outputs": [],
   "source": [
    "import squarify\n",
    "\n",
    "# these values define the coordinate system for the returned rectangles\n",
    "# the values will range from x to x + width and y to y + height\n",
    "x = 0.\n",
    "y = 0.\n",
    "width = 400.\n",
    "height = 400.\n",
    "\n",
    "values = [w500_uhi, not_w500_uhi, w500_ci, not_w500_ci]\n",
    "\n",
    "# values must be sorted descending (and positive, obviously)\n",
    "# values.sort(reverse=True)\n",
    "\n",
    "# the sum of the values must equal the total area to be laid out\n",
    "# i.e., sum(values) == width * height\n",
    "values = squarify.normalize_sizes(values, width, height)\n",
    "\n",
    "# returns a list of rectangles\n",
    "rects = squarify.squarify(values, x, y, width, height)\n",
    "\n",
    "# padded rectangles will probably visualize better for certain cases\n",
    "padded_rects = squarify.padded_squarify(values, x, y, width, height)"
   ]
  },
  {
   "cell_type": "code",
   "execution_count": 631,
   "metadata": {},
   "outputs": [
    {
     "data": {
      "text/plain": [
       "<Axes: >"
      ]
     },
     "execution_count": 631,
     "metadata": {},
     "output_type": "execute_result"
    },
    {
     "data": {
      "image/png": "[encoded data removed]",
      "text/plain": [
       "<Figure size 640x480 with 1 Axes>"
      ]
     },
     "metadata": {},
     "output_type": "display_data"
    }
   ],
   "source": [
    "squarify.plot(sizes=values,  \n",
    "              label=[\"UHI-w/ water\", \"UHI-w/o water\", \"Rural w/water\", \"Rural w/o water\"],\n",
    "              )"
   ]
  },
  {
   "cell_type": "code",
   "execution_count": null,
   "metadata": {},
   "outputs": [],
   "source": []
  }
 ],
 "metadata": {
  "kernelspec": {
   "display_name": "spatial2",
   "language": "python",
   "name": "python3"
  },
  "language_info": {
   "codemirror_mode": {
    "name": "ipython",
    "version": 3
   },
   "file_extension": ".py",
   "mimetype": "text/x-python",
   "name": "python",
   "nbconvert_exporter": "python",
   "pygments_lexer": "ipython3",
   "version": "3.10.10"
  }
 },
 "nbformat": 4,
 "nbformat_minor": 2
}
